{
 "cells": [
  {
   "cell_type": "markdown",
   "id": "33888b09",
   "metadata": {},
   "source": [
    "# STAT 450: Case Studies in Statistics\n",
    "\n",
    "#  Case study wrapup: Relation between mRNA and protein levels "
   ]
  },
  {
   "cell_type": "markdown",
   "id": "4fa82271",
   "metadata": {},
   "source": [
    "## Review\n",
    "\n",
    "### Recall the data:\n",
    "- tens of thousands of genes\n",
    "- 12 tissues per gene\n",
    "- each tissue and gene combo yields:  mRNA measurement, protein expression measurement\n",
    "- some values of mRNA and protein levels are missing\n",
    "- only 1,392 genes had no missing values for all 12 mRNA-protein pairs \n",
    "\n",
    "### Recall the client's claim\n",
    "\n",
    "Using the median ratio of protein to mRNA levels per gene as a proxy for translation rates, our data show that [...] ***it now becomes possible to predict protein abundance in any given tissue with good accuracy from the measured mRNA abundance***\n"
   ]
  },
  {
   "cell_type": "markdown",
   "id": "2483323a",
   "metadata": {},
   "source": [
    "In this notebook, we explore our client's model: \n",
    "\n",
    "1. how does it work?\n",
    "2. how do we interpret it?\n",
    "3. is it appropriate?"
   ]
  },
  {
   "cell_type": "markdown",
   "id": "e083c04f",
   "metadata": {},
   "source": [
    "### Load libraries and read in the data file\n",
    "\n",
    "Let's load our data set `data/tidy_data_valuesavailable.csv`, which we saved earlier after wrangling the two original data files, and counting up how many tissues each gene has complete pairs of mrna and protein values available. "
   ]
  },
  {
   "cell_type": "code",
   "execution_count": null,
   "id": "1558538a",
   "metadata": {},
   "outputs": [],
   "source": [
    "# load libraries\n",
    "library(tidyverse)\n",
    "library(broom)\n",
    "theme_set(theme_bw())\n",
    "\n",
    "# load data\n",
    "data_source <- \n",
    "    read_csv(\"data/tidy_data_valuesavailable.csv\",show_col_types = FALSE) |>\n",
    "    rename(values_available = values.available)\n",
    "\n",
    "head(data_source)"
   ]
  },
  {
   "cell_type": "markdown",
   "id": "1b6feb1a",
   "metadata": {},
   "source": [
    "### Subset to only genes with complete data\n",
    "\n",
    "First we'll subset the data to keep only genes that have observations of both mrna and protein for all 12 tissues. "
   ]
  },
  {
   "cell_type": "code",
   "execution_count": null,
   "id": "990d3dd1",
   "metadata": {},
   "outputs": [],
   "source": [
    "genes_complete <- \n",
    "    data_source |>\n",
    "    filter(values_available == 12)\n",
    "\n",
    "head(genes_complete)"
   ]
  },
  {
   "cell_type": "markdown",
   "id": "e03718ac",
   "metadata": {},
   "source": [
    "## Part 1.  How does the client's model work? \n",
    "\n",
    "**Client's claim:**\n",
    "\n",
    "> Using the median ratio of protein to mRNA levels per gene as a proxy for translation rates, our data show that [...] ***it now becomes possible to predict protein abundance in any given tissue with good accuracy from the measured mRNA abundance***\n",
    "\n",
    "**Client's Questions:**\n",
    "\n",
    "- Is our analysis statistically correct?\n",
    "- Is there another way to analyze the data? If so, do we get similar results?\n",
    "\n",
    "#### **Our part**\n",
    "\n",
    "Think about:\n",
    "1. **What did the client do?**\n",
    "    - In this case, what is this median ratio approach? \n",
    "    - Can we reproduce their analysis?  \n",
    "\n",
    "<br>\n",
    "\n",
    "2. **Is there another (better) way to do the analysis?**\n",
    "    - Do we get the same conclusions?\n",
    "\n",
    "----------------------------------------------------------------------------"
   ]
  },
  {
   "cell_type": "markdown",
   "id": "0e27768f",
   "metadata": {},
   "source": [
    "### What did the client do?\n",
    "\n",
    "Let $g$ stand for the gene and $t$ stand for the tissue type. So, ${\\text{protein}}_{gt} $  is the protein level in gene $g$ in tissue $t$.\n",
    "\n",
    "The client's model equation: \n",
    "$$\n",
    "{\\rm{protein}}_{gt}  \\approx  \\beta_g \\times ({\\rm{ mRNA }}_{gt}) $$\n",
    "\n",
    "The client's estimator: \n",
    "$$\\hat{\\beta}_g  = {\\rm{  median ~of~ the ~12 ~ratios~of~}} \n",
    "\\frac{{\\rm{protein}}_{gt}}{ {\\rm{ mRNA }}_{gt}} $$\n",
    "\n",
    "The client predicts:\n",
    "\n",
    "$$\n",
    "\\widehat{{\\rm{protein}}}_{gt}  = \\hat{\\beta}_g \\times ({\\rm{ mRNA }}_{gt})$$\n",
    "\n",
    "Let's try it for our 1,392 genes with no missing values."
   ]
  },
  {
   "cell_type": "code",
   "execution_count": null,
   "id": "a846fb60",
   "metadata": {},
   "outputs": [],
   "source": [
    "genes_client <- \n",
    "    genes_complete |>\n",
    "    group_by(gene) |>\n",
    "    mutate(ratio = protein / mrna, \n",
    "           ratio_med = median(ratio, na.rm = TRUE),\n",
    "           pred_model_client = mrna * ratio_med)\n",
    "\n",
    "head(genes_client)"
   ]
  },
  {
   "cell_type": "markdown",
   "id": "608b0e14",
   "metadata": {},
   "source": [
    "### Let's plot the data with the estimated lines\n",
    "\n",
    "`geom_abline` adds a line/lines with given slopes, intercepts.\n",
    "- The length of the intercept must be 1 or the number of rows in the tibble.  \n",
    "- Same for slope.\n",
    "\n",
    "<h5 style=\"color:red; font-weight:bold;\">Exercise: make a plot for 4 random genes:  scatterplot plus client's line</h5> "
   ]
  },
  {
   "cell_type": "code",
   "execution_count": null,
   "id": "a06f9574",
   "metadata": {},
   "outputs": [],
   "source": [
    "## your code goes here (fill in the ...)\n",
    "\n",
    "set.seed(450) # don't change this line - for reproducibility of selecting 4 random genes\n",
    "\n",
    "genes_client |> \n",
    "    ungroup() |>\n",
    "    filter(gene %in% sample(unique(gene), 4)) |>\n",
    "    ggplot(aes(x = ..., y = ...)) + \n",
    "    geom_...() + \n",
    "    facet_wrap(~..., scales = 'free') + \n",
    "    geom_abline(aes(intercept = 0, slope = ratio_med))"
   ]
  },
  {
   "cell_type": "markdown",
   "id": "e607ba40",
   "metadata": {},
   "source": [
    "Do the lines go through the origins? \n",
    "\n",
    "<h5 style=\"color:red; font-weight:bold;\">Exercise: Make the same plot but include the origin to check.</h5> \n",
    "\n",
    "Trick:  just add `xlim(0,NA)` and `ylim(0,NA)`"
   ]
  },
  {
   "cell_type": "code",
   "execution_count": null,
   "id": "315f9675",
   "metadata": {},
   "outputs": [],
   "source": [
    "## your code goes here\n"
   ]
  },
  {
   "cell_type": "markdown",
   "id": "c37e67fa",
   "metadata": {},
   "source": [
    "Why didn't we start off considering the client's approach?\n",
    "\n",
    "- EDA showed us that intercepts were NOT always equal to 0  \n",
    "\n",
    "- least squares regression is preferred for it's theoretical framework (can perform hypothesis tests!)"
   ]
  },
  {
   "cell_type": "markdown",
   "id": "2d0fc2c4",
   "metadata": {},
   "source": [
    "## Part 2: How do we interpret the client's model?\n",
    "\n",
    "Now that we see how these lines were estimated, let's think about what they mean. They are a sort of regression line with no intercept, **but** the slopes are calculated in a very peculiar way (NOT OLS). \n",
    "\n",
    "### Interpretation A of claim: gene by gene analysis \n",
    "\n",
    ">\"Using the median ratio of protein to mRNA levels per gene as a proxy for translation rates\"\n",
    "\n",
    "For a specific gene, can we predict the protein level from mRNA across all 12 tissues?  \n",
    "\n",
    "We've explored gene-by-gene linear least squares regression analysis in previous lectures, and found:\n",
    "\n",
    "- many gene correlations between mRNA and protein were small (some negative, some positive)\n",
    "- there was very little evidence for a linear relationship between mRNA and protein, even after log-transformation\n",
    "- predictive ability was poor when assessed with cross-validation\n",
    "\n",
    "As a review, here's one of the models we considered, which includes an intercept, and allows for gene-specific variances:"
   ]
  },
  {
   "cell_type": "code",
   "execution_count": null,
   "id": "daeb38d8",
   "metadata": {},
   "outputs": [],
   "source": [
    "lm_gene <- genes_complete %>%\n",
    "  group_by(gene) %>%\n",
    "  group_modify(~ tidy(lm(protein ~ mrna, data = .x))) \n",
    "lm_gene %>% head()"
   ]
  },
  {
   "cell_type": "markdown",
   "id": "3c8c68ca",
   "metadata": {},
   "source": [
    "How many genes showed a significant linear relationship at 0.05 level after adjustment for multiple comparisons (using FDR = \"False Discovery Rate\")?"
   ]
  },
  {
   "cell_type": "code",
   "execution_count": null,
   "id": "ad827be6",
   "metadata": {},
   "outputs": [],
   "source": [
    "p_gene <- lm_gene %>% \n",
    "  filter(grepl(\"mrna\", term)) %>% \n",
    "  pull(p.value) \n",
    "\n",
    "sum(p.adjust(p_gene, method = \"BH\") < ...)"
   ]
  },
  {
   "cell_type": "markdown",
   "id": "e0aade7e-7e3e-4a58-8e41-37576948ab64",
   "metadata": {},
   "source": [
    "Aside: FDR controls the expected proportion of hypothesis rejections that are false positives. This is less conservative than something like Bonferroni, which controls the family-wise error rate (FWER): the probability of making at least one false positive error across all tests conducted."
   ]
  },
  {
   "cell_type": "markdown",
   "id": "14a7e53d-9465-4b0c-8f4e-f40da7c93028",
   "metadata": {},
   "source": [
    "An informative diagnostic for examining validity of p-values across many (in this case thousands) of tests is a histogram of the p-values. Under the null, this should be uniformly distributed between 0 and 1. An enrichment of significant tests would show up as a spike near zero. Any other patterns can indicate that things have gone awry (e.g. some assumptions of the test are violated). [This blog post](http://varianceexplained.org/statistics/interpreting-pvalue-histogram/) on this issue is a great resource. "
   ]
  },
  {
   "cell_type": "code",
   "execution_count": null,
   "id": "33f32b18-342f-4566-876b-ee18191824aa",
   "metadata": {},
   "outputs": [],
   "source": [
    "hist(p_gene)"
   ]
  },
  {
   "cell_type": "markdown",
   "id": "4e4fb029",
   "metadata": {},
   "source": [
    "### Interpretation B of claim: tissue by tissue analysis \n",
    "\n",
    ">\"it now becomes possible to predict protein abundance in any given tissue with good accuracy from the measured mRNA abundance\"\n",
    "\n",
    "For a specific tissue (e.g. kidney), can we predict protein level from mRNA for thousands of genes?"
   ]
  },
  {
   "cell_type": "code",
   "execution_count": null,
   "id": "cd47364a",
   "metadata": {},
   "outputs": [],
   "source": [
    "genes_complete |>\n",
    "  filter(tissue == 'kidney') |>\n",
    "  ggplot(aes(mrna, protein)) +\n",
    "  geom_point() +\n",
    "  scale_x_log10() + scale_y_log10() +\n",
    "  geom_point(size = 3, alpha = 0.5) + \n",
    "  theme_bw() +\n",
    "  theme(text = element_text(size = 24), element_line(linewidth = 1)) "
   ]
  },
  {
   "cell_type": "markdown",
   "id": "e3f2b89e",
   "metadata": {},
   "source": [
    "mRNA is a moderately strong predictor of protein level within tissue. Note that looking across genes the data is considerably right-skewed so we apply a log transformation. "
   ]
  },
  {
   "cell_type": "code",
   "execution_count": null,
   "id": "240339ca",
   "metadata": {},
   "outputs": [],
   "source": [
    "lm_tissue <- genes_complete %>%\n",
    "  group_by(tissue) %>%\n",
    "  group_modify(~ tidy(lm(log10(protein) ~ log10(mrna), data = .x))) \n",
    "lm_tissue"
   ]
  },
  {
   "cell_type": "markdown",
   "id": "65809584",
   "metadata": {},
   "source": [
    "All 12 tissues show a significant linear relationship between gene log transformed mrna value and protein level, event after adjustment for multiple comparisons."
   ]
  },
  {
   "cell_type": "code",
   "execution_count": null,
   "id": "48a73a29",
   "metadata": {},
   "outputs": [],
   "source": [
    "p_tissue <- lm_tissue %>% \n",
    "  filter(grepl(\"mrna\", term)) %>% \n",
    "  pull(p.value) \n",
    "\n",
    "sum(p.adjust(p_tissue) < 0.05)\n",
    "\n",
    "p_tissue"
   ]
  },
  {
   "cell_type": "markdown",
   "id": "5e62df7f",
   "metadata": {},
   "source": [
    "## Part 3: Is the client's model appropriate?\n",
    "\n",
    "### Which is appropriate?  A or B?  \n",
    "\n",
    "- This is a subject area question\n",
    "- The statistician needs to work with the researcher so that both understand how the model fits the question\n",
    "- For this particular problem, it turns out A is much more biologically useful (but challenging!!)\n",
    "\n",
    "\n",
    "### What did the client do?\n",
    "\n",
    "1. Carried out a **gene-by-gene** analysis (with no intercept and with a funny slope estimate) and obtained fitted values from the **gene-by-gene** models\n",
    "2. Assessed fits by acting as if this were **tissue-by-tissue** analysis, reporting correlation between protein values and fitted values for tissue\n",
    "\n",
    "\n",
    "### Client mixed interpretations A and B!\n",
    "\n",
    "1. get predicted protein values from gene-by-gene regression\n",
    "2. calculate correlation between actual protein values and the gene-by-gene fitted protein values *across all genes in a tissue*\n",
    "\n",
    "Make up your mind! Gene-by-gene? Tissue-by-tissue?\n",
    "\n",
    "### Gene-by-gene fits across all genes in one tissue\n",
    "\n",
    "Let's replicate what they did using our linear modeling approach. First, we'll fetch fitted protein level values from the gene by gene regressions we fit above."
   ]
  },
  {
   "cell_type": "code",
   "execution_count": null,
   "id": "b53b84e0",
   "metadata": {},
   "outputs": [],
   "source": [
    "genes_kidney <-\n",
    "  genes_complete |>\n",
    "  filter(tissue == 'kidney')\n",
    "\n",
    "genes_kidney$gene_fit <- NA\n",
    "for(g in genes_kidney$gene){\n",
    "    coefs <- lm_gene |> filter(gene == g) |> pull(estimate)\n",
    "    mrna <- genes_kidney %>% filter(gene == g) |> pull(mrna)\n",
    "    genes_kidney$gene_fit[genes_kidney$gene == g] <- coefs[1] + mrna*coefs[2]\n",
    "}\n",
    "head(genes_kidney)"
   ]
  },
  {
   "cell_type": "markdown",
   "id": "d1527c93",
   "metadata": {},
   "source": [
    "Next, we'll calculate correlations across all genes within a single tissue - **we get an extremely high correlation!!!**"
   ]
  },
  {
   "cell_type": "code",
   "execution_count": null,
   "id": "3f77392d",
   "metadata": {},
   "outputs": [],
   "source": [
    "# Pearson\n",
    "cor(genes_kidney$protein, genes_kidney$gene_fit) |> round(3)\n",
    "\n",
    "# Spearman\n",
    "cor(genes_kidney$protein, genes_kidney$gene_fit, method = \"spearman\") |> round(3)"
   ]
  },
  {
   "cell_type": "markdown",
   "id": "e8eb6560",
   "metadata": {},
   "source": [
    "Why do we get a higher correlation with Pearson correlation? Let's visualize these results:"
   ]
  },
  {
   "cell_type": "code",
   "execution_count": null,
   "id": "bb930618",
   "metadata": {},
   "outputs": [],
   "source": [
    "ggplot(genes_kidney, aes(protein, gene_fit)) +\n",
    "  geom_point(size = 3, alpha = 0.5) + \n",
    "  theme(text = element_text(size = 24), element_line(linewidth = 1)) +\n",
    "  xlab(\"protein\") + ylab(\"fitted protein\") + \n",
    "  ggtitle(\"Kidney Gene-by-Gene Fits\")"
   ]
  },
  {
   "cell_type": "markdown",
   "id": "82eb6e6c",
   "metadata": {},
   "source": [
    "Let's view this relationship on the log-scale (and add a small pseudocount since we have some genes with predicted negative protein level)"
   ]
  },
  {
   "cell_type": "code",
   "execution_count": null,
   "id": "38781177",
   "metadata": {},
   "outputs": [],
   "source": [
    "ggplot(genes_kidney, aes(protein+1e-3, gene_fit+1e-3)) +\n",
    "  geom_point(size = 3, alpha = 0.5) + \n",
    "  theme(text = element_text(size = 24), element_line(linewidth = 1)) +\n",
    "  xlab(\"protein\") + ylab(\"fitted protein\") + \n",
    "  ggtitle(\"Kidney Gene-by-Gene Fits (log)\") +\n",
    "  scale_x_log10() +\n",
    "  scale_y_log10()"
   ]
  },
  {
   "cell_type": "markdown",
   "id": "5d4eb1f3",
   "metadata": {},
   "source": [
    "## What is happening? \n",
    "\n",
    "From [Fortelny, Overall, Pavlidis and Cohen Freue (Nature, 2014)](https://www.nature.com/articles/nature23293):\n",
    "\n",
    "> \"...we show that it is in fact possible to achieve a high correlation across genes without using any mRNA levels ...\"\n",
    "\n",
    "> \"The high correlations ... are driven by the large degree of variation in protein levels between genes....  This generates a high correlation between predicted and observed protein levels across genes even when these correlations are low for individual genes.\"\n",
    "\n",
    "**This is an example of Simpson's paradox**: the trend within groups (here genes) is different than the trend across groups"
   ]
  },
  {
   "cell_type": "markdown",
   "id": "d967626c",
   "metadata": {},
   "source": [
    " ![](img/simpsons.gif)"
   ]
  },
  {
   "cell_type": "markdown",
   "id": "15d9d695",
   "metadata": {},
   "source": [
    "## Main takeaways\n",
    "\n",
    "- Choosing an appropriate statistical method to answer a scientific question is an iterative and challenging process\n",
    "- We may come across data that has been analyzed in unadvisable ways\n",
    "- Translating statistical output \"honestly\" into lay person's terms is not easy\n",
    "- Statisticians have the duty to deal with all of the above\n",
    "\n",
    "----"
   ]
  }
 ],
 "metadata": {
  "kernelspec": {
   "display_name": "R",
   "language": "R",
   "name": "ir"
  },
  "language_info": {
   "codemirror_mode": "r",
   "file_extension": ".r",
   "mimetype": "text/x-r-source",
   "name": "R",
   "pygments_lexer": "r",
   "version": "4.4.2"
  }
 },
 "nbformat": 4,
 "nbformat_minor": 5
}
