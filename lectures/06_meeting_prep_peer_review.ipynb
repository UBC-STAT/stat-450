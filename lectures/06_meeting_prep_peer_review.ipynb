{
 "cells": [
  {
   "cell_type": "markdown",
   "metadata": {
    "slideshow": {
     "slide_type": "slide"
    }
   },
   "source": [
    "# STAT 450: Case Studies in Statistics\n",
    "# Lecture: Preparation for 2nd Client Meeting & Peer Review Activity\n"
   ]
  },
  {
   "cell_type": "markdown",
   "metadata": {
    "slideshow": {
     "slide_type": "slide"
    }
   },
   "source": [
    "# Today \n",
    "- [In-class individual writing assessment](https://canvas.ubc.ca/courses/151975/quizzes/811806) (20 minutes - closed book) \n",
    "- Peer review activity (remainder of class)"
   ]
  },
  {
   "cell_type": "markdown",
   "metadata": {
    "slideshow": {
     "slide_type": "slide"
    }
   },
   "source": [
    "# 2nd Client Meeting\n",
    "- Logistics:\n",
    "  - Friday, Feb 28: 9:00am - 10:20am (arrive early!)\n",
    "  - Report to this room - some groups will move to nearby room\n",
    "  - Appoint a different note-taker and moderator from last time\n",
    "- Agenda:\n",
    "  - 10-15 minute presentation to client\n",
    "  - Ask client your questions\n",
    "  - Answer (or at least understand and take note of) client's questions\n",
    "- Review [how to run a client meeting lecture](https://canvas.ubc.ca/courses/151975/files/36432171?wrap=1)"
   ]
  },
  {
   "cell_type": "markdown",
   "metadata": {
    "slideshow": {
     "slide_type": "slide"
    }
   },
   "source": [
    "# Presentation\n",
    "\n",
    "* Similar to in-class presentation\n",
    "* Add new (and relevant) information/results\n",
    "* Assume client will interrupt with questions!\n",
    "* Incorporate feedback from:   \n",
    "  * Group Proposal \n",
    "  * Short in-class presentation"
   ]
  },
  {
   "cell_type": "markdown",
   "metadata": {
    "slideshow": {
     "slide_type": "slide"
    }
   },
   "source": [
    "# Presentation Advice\n",
    "\n",
    "* Your presentation should **tell a story**\n",
    "* Objective: remember your objective is to answer the client’s question (e.g. not “our objective is to do linear regression”)\n",
    "* Use images that directly relate and convey information\n",
    "* Spend time walking through plots: \n",
    "  * What data are shown? e.g. \"the x-axis is ..., the y-axis is ... ”\n",
    "  * What does the plot tell you? e.g. \"we clearly see that large values ...\"\n",
    "* Pay attention to details like visibility of colours and labels in plots"
   ]
  },
  {
   "cell_type": "markdown",
   "metadata": {
    "slideshow": {
     "slide_type": "slide"
    }
   },
   "source": [
    "# Upcoming Assessments:\n",
    "\n",
    "- [Client Meeting II: preparation](https://canvas.ubc.ca/courses/151975/assignments/2019044): due Feb 27\n",
    "- [Client Meeting II: notes](https://canvas.ubc.ca/courses/151975/assignments/2019042): due March 02"
   ]
  },
  {
   "cell_type": "markdown",
   "metadata": {
    "slideshow": {
     "slide_type": "slide"
    }
   },
   "source": [
    "# Peer Review Activity\n",
    "\n",
    "* You were randomly assigned a partner and have prepared written comments on their report in [RISE (1. Reflect, 2. Inquire, 3. Suggest, 4. Elevate) format](https://www.risemodel.com/peer-to-peer?rq=peer)\n",
    "  * Overall goal of this process: gauge how well a *general audience* understands what you presented in your report, and generate actionable ideas for improvement\n",
    "* The goals of today's in-class activity are:\n",
    "  1. Communicate the main points of this feedback to your partner \n",
    "  2. Receive constructive criticism of your report and respond to your partner's questions\n",
    "  3. Synthesize individual feedback to identify areas your group will improve"
   ]
  },
  {
   "cell_type": "markdown",
   "metadata": {
    "slideshow": {
     "slide_type": "slide"
    }
   },
   "source": [
    "### Part 1 (20 minutes) - in your *review pairs*\n",
    "\n",
    "1. Reviewer: discuss your list of questions/suggestions on your partner's report \n",
    "2. Reviewee: address reviewer’s questions - take notes on discussion and any action items\n",
    "3. Switch roles after 10 minutes and repeat steps 1 and 2\n",
    "\n",
    "### Part 2 (20 minutes) - in your *project groups*\n",
    "\n",
    "1. Each group member: highlight 2 important points of feedback from your reviewer\n",
    "2. As a group, discuss what actions your group will take as a result of the feedback\n",
    "3. Take notes as a group during the discussion and submit on Github after class (use naming convention e.g. `01-hcp-peer-review-notes`) "
   ]
  }
 ],
 "metadata": {
  "celltoolbar": "Slideshow",
  "kernelspec": {
   "display_name": "R",
   "language": "R",
   "name": "ir"
  },
  "language_info": {
   "codemirror_mode": "r",
   "file_extension": ".r",
   "mimetype": "text/x-r-source",
   "name": "R",
   "pygments_lexer": "r",
   "version": "4.2.3"
  }
 },
 "nbformat": 4,
 "nbformat_minor": 4
}
