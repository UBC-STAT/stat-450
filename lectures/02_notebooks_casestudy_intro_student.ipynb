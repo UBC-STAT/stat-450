{
 "cells": [
  {
   "cell_type": "markdown",
   "metadata": {
    "slideshow": {
     "slide_type": "slide"
    },
    "tags": []
   },
   "source": [
    "# STAT 450: Case Studies in Statistics"
   ]
  },
  {
   "cell_type": "markdown",
   "metadata": {
    "jp-MarkdownHeadingCollapsed": true,
    "tags": []
   },
   "source": [
    "### This notebook has two parts:  \n",
    "- Part I explains Jupyter Notebooks.  \n",
    "- Part II introduces a case study we will use throughout the course. There are some exercises throughout to help you check your knowledge.  These exercises are not turned in."
   ]
  },
  {
   "cell_type": "markdown",
   "metadata": {
    "tags": []
   },
   "source": [
    "## Part I: Jupyter Notebooks\n",
    "\n",
    "Welcome to Jupyter Notebooks! \n",
    "\n",
    "If you had never seen a Jupyter Notebook before, surprise! \n",
    "\n",
    "Jupyter Notebook is an awesome tool for data exploration and analysis. \n",
    "The secret is that the Jupyter Notebooks allow you to have text, code, \n",
    "run the code, and see the output of the code, all in the same document. \n",
    "Imagine, in the same document, you can:\n",
    "\n",
    "1. Explain the problem and the data;\n",
    "3. Load the data;\n",
    "4. Make plots;\n",
    "5. Interpret the plots;\n",
    "6. Run your model; \n",
    "7. Interpret your model;\n",
    "8. Run other models; \n",
    "9. Compare the different models; \n",
    "\n",
    "Incredible, isn't it? \n",
    "\n",
    "That's not all; Jupyter Notebooks are not language-dependent either (although we will be working exclusively with R kernel in this course). \n",
    "So, it is well worth for you to spend some time getting familiar with it."
   ]
  },
  {
   "cell_type": "markdown",
   "metadata": {},
   "source": [
    "Jupyter notebooks are based on cells, where you can input text or code. This a cell."
   ]
  },
  {
   "cell_type": "markdown",
   "metadata": {},
   "source": [
    "This is another cell. "
   ]
  },
  {
   "cell_type": "markdown",
   "metadata": {},
   "source": [
    "This is a third cell. "
   ]
  },
  {
   "cell_type": "markdown",
   "metadata": {},
   "source": [
    "Some info about cells: \n",
    "\n",
    "- There's no limit on how much text you can put in a cell. Although you probably don't want a cell to get too long.\n",
    "- You can create, delete, and move cells around in a notebook. \n",
    "- There are mainly two types of cells: (1) markdown cells; and (2) code cells"
   ]
  },
  {
   "cell_type": "markdown",
   "metadata": {},
   "source": [
    "### 1.1 Creating Cells"
   ]
  },
  {
   "cell_type": "markdown",
   "metadata": {},
   "source": [
    "There are multiple ways to create cells: \n",
    "\n",
    "1. you can click on the `+` sign at the top of the notebook: \n",
    "\n",
    "<img src=\"img/jupyter-tutorial-01.png\" width=100%>"
   ]
  },
  {
   "cell_type": "markdown",
   "metadata": {},
   "source": [
    "2. you can press `a` to create a cell above and `b` to create a cell below. (Make sure you are out of the edit mode - you can use the `Escape` key to exit edit mode)"
   ]
  },
  {
   "cell_type": "markdown",
   "metadata": {},
   "source": [
    "### 1.2 Choosing the type of cells"
   ]
  },
  {
   "cell_type": "markdown",
   "metadata": {},
   "source": [
    "Note that when you create a new cell, the cell type is shown at the top bar.\n",
    "\n",
    "<img src=\"img/jupyter-tutorial-02.png\" width=100%>"
   ]
  },
  {
   "cell_type": "markdown",
   "metadata": {},
   "source": [
    "You can click there to change between **Markdown** and **code** cells.\n",
    "\n",
    "Alternatively, you can select the cell you want and \n",
    "\n",
    "- press `m` to make it a markdown cell\n",
    "- press `y` to make it a code cell."
   ]
  },
  {
   "cell_type": "markdown",
   "metadata": {
    "tags": []
   },
   "source": [
    "#### **Exercise 1.1**\n",
    "\n",
    "Create two cells below this one. One of the cells must be a Markdown cell, and the other must be a code cell. "
   ]
  },
  {
   "cell_type": "markdown",
   "metadata": {
    "tags": []
   },
   "source": [
    "### 1.3 Markdown cells\n",
    "\n",
    "Markdown cells are the text cells. All the cells before Exercise 1.1 are Markdown cells. \n",
    "They are called Markdown because they are formatted using Markdown. \n",
    "\n",
    "You can do a bunch of text formating with Markdown very quickly using only plain text input. The most common markdown operations:\n",
    "\n",
    "- **Italic:** put an _ (underline) at the start and end of the content to be italicized. \n",
    "    - \\_this is italic\\_ results in _this is italic_.\n",
    "- **Bold:** put two \\* at the start and end of the content\n",
    "    - \\*\\*this is bold\\*\\* results in **this is bold**\n",
    "- **Headers:** Put a \\# at the start of the line you want a header.\n",
    "    - \\# is level 1 header;\n",
    "    - \\#\\# is a level 2 header, and so on.\n",
    "\n",
    "\n",
    "**bullet points**: we can also see how a list is created from this cell. \n",
    "\n",
    "- **inline code**: we can easily format words as part of code using \\` (backtick) at the start and end.\n",
    "    - \\`function(){\\` results in `function(){`\n",
    "\n",
    "- **code block**: you can use three backticks \\`\\`\\` to create a code block. You even get to specify the language for syntax highlighting. \n",
    "\n",
    "\\`\\`\\`r\n",
    "\n",
    "foo <- function(){\n",
    "\n",
    "    print(\"Hello STAT 450\")\n",
    "    \n",
    "}\n",
    "foo()\n",
    "\n",
    "\\`\\`\\`\n",
    "\n",
    "results in\n",
    "\n",
    "```r\n",
    "foo <- function(){\n",
    "    print(\"Hello STAT 450\")\n",
    "}\n",
    "foo()\n",
    "```\n",
    "\n",
    "Note that the text formatted as code is not actually *evaluated* as code, since it is in a Markdown cell."
   ]
  },
  {
   "cell_type": "markdown",
   "metadata": {},
   "source": [
    " - **table**: we can also quickly create tables with Markdown. \n",
    " \n",
    " Student |  Course  | Grade | \n",
    " --------|----------|-------|\n",
    " Keegan | STAT 450 |  C-   |\n",
    " Melissa | STAT 450 |  A+   |\n",
    " Rodolfo   | STAT 450 |  A+   |\n",
    "Chloe | STAT 450 |  A+   |\n",
    "\n",
    "- **images**: we can also quickly load images using Markdown. Try checking a cell with an image to figure out the syntax.\n",
    "- **more**: [here](https://www.markdownguide.org/cheat-sheet/) is a handy cheatsheet of these and some other Markdown operations\n"
   ]
  },
  {
   "cell_type": "markdown",
   "metadata": {
    "tags": []
   },
   "source": [
    "### 1.4 Code cells\n",
    "\n",
    "In our course, we will be using R code."
   ]
  },
  {
   "cell_type": "code",
   "execution_count": 1,
   "metadata": {},
   "outputs": [
    {
     "data": {
      "text/html": [
       "'STAT 450'"
      ],
      "text/latex": [
       "'STAT 450'"
      ],
      "text/markdown": [
       "'STAT 450'"
      ],
      "text/plain": [
       "[1] \"STAT 450\""
      ]
     },
     "metadata": {},
     "output_type": "display_data"
    }
   ],
   "source": [
    "course <- \"STAT 450\" \n",
    "course"
   ]
  },
  {
   "cell_type": "code",
   "execution_count": 2,
   "metadata": {},
   "outputs": [
    {
     "data": {
      "text/html": [
       "25"
      ],
      "text/latex": [
       "25"
      ],
      "text/markdown": [
       "25"
      ],
      "text/plain": [
       "[1] 25"
      ]
     },
     "metadata": {},
     "output_type": "display_data"
    }
   ],
   "source": [
    "(x <- 10 + 15)"
   ]
  },
  {
   "cell_type": "markdown",
   "metadata": {
    "tags": []
   },
   "source": [
    "### 1.5 Running cells"
   ]
  },
  {
   "cell_type": "markdown",
   "metadata": {},
   "source": [
    "To run a cell, you can click on the play button on the top of the notebook. \n",
    "\n",
    "<img src=\"img/jupyter-tutorial-03.png\" width=100%>\n",
    "\n",
    "Alternatively, \n",
    "\n",
    "- `Shift+Enter` will run the current cell and move the cursor to the next. If there's no next cell, a new one will be created.\n",
    "- `Ctrl+Enter` (or `Command+Enter` on a Mac) will run the current cell but not move the cursor. "
   ]
  },
  {
   "cell_type": "markdown",
   "metadata": {
    "tags": []
   },
   "source": [
    "#### **Exercise 1.2**\n",
    "\n",
    "Create a code cell below and calculate the result of `7162386` divided by 3."
   ]
  },
  {
   "cell_type": "markdown",
   "metadata": {
    "tags": []
   },
   "source": [
    "### 1.6 Restarting and running all cells"
   ]
  },
  {
   "cell_type": "markdown",
   "metadata": {},
   "source": [
    "Because Jupyter Notebooks allow you to run cells in any order, some bugs might be introduced when you are creating the notebook. \n",
    "\n",
    "You should frequently restart your notebook and re-run all the cells to make sure your notebook runs from start to finish. \n",
    "\n",
    "<img src=\"img/jupyter-tutorial-04.png\" width=100%>\n"
   ]
  },
  {
   "cell_type": "markdown",
   "metadata": {
    "tags": []
   },
   "source": [
    "### 1.7 Navigation Menu\n",
    "\n",
    "Here you can navigate to find the notebooks (or create new notebooks) in whatever subfolder you want. \n",
    "You can open multiple notebooks simultaneously. \n",
    "\n",
    "<img src=\"img/jupyter-tutorial-05.png\" width=60%>\n"
   ]
  },
  {
   "cell_type": "markdown",
   "metadata": {
    "slideshow": {
     "slide_type": "-"
    },
    "tags": []
   },
   "source": [
    "## Part II:  Case study: Relation between mRNA and protein levels \n",
    "###  First mRNA-protein notebook contains an introduction:\n",
    "-   the biology \n",
    "-  the questions\n",
    "-   reading in the data \n",
    "-  checking various things in the data\n",
    "-  Student exercises at the end to check understanding (not to be handed in)"
   ]
  },
  {
   "cell_type": "markdown",
   "metadata": {
    "slideshow": {
     "slide_type": "-"
    },
    "tags": []
   },
   "source": [
    "### Get to know the area  (youtube, wiki)\n",
    "Background information (take a look after class):\n",
    "- background on protein synthesis:  watch one or both:  https://www.youtube.com/watch?v=oefAI2x2CQM  or\n",
    "part 3 of  https://youtu.be/NDIJexTT9j0?t=522 (starting at 8:42 min)\n",
    "- information on exploratory data analysis: Chapter 4 of the Art of Data Science: https://bookdown.org/rdpeng/artofdatascience/\n",
    "\n",
    "\n",
    "The picture illustrates what is known as the Central Dogma of Biology"
   ]
  },
  {
   "cell_type": "markdown",
   "metadata": {
    "slideshow": {
     "slide_type": "slide"
    },
    "tags": []
   },
   "source": [
    "<img src=\"img/prot_gene.png\" width=60%>"
   ]
  },
  {
   "cell_type": "markdown",
   "metadata": {
    "tags": []
   },
   "source": [
    "## The biology\n",
    "\n",
    "Every cell in our body has our genetic material, our genes on our DNA. Some genes act as instructions to make molecules called proteins.  \n",
    "\n",
    "**Transcription**:  Within the cell nucleus, a \"protein recipe\" is transferred from a gene to mRNA (messenger RNA).  This process is called transcription.  \n",
    "\n",
    "**Translation**:  The mRNA takes the recipe outside of the nucleus, where amino acids follow the recipe to form a protein.  This process is called translation.\n",
    "\n",
    "![](https://upload.wikimedia.org/wikipedia/commons/6/68/Central_Dogma_of_Molecular_Biochemistry_with_Enzymes.jpg)\n"
   ]
  },
  {
   "cell_type": "markdown",
   "metadata": {
    "slideshow": {
     "slide_type": "slide"
    },
    "tags": []
   },
   "source": [
    "One might expect high protein levels to go with high mRNA levels.  Despite this expectation of a high correlation between mRNA and protein levels, experimental results have shown very low correlation values.\n",
    "\n",
    "In 2014, a research group claimed to find a \"predictive model\", which can be used to predict protein from mRNA!!\n",
    "\n",
    "We'll use data from this group submitted to the Journal as if it is \"our client's data\".\n"
   ]
  },
  {
   "cell_type": "markdown",
   "metadata": {
    "jp-MarkdownHeadingCollapsed": true,
    "tags": []
   },
   "source": [
    "### Measuring RNA and protein \n",
    "\n",
    "There are many different ways to quantify mRNA and protein levels. Here is some background information on the measures used in this case study. \n",
    "\n",
    "RNA\n",
    "- RNA-seq (RNA-sequencing) is a technology that provides counts of short transcript fragements, known as **reads**\n",
    "- Reads are then 'mapped' back to the genome to summarize as gene-level counts\n",
    "- Complication: not able to count every fragment present, so we have random sampling\n",
    "  - counts depend on total number of reads for each sample (**depth**)\n",
    "  - FPKM (Fragments Per Kilobase of transcript per Million mapped reads) is a way to 'normalize' counts so they are comparable across samples with different depth\n",
    "\n",
    "Protein\n",
    "- Mass spectrometry is a technology that measures mass-to-charge ratio of particles in a sample\n",
    "  - different proteins have different mass-to-charge ratios\n",
    "- Intensity at each ratio gives information about how abundant each protein is\n",
    "  - iBAQ (intensity Based Absolute Quantitation) is one way to convert intensities to an absolute measures of abundance\n",
    "\n"
   ]
  },
  {
   "cell_type": "markdown",
   "metadata": {
    "jp-MarkdownHeadingCollapsed": true,
    "tags": []
   },
   "source": [
    "### References\n",
    "- Original article: [Wilhelm et al. *Mass-spectrometry-based draft of the human proteome.* Nature 2014.](https://www.nature.com/articles/nature13319)\n",
    "\n",
    "- Article finding flaws with the above: [Fortelny et al. *Can we predict protein from mRNA levels?*  Nature 2017.](https://www.nature.com/articles/nature23293)\n",
    "\n",
    "- Some more background: [Liu et al. *On the dependency of cellular protein levels on mRNA abundance.*\n",
    "Cell 2016](https://doi.org/10.1016/j.cell.2016.03.014)\n"
   ]
  },
  {
   "cell_type": "markdown",
   "metadata": {
    "tags": []
   },
   "source": [
    "## Data\n",
    "- Two data files:  \n",
    "  - `proteinUN.csv`  (protein data)\n",
    "  - `geneUN.csv`  (mrna data)\n",
    "- Each file contains information on 6104 genes (the same genes in each file)\n",
    "- For each gene, we have measurements on 12 tissue types\n",
    "- Thus, for each gene, we have 12 pairs of measurements:  protein level and mRNA level"
   ]
  },
  {
   "cell_type": "markdown",
   "metadata": {
    "slideshow": {
     "slide_type": "slide"
    },
    "tags": []
   },
   "source": [
    "### Client's claim\n",
    "\n",
    "Using the median ratio of protein to mRNA levels per gene as a proxy for translation rates, our data show that:\n",
    ">***\"it now becomes possible to predict protein abundance in any given tissue with good accuracy from the measured mRNA abundance\"***\n",
    "\n",
    "### Client's Questions\n",
    "\n",
    "- Is our analysis statistically correct?\n",
    "\n",
    "- Is there another way to analyze the data? If so, do we get similar results?\n",
    "\n",
    "### Our approach\n",
    "\n",
    "What did the client do?  What is this median ratio approach? Can we reproduce their analysis?  \n",
    "\n",
    "Do we get the same conclusions?\n",
    " \n",
    "Is there another (better) way to do the analysis?"
   ]
  },
  {
   "cell_type": "markdown",
   "metadata": {
    "slideshow": {
     "slide_type": "slide"
    }
   },
   "source": [
    "![](img/nature_res.png)\n",
    "\n",
    "Both plots above come from [Wilhelm et al. (2014)](https://www.nature.com/articles/nature13319): Left is taken from Supplementary Figure 7a, and right is taken from Figure 5a."
   ]
  },
  {
   "cell_type": "markdown",
   "metadata": {
    "slideshow": {
     "slide_type": "slide"
    },
    "tags": []
   },
   "source": [
    "## From [The Art of Data Science (by Peng and Matsui)](https://bookdown.org/rdpeng/artofdatascience/)\n",
    "\n",
    "### [Chapter 4: Exploratory Data Analysis: Checklist](https://bookdown.org/rdpeng/artofdatascience/exploratory-data-analysis-checklist-a-case-study.html)\n",
    "\n",
    ">1. Formulate your question\n",
    ">2. Read in your data\n",
    ">3. Check the packaging\n",
    ">4. Look at the top and the bottom of your data\n",
    ">5. Check your “n”s\n",
    ">6. Validate with at least one external data source\n",
    ">7. Make a plot\n",
    ">8. Try the easy solution first\n",
    ">9. Follow up"
   ]
  },
  {
   "cell_type": "markdown",
   "metadata": {
    "jp-MarkdownHeadingCollapsed": true,
    "tags": []
   },
   "source": [
    "\n",
    "### 1. Formulate your question\n",
    "\n",
    "Can you predict protein levels from mRNA levels?  \n",
    "More loosely:  are protein levels and mRNA levels related?  (We may need to fine tune this.)"
   ]
  },
  {
   "cell_type": "markdown",
   "metadata": {
    "tags": []
   },
   "source": [
    "  \n",
    "### 2.  Read in your data. Load libraries and read data files, `proteinUN.csv`, `geneUN.csv`.  \n"
   ]
  },
  {
   "cell_type": "markdown",
   "metadata": {},
   "source": [
    "First take a look at the data files directly (in directory `lectures/release/data`).\n",
    "\n",
    "Next, load any necessary libraries. Here for illustration we'll load a library called `tidyverse` that actually includes several handy libraries within it. You'll learn more about them as we go."
   ]
  },
  {
   "cell_type": "code",
   "execution_count": 3,
   "metadata": {
    "slideshow": {
     "slide_type": "slide"
    },
    "tags": []
   },
   "outputs": [
    {
     "name": "stderr",
     "output_type": "stream",
     "text": [
      "── \u001b[1mAttaching packages\u001b[22m ────────────────────────────────────────────────────────────────────────────────────── tidyverse 1.3.2 ──\n",
      "\u001b[32m✔\u001b[39m \u001b[34mggplot2\u001b[39m 3.4.0      \u001b[32m✔\u001b[39m \u001b[34mpurrr  \u001b[39m 1.0.0 \n",
      "\u001b[32m✔\u001b[39m \u001b[34mtibble \u001b[39m 3.1.8      \u001b[32m✔\u001b[39m \u001b[34mdplyr  \u001b[39m 1.0.10\n",
      "\u001b[32m✔\u001b[39m \u001b[34mtidyr  \u001b[39m 1.2.1      \u001b[32m✔\u001b[39m \u001b[34mstringr\u001b[39m 1.5.0 \n",
      "\u001b[32m✔\u001b[39m \u001b[34mreadr  \u001b[39m 2.1.3      \u001b[32m✔\u001b[39m \u001b[34mforcats\u001b[39m 0.5.2 \n",
      "── \u001b[1mConflicts\u001b[22m ───────────────────────────────────────────────────────────────────────────────────────── tidyverse_conflicts() ──\n",
      "\u001b[31m✖\u001b[39m \u001b[34mdplyr\u001b[39m::\u001b[32mfilter()\u001b[39m masks \u001b[34mstats\u001b[39m::filter()\n",
      "\u001b[31m✖\u001b[39m \u001b[34mdplyr\u001b[39m::\u001b[32mlag()\u001b[39m    masks \u001b[34mstats\u001b[39m::lag()\n"
     ]
    }
   ],
   "source": [
    "library(tidyverse)"
   ]
  },
  {
   "cell_type": "markdown",
   "metadata": {},
   "source": [
    "Next read in the two CSV data files as `data.frames` and check the contents of both."
   ]
  },
  {
   "cell_type": "code",
   "execution_count": 4,
   "metadata": {
    "slideshow": {
     "slide_type": "slide"
    },
    "tags": []
   },
   "outputs": [],
   "source": [
    "mrna <- read.csv(\"data/geneUN.csv\", row.names = 1)\n",
    "prot <- read.csv(\"data/proteinUN.csv\", row.names = 1)"
   ]
  },
  {
   "cell_type": "markdown",
   "metadata": {},
   "source": [
    "### 3. Check the packaging"
   ]
  },
  {
   "cell_type": "markdown",
   "metadata": {},
   "source": [
    "Let's check the dimension of each object. Note that another useful function that can tell us about the packaging is `str` - try it!"
   ]
  },
  {
   "cell_type": "code",
   "execution_count": 5,
   "metadata": {},
   "outputs": [
    {
     "data": {
      "text/html": [
       "<style>\n",
       ".list-inline {list-style: none; margin:0; padding: 0}\n",
       ".list-inline>li {display: inline-block}\n",
       ".list-inline>li:not(:last-child)::after {content: \"\\00b7\"; padding: 0 .5ex}\n",
       "</style>\n",
       "<ol class=list-inline><li>6104</li><li>12</li></ol>\n"
      ],
      "text/latex": [
       "\\begin{enumerate*}\n",
       "\\item 6104\n",
       "\\item 12\n",
       "\\end{enumerate*}\n"
      ],
      "text/markdown": [
       "1. 6104\n",
       "2. 12\n",
       "\n",
       "\n"
      ],
      "text/plain": [
       "[1] 6104   12"
      ]
     },
     "metadata": {},
     "output_type": "display_data"
    },
    {
     "data": {
      "text/html": [
       "<style>\n",
       ".list-inline {list-style: none; margin:0; padding: 0}\n",
       ".list-inline>li {display: inline-block}\n",
       ".list-inline>li:not(:last-child)::after {content: \"\\00b7\"; padding: 0 .5ex}\n",
       "</style>\n",
       "<ol class=list-inline><li>6104</li><li>12</li></ol>\n"
      ],
      "text/latex": [
       "\\begin{enumerate*}\n",
       "\\item 6104\n",
       "\\item 12\n",
       "\\end{enumerate*}\n"
      ],
      "text/markdown": [
       "1. 6104\n",
       "2. 12\n",
       "\n",
       "\n"
      ],
      "text/plain": [
       "[1] 6104   12"
      ]
     },
     "metadata": {},
     "output_type": "display_data"
    }
   ],
   "source": [
    "dim(mrna)\n",
    "dim(prot)"
   ]
  },
  {
   "cell_type": "markdown",
   "metadata": {},
   "source": [
    "Looks like both objects have 6104 genes and 12 tissues. Notice anything else?"
   ]
  },
  {
   "cell_type": "markdown",
   "metadata": {
    "tags": []
   },
   "source": [
    "Do the column names of `prot`  agree with the column names of `mrna`?"
   ]
  },
  {
   "cell_type": "code",
   "execution_count": 6,
   "metadata": {},
   "outputs": [
    {
     "data": {
      "text/html": [
       "<style>\n",
       ".list-inline {list-style: none; margin:0; padding: 0}\n",
       ".list-inline>li {display: inline-block}\n",
       ".list-inline>li:not(:last-child)::after {content: \"\\00b7\"; padding: 0 .5ex}\n",
       "</style>\n",
       "<ol class=list-inline><li>'uterus'</li><li>'kidney'</li><li>'testis'</li><li>'pancreas'</li><li>'stomach'</li><li>'prostate'</li><li>'ovary'</li><li>'thyroid.gland'</li><li>'adrenal.gland'</li><li>'salivary.gland'</li><li>'spleen'</li><li>'esophagus'</li></ol>\n"
      ],
      "text/latex": [
       "\\begin{enumerate*}\n",
       "\\item 'uterus'\n",
       "\\item 'kidney'\n",
       "\\item 'testis'\n",
       "\\item 'pancreas'\n",
       "\\item 'stomach'\n",
       "\\item 'prostate'\n",
       "\\item 'ovary'\n",
       "\\item 'thyroid.gland'\n",
       "\\item 'adrenal.gland'\n",
       "\\item 'salivary.gland'\n",
       "\\item 'spleen'\n",
       "\\item 'esophagus'\n",
       "\\end{enumerate*}\n"
      ],
      "text/markdown": [
       "1. 'uterus'\n",
       "2. 'kidney'\n",
       "3. 'testis'\n",
       "4. 'pancreas'\n",
       "5. 'stomach'\n",
       "6. 'prostate'\n",
       "7. 'ovary'\n",
       "8. 'thyroid.gland'\n",
       "9. 'adrenal.gland'\n",
       "10. 'salivary.gland'\n",
       "11. 'spleen'\n",
       "12. 'esophagus'\n",
       "\n",
       "\n"
      ],
      "text/plain": [
       " [1] \"uterus\"         \"kidney\"         \"testis\"         \"pancreas\"      \n",
       " [5] \"stomach\"        \"prostate\"       \"ovary\"          \"thyroid.gland\" \n",
       " [9] \"adrenal.gland\"  \"salivary.gland\" \"spleen\"         \"esophagus\"     "
      ]
     },
     "metadata": {},
     "output_type": "display_data"
    },
    {
     "data": {
      "text/html": [
       "<style>\n",
       ".list-inline {list-style: none; margin:0; padding: 0}\n",
       ".list-inline>li {display: inline-block}\n",
       ".list-inline>li:not(:last-child)::after {content: \"\\00b7\"; padding: 0 .5ex}\n",
       "</style>\n",
       "<ol class=list-inline><li>'uterus'</li><li>'kidney'</li><li>'testis'</li><li>'pancreas'</li><li>'stomach'</li><li>'prostate'</li><li>'ovary'</li><li>'thyroid.gland'</li><li>'adrenal.gland'</li><li>'salivary.gland'</li><li>'spleen'</li><li>'esophagus'</li></ol>\n"
      ],
      "text/latex": [
       "\\begin{enumerate*}\n",
       "\\item 'uterus'\n",
       "\\item 'kidney'\n",
       "\\item 'testis'\n",
       "\\item 'pancreas'\n",
       "\\item 'stomach'\n",
       "\\item 'prostate'\n",
       "\\item 'ovary'\n",
       "\\item 'thyroid.gland'\n",
       "\\item 'adrenal.gland'\n",
       "\\item 'salivary.gland'\n",
       "\\item 'spleen'\n",
       "\\item 'esophagus'\n",
       "\\end{enumerate*}\n"
      ],
      "text/markdown": [
       "1. 'uterus'\n",
       "2. 'kidney'\n",
       "3. 'testis'\n",
       "4. 'pancreas'\n",
       "5. 'stomach'\n",
       "6. 'prostate'\n",
       "7. 'ovary'\n",
       "8. 'thyroid.gland'\n",
       "9. 'adrenal.gland'\n",
       "10. 'salivary.gland'\n",
       "11. 'spleen'\n",
       "12. 'esophagus'\n",
       "\n",
       "\n"
      ],
      "text/plain": [
       " [1] \"uterus\"         \"kidney\"         \"testis\"         \"pancreas\"      \n",
       " [5] \"stomach\"        \"prostate\"       \"ovary\"          \"thyroid.gland\" \n",
       " [9] \"adrenal.gland\"  \"salivary.gland\" \"spleen\"         \"esophagus\"     "
      ]
     },
     "metadata": {},
     "output_type": "display_data"
    },
    {
     "data": {
      "text/html": [
       "<style>\n",
       ".list-inline {list-style: none; margin:0; padding: 0}\n",
       ".list-inline>li {display: inline-block}\n",
       ".list-inline>li:not(:last-child)::after {content: \"\\00b7\"; padding: 0 .5ex}\n",
       "</style>\n",
       "<ol class=list-inline><li>TRUE</li><li>TRUE</li><li>TRUE</li><li>TRUE</li><li>TRUE</li><li>TRUE</li><li>TRUE</li><li>TRUE</li><li>TRUE</li><li>TRUE</li><li>TRUE</li><li>TRUE</li></ol>\n"
      ],
      "text/latex": [
       "\\begin{enumerate*}\n",
       "\\item TRUE\n",
       "\\item TRUE\n",
       "\\item TRUE\n",
       "\\item TRUE\n",
       "\\item TRUE\n",
       "\\item TRUE\n",
       "\\item TRUE\n",
       "\\item TRUE\n",
       "\\item TRUE\n",
       "\\item TRUE\n",
       "\\item TRUE\n",
       "\\item TRUE\n",
       "\\end{enumerate*}\n"
      ],
      "text/markdown": [
       "1. TRUE\n",
       "2. TRUE\n",
       "3. TRUE\n",
       "4. TRUE\n",
       "5. TRUE\n",
       "6. TRUE\n",
       "7. TRUE\n",
       "8. TRUE\n",
       "9. TRUE\n",
       "10. TRUE\n",
       "11. TRUE\n",
       "12. TRUE\n",
       "\n",
       "\n"
      ],
      "text/plain": [
       " [1] TRUE TRUE TRUE TRUE TRUE TRUE TRUE TRUE TRUE TRUE TRUE TRUE"
      ]
     },
     "metadata": {},
     "output_type": "display_data"
    }
   ],
   "source": [
    "colnames(mrna)\n",
    "colnames(prot)\n",
    "colnames(prot) == colnames(mrna)"
   ]
  },
  {
   "cell_type": "markdown",
   "metadata": {},
   "source": [
    "Let's check rownames:  Do I want to use the same functions to check 6104 rownames?  "
   ]
  },
  {
   "cell_type": "code",
   "execution_count": 7,
   "metadata": {},
   "outputs": [
    {
     "data": {
      "text/html": [
       "<style>\n",
       ".list-inline {list-style: none; margin:0; padding: 0}\n",
       ".list-inline>li {display: inline-block}\n",
       ".list-inline>li:not(:last-child)::after {content: \"\\00b7\"; padding: 0 .5ex}\n",
       "</style>\n",
       "<ol class=list-inline><li>TRUE</li><li>TRUE</li><li>TRUE</li><li>TRUE</li><li>TRUE</li><li>TRUE</li><li>TRUE</li><li>TRUE</li><li>TRUE</li><li>TRUE</li><li>TRUE</li><li>TRUE</li><li>TRUE</li><li>TRUE</li><li>TRUE</li><li>TRUE</li><li>TRUE</li><li>TRUE</li><li>TRUE</li><li>TRUE</li><li>TRUE</li><li>TRUE</li><li>TRUE</li><li>TRUE</li><li>TRUE</li><li>TRUE</li><li>TRUE</li><li>TRUE</li><li>TRUE</li><li>TRUE</li><li>TRUE</li><li>TRUE</li><li>TRUE</li><li>TRUE</li><li>TRUE</li><li>TRUE</li><li>TRUE</li><li>TRUE</li><li>TRUE</li><li>TRUE</li><li>TRUE</li><li>TRUE</li><li>TRUE</li><li>TRUE</li><li>TRUE</li><li>TRUE</li><li>TRUE</li><li>TRUE</li><li>TRUE</li><li>TRUE</li><li>TRUE</li><li>TRUE</li><li>TRUE</li><li>TRUE</li><li>TRUE</li><li>TRUE</li><li>TRUE</li><li>TRUE</li><li>TRUE</li><li>TRUE</li><li>TRUE</li><li>TRUE</li><li>TRUE</li><li>TRUE</li><li>TRUE</li><li>TRUE</li><li>TRUE</li><li>TRUE</li><li>TRUE</li><li>TRUE</li><li>TRUE</li><li>TRUE</li><li>TRUE</li><li>TRUE</li><li>TRUE</li><li>TRUE</li><li>TRUE</li><li>TRUE</li><li>TRUE</li><li>TRUE</li><li>TRUE</li><li>TRUE</li><li>TRUE</li><li>TRUE</li><li>TRUE</li><li>TRUE</li><li>TRUE</li><li>TRUE</li><li>TRUE</li><li>TRUE</li><li>TRUE</li><li>TRUE</li><li>TRUE</li><li>TRUE</li><li>TRUE</li><li>TRUE</li><li>TRUE</li><li>TRUE</li><li>TRUE</li><li>TRUE</li><li>TRUE</li><li>TRUE</li><li>TRUE</li><li>TRUE</li><li>TRUE</li><li>TRUE</li><li>TRUE</li><li>TRUE</li><li>TRUE</li><li>TRUE</li><li>TRUE</li><li>TRUE</li><li>TRUE</li><li>TRUE</li><li>TRUE</li><li>TRUE</li><li>TRUE</li><li>TRUE</li><li>TRUE</li><li>TRUE</li><li>TRUE</li><li>TRUE</li><li>TRUE</li><li>TRUE</li><li>TRUE</li><li>TRUE</li><li>TRUE</li><li>TRUE</li><li>TRUE</li><li>TRUE</li><li>TRUE</li><li>TRUE</li><li>TRUE</li><li>TRUE</li><li>TRUE</li><li>TRUE</li><li>TRUE</li><li>TRUE</li><li>TRUE</li><li>TRUE</li><li>TRUE</li><li>TRUE</li><li>TRUE</li><li>TRUE</li><li>TRUE</li><li>TRUE</li><li>TRUE</li><li>TRUE</li><li>TRUE</li><li>TRUE</li><li>TRUE</li><li>TRUE</li><li>TRUE</li><li>TRUE</li><li>TRUE</li><li>TRUE</li><li>TRUE</li><li>TRUE</li><li>TRUE</li><li>TRUE</li><li>TRUE</li><li>TRUE</li><li>TRUE</li><li>TRUE</li><li>TRUE</li><li>TRUE</li><li>TRUE</li><li>TRUE</li><li>TRUE</li><li>TRUE</li><li>TRUE</li><li>TRUE</li><li>TRUE</li><li>TRUE</li><li>TRUE</li><li>TRUE</li><li>TRUE</li><li>TRUE</li><li>TRUE</li><li>TRUE</li><li>TRUE</li><li>TRUE</li><li>TRUE</li><li>TRUE</li><li>TRUE</li><li>TRUE</li><li>TRUE</li><li>TRUE</li><li>TRUE</li><li>TRUE</li><li>TRUE</li><li>TRUE</li><li>TRUE</li><li>TRUE</li><li>TRUE</li><li>TRUE</li><li>TRUE</li><li>TRUE</li><li>TRUE</li><li>TRUE</li><li>⋯</li><li>TRUE</li><li>TRUE</li><li>TRUE</li><li>TRUE</li><li>TRUE</li><li>TRUE</li><li>TRUE</li><li>TRUE</li><li>TRUE</li><li>TRUE</li><li>TRUE</li><li>TRUE</li><li>TRUE</li><li>TRUE</li><li>TRUE</li><li>TRUE</li><li>TRUE</li><li>TRUE</li><li>TRUE</li><li>TRUE</li><li>TRUE</li><li>TRUE</li><li>TRUE</li><li>TRUE</li><li>TRUE</li><li>TRUE</li><li>TRUE</li><li>TRUE</li><li>TRUE</li><li>TRUE</li><li>TRUE</li><li>TRUE</li><li>TRUE</li><li>TRUE</li><li>TRUE</li><li>TRUE</li><li>TRUE</li><li>TRUE</li><li>TRUE</li><li>TRUE</li><li>TRUE</li><li>TRUE</li><li>TRUE</li><li>TRUE</li><li>TRUE</li><li>TRUE</li><li>TRUE</li><li>TRUE</li><li>TRUE</li><li>TRUE</li><li>TRUE</li><li>TRUE</li><li>TRUE</li><li>TRUE</li><li>TRUE</li><li>TRUE</li><li>TRUE</li><li>TRUE</li><li>TRUE</li><li>TRUE</li><li>TRUE</li><li>TRUE</li><li>TRUE</li><li>TRUE</li><li>TRUE</li><li>TRUE</li><li>TRUE</li><li>TRUE</li><li>TRUE</li><li>TRUE</li><li>TRUE</li><li>TRUE</li><li>TRUE</li><li>TRUE</li><li>TRUE</li><li>TRUE</li><li>TRUE</li><li>TRUE</li><li>TRUE</li><li>TRUE</li><li>TRUE</li><li>TRUE</li><li>TRUE</li><li>TRUE</li><li>TRUE</li><li>TRUE</li><li>TRUE</li><li>TRUE</li><li>TRUE</li><li>TRUE</li><li>TRUE</li><li>TRUE</li><li>TRUE</li><li>TRUE</li><li>TRUE</li><li>TRUE</li><li>TRUE</li><li>TRUE</li><li>TRUE</li><li>TRUE</li><li>TRUE</li><li>TRUE</li><li>TRUE</li><li>TRUE</li><li>TRUE</li><li>TRUE</li><li>TRUE</li><li>TRUE</li><li>TRUE</li><li>TRUE</li><li>TRUE</li><li>TRUE</li><li>TRUE</li><li>TRUE</li><li>TRUE</li><li>TRUE</li><li>TRUE</li><li>TRUE</li><li>TRUE</li><li>TRUE</li><li>TRUE</li><li>TRUE</li><li>TRUE</li><li>TRUE</li><li>TRUE</li><li>TRUE</li><li>TRUE</li><li>TRUE</li><li>TRUE</li><li>TRUE</li><li>TRUE</li><li>TRUE</li><li>TRUE</li><li>TRUE</li><li>TRUE</li><li>TRUE</li><li>TRUE</li><li>TRUE</li><li>TRUE</li><li>TRUE</li><li>TRUE</li><li>TRUE</li><li>TRUE</li><li>TRUE</li><li>TRUE</li><li>TRUE</li><li>TRUE</li><li>TRUE</li><li>TRUE</li><li>TRUE</li><li>TRUE</li><li>TRUE</li><li>TRUE</li><li>TRUE</li><li>TRUE</li><li>TRUE</li><li>TRUE</li><li>TRUE</li><li>TRUE</li><li>TRUE</li><li>TRUE</li><li>TRUE</li><li>TRUE</li><li>TRUE</li><li>TRUE</li><li>TRUE</li><li>TRUE</li><li>TRUE</li><li>TRUE</li><li>TRUE</li><li>TRUE</li><li>TRUE</li><li>TRUE</li><li>TRUE</li><li>TRUE</li><li>TRUE</li><li>TRUE</li><li>TRUE</li><li>TRUE</li><li>TRUE</li><li>TRUE</li><li>TRUE</li><li>TRUE</li><li>TRUE</li><li>TRUE</li><li>TRUE</li><li>TRUE</li><li>TRUE</li><li>TRUE</li><li>TRUE</li><li>TRUE</li><li>TRUE</li><li>TRUE</li><li>TRUE</li><li>TRUE</li><li>TRUE</li><li>TRUE</li><li>TRUE</li><li>TRUE</li><li>TRUE</li></ol>\n"
      ],
      "text/latex": [
       "\\begin{enumerate*}\n",
       "\\item TRUE\n",
       "\\item TRUE\n",
       "\\item TRUE\n",
       "\\item TRUE\n",
       "\\item TRUE\n",
       "\\item TRUE\n",
       "\\item TRUE\n",
       "\\item TRUE\n",
       "\\item TRUE\n",
       "\\item TRUE\n",
       "\\item TRUE\n",
       "\\item TRUE\n",
       "\\item TRUE\n",
       "\\item TRUE\n",
       "\\item TRUE\n",
       "\\item TRUE\n",
       "\\item TRUE\n",
       "\\item TRUE\n",
       "\\item TRUE\n",
       "\\item TRUE\n",
       "\\item TRUE\n",
       "\\item TRUE\n",
       "\\item TRUE\n",
       "\\item TRUE\n",
       "\\item TRUE\n",
       "\\item TRUE\n",
       "\\item TRUE\n",
       "\\item TRUE\n",
       "\\item TRUE\n",
       "\\item TRUE\n",
       "\\item TRUE\n",
       "\\item TRUE\n",
       "\\item TRUE\n",
       "\\item TRUE\n",
       "\\item TRUE\n",
       "\\item TRUE\n",
       "\\item TRUE\n",
       "\\item TRUE\n",
       "\\item TRUE\n",
       "\\item TRUE\n",
       "\\item TRUE\n",
       "\\item TRUE\n",
       "\\item TRUE\n",
       "\\item TRUE\n",
       "\\item TRUE\n",
       "\\item TRUE\n",
       "\\item TRUE\n",
       "\\item TRUE\n",
       "\\item TRUE\n",
       "\\item TRUE\n",
       "\\item TRUE\n",
       "\\item TRUE\n",
       "\\item TRUE\n",
       "\\item TRUE\n",
       "\\item TRUE\n",
       "\\item TRUE\n",
       "\\item TRUE\n",
       "\\item TRUE\n",
       "\\item TRUE\n",
       "\\item TRUE\n",
       "\\item TRUE\n",
       "\\item TRUE\n",
       "\\item TRUE\n",
       "\\item TRUE\n",
       "\\item TRUE\n",
       "\\item TRUE\n",
       "\\item TRUE\n",
       "\\item TRUE\n",
       "\\item TRUE\n",
       "\\item TRUE\n",
       "\\item TRUE\n",
       "\\item TRUE\n",
       "\\item TRUE\n",
       "\\item TRUE\n",
       "\\item TRUE\n",
       "\\item TRUE\n",
       "\\item TRUE\n",
       "\\item TRUE\n",
       "\\item TRUE\n",
       "\\item TRUE\n",
       "\\item TRUE\n",
       "\\item TRUE\n",
       "\\item TRUE\n",
       "\\item TRUE\n",
       "\\item TRUE\n",
       "\\item TRUE\n",
       "\\item TRUE\n",
       "\\item TRUE\n",
       "\\item TRUE\n",
       "\\item TRUE\n",
       "\\item TRUE\n",
       "\\item TRUE\n",
       "\\item TRUE\n",
       "\\item TRUE\n",
       "\\item TRUE\n",
       "\\item TRUE\n",
       "\\item TRUE\n",
       "\\item TRUE\n",
       "\\item TRUE\n",
       "\\item TRUE\n",
       "\\item TRUE\n",
       "\\item TRUE\n",
       "\\item TRUE\n",
       "\\item TRUE\n",
       "\\item TRUE\n",
       "\\item TRUE\n",
       "\\item TRUE\n",
       "\\item TRUE\n",
       "\\item TRUE\n",
       "\\item TRUE\n",
       "\\item TRUE\n",
       "\\item TRUE\n",
       "\\item TRUE\n",
       "\\item TRUE\n",
       "\\item TRUE\n",
       "\\item TRUE\n",
       "\\item TRUE\n",
       "\\item TRUE\n",
       "\\item TRUE\n",
       "\\item TRUE\n",
       "\\item TRUE\n",
       "\\item TRUE\n",
       "\\item TRUE\n",
       "\\item TRUE\n",
       "\\item TRUE\n",
       "\\item TRUE\n",
       "\\item TRUE\n",
       "\\item TRUE\n",
       "\\item TRUE\n",
       "\\item TRUE\n",
       "\\item TRUE\n",
       "\\item TRUE\n",
       "\\item TRUE\n",
       "\\item TRUE\n",
       "\\item TRUE\n",
       "\\item TRUE\n",
       "\\item TRUE\n",
       "\\item TRUE\n",
       "\\item TRUE\n",
       "\\item TRUE\n",
       "\\item TRUE\n",
       "\\item TRUE\n",
       "\\item TRUE\n",
       "\\item TRUE\n",
       "\\item TRUE\n",
       "\\item TRUE\n",
       "\\item TRUE\n",
       "\\item TRUE\n",
       "\\item TRUE\n",
       "\\item TRUE\n",
       "\\item TRUE\n",
       "\\item TRUE\n",
       "\\item TRUE\n",
       "\\item TRUE\n",
       "\\item TRUE\n",
       "\\item TRUE\n",
       "\\item TRUE\n",
       "\\item TRUE\n",
       "\\item TRUE\n",
       "\\item TRUE\n",
       "\\item TRUE\n",
       "\\item TRUE\n",
       "\\item TRUE\n",
       "\\item TRUE\n",
       "\\item TRUE\n",
       "\\item TRUE\n",
       "\\item TRUE\n",
       "\\item TRUE\n",
       "\\item TRUE\n",
       "\\item TRUE\n",
       "\\item TRUE\n",
       "\\item TRUE\n",
       "\\item TRUE\n",
       "\\item TRUE\n",
       "\\item TRUE\n",
       "\\item TRUE\n",
       "\\item TRUE\n",
       "\\item TRUE\n",
       "\\item TRUE\n",
       "\\item TRUE\n",
       "\\item TRUE\n",
       "\\item TRUE\n",
       "\\item TRUE\n",
       "\\item TRUE\n",
       "\\item TRUE\n",
       "\\item TRUE\n",
       "\\item TRUE\n",
       "\\item TRUE\n",
       "\\item TRUE\n",
       "\\item TRUE\n",
       "\\item TRUE\n",
       "\\item TRUE\n",
       "\\item TRUE\n",
       "\\item TRUE\n",
       "\\item TRUE\n",
       "\\item TRUE\n",
       "\\item TRUE\n",
       "\\item TRUE\n",
       "\\item TRUE\n",
       "\\item TRUE\n",
       "\\item ⋯\n",
       "\\item TRUE\n",
       "\\item TRUE\n",
       "\\item TRUE\n",
       "\\item TRUE\n",
       "\\item TRUE\n",
       "\\item TRUE\n",
       "\\item TRUE\n",
       "\\item TRUE\n",
       "\\item TRUE\n",
       "\\item TRUE\n",
       "\\item TRUE\n",
       "\\item TRUE\n",
       "\\item TRUE\n",
       "\\item TRUE\n",
       "\\item TRUE\n",
       "\\item TRUE\n",
       "\\item TRUE\n",
       "\\item TRUE\n",
       "\\item TRUE\n",
       "\\item TRUE\n",
       "\\item TRUE\n",
       "\\item TRUE\n",
       "\\item TRUE\n",
       "\\item TRUE\n",
       "\\item TRUE\n",
       "\\item TRUE\n",
       "\\item TRUE\n",
       "\\item TRUE\n",
       "\\item TRUE\n",
       "\\item TRUE\n",
       "\\item TRUE\n",
       "\\item TRUE\n",
       "\\item TRUE\n",
       "\\item TRUE\n",
       "\\item TRUE\n",
       "\\item TRUE\n",
       "\\item TRUE\n",
       "\\item TRUE\n",
       "\\item TRUE\n",
       "\\item TRUE\n",
       "\\item TRUE\n",
       "\\item TRUE\n",
       "\\item TRUE\n",
       "\\item TRUE\n",
       "\\item TRUE\n",
       "\\item TRUE\n",
       "\\item TRUE\n",
       "\\item TRUE\n",
       "\\item TRUE\n",
       "\\item TRUE\n",
       "\\item TRUE\n",
       "\\item TRUE\n",
       "\\item TRUE\n",
       "\\item TRUE\n",
       "\\item TRUE\n",
       "\\item TRUE\n",
       "\\item TRUE\n",
       "\\item TRUE\n",
       "\\item TRUE\n",
       "\\item TRUE\n",
       "\\item TRUE\n",
       "\\item TRUE\n",
       "\\item TRUE\n",
       "\\item TRUE\n",
       "\\item TRUE\n",
       "\\item TRUE\n",
       "\\item TRUE\n",
       "\\item TRUE\n",
       "\\item TRUE\n",
       "\\item TRUE\n",
       "\\item TRUE\n",
       "\\item TRUE\n",
       "\\item TRUE\n",
       "\\item TRUE\n",
       "\\item TRUE\n",
       "\\item TRUE\n",
       "\\item TRUE\n",
       "\\item TRUE\n",
       "\\item TRUE\n",
       "\\item TRUE\n",
       "\\item TRUE\n",
       "\\item TRUE\n",
       "\\item TRUE\n",
       "\\item TRUE\n",
       "\\item TRUE\n",
       "\\item TRUE\n",
       "\\item TRUE\n",
       "\\item TRUE\n",
       "\\item TRUE\n",
       "\\item TRUE\n",
       "\\item TRUE\n",
       "\\item TRUE\n",
       "\\item TRUE\n",
       "\\item TRUE\n",
       "\\item TRUE\n",
       "\\item TRUE\n",
       "\\item TRUE\n",
       "\\item TRUE\n",
       "\\item TRUE\n",
       "\\item TRUE\n",
       "\\item TRUE\n",
       "\\item TRUE\n",
       "\\item TRUE\n",
       "\\item TRUE\n",
       "\\item TRUE\n",
       "\\item TRUE\n",
       "\\item TRUE\n",
       "\\item TRUE\n",
       "\\item TRUE\n",
       "\\item TRUE\n",
       "\\item TRUE\n",
       "\\item TRUE\n",
       "\\item TRUE\n",
       "\\item TRUE\n",
       "\\item TRUE\n",
       "\\item TRUE\n",
       "\\item TRUE\n",
       "\\item TRUE\n",
       "\\item TRUE\n",
       "\\item TRUE\n",
       "\\item TRUE\n",
       "\\item TRUE\n",
       "\\item TRUE\n",
       "\\item TRUE\n",
       "\\item TRUE\n",
       "\\item TRUE\n",
       "\\item TRUE\n",
       "\\item TRUE\n",
       "\\item TRUE\n",
       "\\item TRUE\n",
       "\\item TRUE\n",
       "\\item TRUE\n",
       "\\item TRUE\n",
       "\\item TRUE\n",
       "\\item TRUE\n",
       "\\item TRUE\n",
       "\\item TRUE\n",
       "\\item TRUE\n",
       "\\item TRUE\n",
       "\\item TRUE\n",
       "\\item TRUE\n",
       "\\item TRUE\n",
       "\\item TRUE\n",
       "\\item TRUE\n",
       "\\item TRUE\n",
       "\\item TRUE\n",
       "\\item TRUE\n",
       "\\item TRUE\n",
       "\\item TRUE\n",
       "\\item TRUE\n",
       "\\item TRUE\n",
       "\\item TRUE\n",
       "\\item TRUE\n",
       "\\item TRUE\n",
       "\\item TRUE\n",
       "\\item TRUE\n",
       "\\item TRUE\n",
       "\\item TRUE\n",
       "\\item TRUE\n",
       "\\item TRUE\n",
       "\\item TRUE\n",
       "\\item TRUE\n",
       "\\item TRUE\n",
       "\\item TRUE\n",
       "\\item TRUE\n",
       "\\item TRUE\n",
       "\\item TRUE\n",
       "\\item TRUE\n",
       "\\item TRUE\n",
       "\\item TRUE\n",
       "\\item TRUE\n",
       "\\item TRUE\n",
       "\\item TRUE\n",
       "\\item TRUE\n",
       "\\item TRUE\n",
       "\\item TRUE\n",
       "\\item TRUE\n",
       "\\item TRUE\n",
       "\\item TRUE\n",
       "\\item TRUE\n",
       "\\item TRUE\n",
       "\\item TRUE\n",
       "\\item TRUE\n",
       "\\item TRUE\n",
       "\\item TRUE\n",
       "\\item TRUE\n",
       "\\item TRUE\n",
       "\\item TRUE\n",
       "\\item TRUE\n",
       "\\item TRUE\n",
       "\\item TRUE\n",
       "\\item TRUE\n",
       "\\item TRUE\n",
       "\\item TRUE\n",
       "\\item TRUE\n",
       "\\item TRUE\n",
       "\\item TRUE\n",
       "\\item TRUE\n",
       "\\item TRUE\n",
       "\\item TRUE\n",
       "\\end{enumerate*}\n"
      ],
      "text/markdown": [
       "1. TRUE\n",
       "2. TRUE\n",
       "3. TRUE\n",
       "4. TRUE\n",
       "5. TRUE\n",
       "6. TRUE\n",
       "7. TRUE\n",
       "8. TRUE\n",
       "9. TRUE\n",
       "10. TRUE\n",
       "11. TRUE\n",
       "12. TRUE\n",
       "13. TRUE\n",
       "14. TRUE\n",
       "15. TRUE\n",
       "16. TRUE\n",
       "17. TRUE\n",
       "18. TRUE\n",
       "19. TRUE\n",
       "20. TRUE\n",
       "21. TRUE\n",
       "22. TRUE\n",
       "23. TRUE\n",
       "24. TRUE\n",
       "25. TRUE\n",
       "26. TRUE\n",
       "27. TRUE\n",
       "28. TRUE\n",
       "29. TRUE\n",
       "30. TRUE\n",
       "31. TRUE\n",
       "32. TRUE\n",
       "33. TRUE\n",
       "34. TRUE\n",
       "35. TRUE\n",
       "36. TRUE\n",
       "37. TRUE\n",
       "38. TRUE\n",
       "39. TRUE\n",
       "40. TRUE\n",
       "41. TRUE\n",
       "42. TRUE\n",
       "43. TRUE\n",
       "44. TRUE\n",
       "45. TRUE\n",
       "46. TRUE\n",
       "47. TRUE\n",
       "48. TRUE\n",
       "49. TRUE\n",
       "50. TRUE\n",
       "51. TRUE\n",
       "52. TRUE\n",
       "53. TRUE\n",
       "54. TRUE\n",
       "55. TRUE\n",
       "56. TRUE\n",
       "57. TRUE\n",
       "58. TRUE\n",
       "59. TRUE\n",
       "60. TRUE\n",
       "61. TRUE\n",
       "62. TRUE\n",
       "63. TRUE\n",
       "64. TRUE\n",
       "65. TRUE\n",
       "66. TRUE\n",
       "67. TRUE\n",
       "68. TRUE\n",
       "69. TRUE\n",
       "70. TRUE\n",
       "71. TRUE\n",
       "72. TRUE\n",
       "73. TRUE\n",
       "74. TRUE\n",
       "75. TRUE\n",
       "76. TRUE\n",
       "77. TRUE\n",
       "78. TRUE\n",
       "79. TRUE\n",
       "80. TRUE\n",
       "81. TRUE\n",
       "82. TRUE\n",
       "83. TRUE\n",
       "84. TRUE\n",
       "85. TRUE\n",
       "86. TRUE\n",
       "87. TRUE\n",
       "88. TRUE\n",
       "89. TRUE\n",
       "90. TRUE\n",
       "91. TRUE\n",
       "92. TRUE\n",
       "93. TRUE\n",
       "94. TRUE\n",
       "95. TRUE\n",
       "96. TRUE\n",
       "97. TRUE\n",
       "98. TRUE\n",
       "99. TRUE\n",
       "100. TRUE\n",
       "101. TRUE\n",
       "102. TRUE\n",
       "103. TRUE\n",
       "104. TRUE\n",
       "105. TRUE\n",
       "106. TRUE\n",
       "107. TRUE\n",
       "108. TRUE\n",
       "109. TRUE\n",
       "110. TRUE\n",
       "111. TRUE\n",
       "112. TRUE\n",
       "113. TRUE\n",
       "114. TRUE\n",
       "115. TRUE\n",
       "116. TRUE\n",
       "117. TRUE\n",
       "118. TRUE\n",
       "119. TRUE\n",
       "120. TRUE\n",
       "121. TRUE\n",
       "122. TRUE\n",
       "123. TRUE\n",
       "124. TRUE\n",
       "125. TRUE\n",
       "126. TRUE\n",
       "127. TRUE\n",
       "128. TRUE\n",
       "129. TRUE\n",
       "130. TRUE\n",
       "131. TRUE\n",
       "132. TRUE\n",
       "133. TRUE\n",
       "134. TRUE\n",
       "135. TRUE\n",
       "136. TRUE\n",
       "137. TRUE\n",
       "138. TRUE\n",
       "139. TRUE\n",
       "140. TRUE\n",
       "141. TRUE\n",
       "142. TRUE\n",
       "143. TRUE\n",
       "144. TRUE\n",
       "145. TRUE\n",
       "146. TRUE\n",
       "147. TRUE\n",
       "148. TRUE\n",
       "149. TRUE\n",
       "150. TRUE\n",
       "151. TRUE\n",
       "152. TRUE\n",
       "153. TRUE\n",
       "154. TRUE\n",
       "155. TRUE\n",
       "156. TRUE\n",
       "157. TRUE\n",
       "158. TRUE\n",
       "159. TRUE\n",
       "160. TRUE\n",
       "161. TRUE\n",
       "162. TRUE\n",
       "163. TRUE\n",
       "164. TRUE\n",
       "165. TRUE\n",
       "166. TRUE\n",
       "167. TRUE\n",
       "168. TRUE\n",
       "169. TRUE\n",
       "170. TRUE\n",
       "171. TRUE\n",
       "172. TRUE\n",
       "173. TRUE\n",
       "174. TRUE\n",
       "175. TRUE\n",
       "176. TRUE\n",
       "177. TRUE\n",
       "178. TRUE\n",
       "179. TRUE\n",
       "180. TRUE\n",
       "181. TRUE\n",
       "182. TRUE\n",
       "183. TRUE\n",
       "184. TRUE\n",
       "185. TRUE\n",
       "186. TRUE\n",
       "187. TRUE\n",
       "188. TRUE\n",
       "189. TRUE\n",
       "190. TRUE\n",
       "191. TRUE\n",
       "192. TRUE\n",
       "193. TRUE\n",
       "194. TRUE\n",
       "195. TRUE\n",
       "196. TRUE\n",
       "197. TRUE\n",
       "198. TRUE\n",
       "199. TRUE\n",
       "200. TRUE\n",
       "201. ⋯\n",
       "202. TRUE\n",
       "203. TRUE\n",
       "204. TRUE\n",
       "205. TRUE\n",
       "206. TRUE\n",
       "207. TRUE\n",
       "208. TRUE\n",
       "209. TRUE\n",
       "210. TRUE\n",
       "211. TRUE\n",
       "212. TRUE\n",
       "213. TRUE\n",
       "214. TRUE\n",
       "215. TRUE\n",
       "216. TRUE\n",
       "217. TRUE\n",
       "218. TRUE\n",
       "219. TRUE\n",
       "220. TRUE\n",
       "221. TRUE\n",
       "222. TRUE\n",
       "223. TRUE\n",
       "224. TRUE\n",
       "225. TRUE\n",
       "226. TRUE\n",
       "227. TRUE\n",
       "228. TRUE\n",
       "229. TRUE\n",
       "230. TRUE\n",
       "231. TRUE\n",
       "232. TRUE\n",
       "233. TRUE\n",
       "234. TRUE\n",
       "235. TRUE\n",
       "236. TRUE\n",
       "237. TRUE\n",
       "238. TRUE\n",
       "239. TRUE\n",
       "240. TRUE\n",
       "241. TRUE\n",
       "242. TRUE\n",
       "243. TRUE\n",
       "244. TRUE\n",
       "245. TRUE\n",
       "246. TRUE\n",
       "247. TRUE\n",
       "248. TRUE\n",
       "249. TRUE\n",
       "250. TRUE\n",
       "251. TRUE\n",
       "252. TRUE\n",
       "253. TRUE\n",
       "254. TRUE\n",
       "255. TRUE\n",
       "256. TRUE\n",
       "257. TRUE\n",
       "258. TRUE\n",
       "259. TRUE\n",
       "260. TRUE\n",
       "261. TRUE\n",
       "262. TRUE\n",
       "263. TRUE\n",
       "264. TRUE\n",
       "265. TRUE\n",
       "266. TRUE\n",
       "267. TRUE\n",
       "268. TRUE\n",
       "269. TRUE\n",
       "270. TRUE\n",
       "271. TRUE\n",
       "272. TRUE\n",
       "273. TRUE\n",
       "274. TRUE\n",
       "275. TRUE\n",
       "276. TRUE\n",
       "277. TRUE\n",
       "278. TRUE\n",
       "279. TRUE\n",
       "280. TRUE\n",
       "281. TRUE\n",
       "282. TRUE\n",
       "283. TRUE\n",
       "284. TRUE\n",
       "285. TRUE\n",
       "286. TRUE\n",
       "287. TRUE\n",
       "288. TRUE\n",
       "289. TRUE\n",
       "290. TRUE\n",
       "291. TRUE\n",
       "292. TRUE\n",
       "293. TRUE\n",
       "294. TRUE\n",
       "295. TRUE\n",
       "296. TRUE\n",
       "297. TRUE\n",
       "298. TRUE\n",
       "299. TRUE\n",
       "300. TRUE\n",
       "301. TRUE\n",
       "302. TRUE\n",
       "303. TRUE\n",
       "304. TRUE\n",
       "305. TRUE\n",
       "306. TRUE\n",
       "307. TRUE\n",
       "308. TRUE\n",
       "309. TRUE\n",
       "310. TRUE\n",
       "311. TRUE\n",
       "312. TRUE\n",
       "313. TRUE\n",
       "314. TRUE\n",
       "315. TRUE\n",
       "316. TRUE\n",
       "317. TRUE\n",
       "318. TRUE\n",
       "319. TRUE\n",
       "320. TRUE\n",
       "321. TRUE\n",
       "322. TRUE\n",
       "323. TRUE\n",
       "324. TRUE\n",
       "325. TRUE\n",
       "326. TRUE\n",
       "327. TRUE\n",
       "328. TRUE\n",
       "329. TRUE\n",
       "330. TRUE\n",
       "331. TRUE\n",
       "332. TRUE\n",
       "333. TRUE\n",
       "334. TRUE\n",
       "335. TRUE\n",
       "336. TRUE\n",
       "337. TRUE\n",
       "338. TRUE\n",
       "339. TRUE\n",
       "340. TRUE\n",
       "341. TRUE\n",
       "342. TRUE\n",
       "343. TRUE\n",
       "344. TRUE\n",
       "345. TRUE\n",
       "346. TRUE\n",
       "347. TRUE\n",
       "348. TRUE\n",
       "349. TRUE\n",
       "350. TRUE\n",
       "351. TRUE\n",
       "352. TRUE\n",
       "353. TRUE\n",
       "354. TRUE\n",
       "355. TRUE\n",
       "356. TRUE\n",
       "357. TRUE\n",
       "358. TRUE\n",
       "359. TRUE\n",
       "360. TRUE\n",
       "361. TRUE\n",
       "362. TRUE\n",
       "363. TRUE\n",
       "364. TRUE\n",
       "365. TRUE\n",
       "366. TRUE\n",
       "367. TRUE\n",
       "368. TRUE\n",
       "369. TRUE\n",
       "370. TRUE\n",
       "371. TRUE\n",
       "372. TRUE\n",
       "373. TRUE\n",
       "374. TRUE\n",
       "375. TRUE\n",
       "376. TRUE\n",
       "377. TRUE\n",
       "378. TRUE\n",
       "379. TRUE\n",
       "380. TRUE\n",
       "381. TRUE\n",
       "382. TRUE\n",
       "383. TRUE\n",
       "384. TRUE\n",
       "385. TRUE\n",
       "386. TRUE\n",
       "387. TRUE\n",
       "388. TRUE\n",
       "389. TRUE\n",
       "390. TRUE\n",
       "391. TRUE\n",
       "392. TRUE\n",
       "393. TRUE\n",
       "394. TRUE\n",
       "395. TRUE\n",
       "396. TRUE\n",
       "397. TRUE\n",
       "398. TRUE\n",
       "399. TRUE\n",
       "400. TRUE\n",
       "401. TRUE\n",
       "\n",
       "\n"
      ],
      "text/plain": [
       "   [1] TRUE TRUE TRUE TRUE TRUE TRUE TRUE TRUE TRUE TRUE TRUE TRUE TRUE TRUE\n",
       "  [15] TRUE TRUE TRUE TRUE TRUE TRUE TRUE TRUE TRUE TRUE TRUE TRUE TRUE TRUE\n",
       "  [29] TRUE TRUE TRUE TRUE TRUE TRUE TRUE TRUE TRUE TRUE TRUE TRUE TRUE TRUE\n",
       "  [43] TRUE TRUE TRUE TRUE TRUE TRUE TRUE TRUE TRUE TRUE TRUE TRUE TRUE TRUE\n",
       "  [57] TRUE TRUE TRUE TRUE TRUE TRUE TRUE TRUE TRUE TRUE TRUE TRUE TRUE TRUE\n",
       "  [71] TRUE TRUE TRUE TRUE TRUE TRUE TRUE TRUE TRUE TRUE TRUE TRUE TRUE TRUE\n",
       "  [85] TRUE TRUE TRUE TRUE TRUE TRUE TRUE TRUE TRUE TRUE TRUE TRUE TRUE TRUE\n",
       "  [99] TRUE TRUE TRUE TRUE TRUE TRUE TRUE TRUE TRUE TRUE TRUE TRUE TRUE TRUE\n",
       " [113] TRUE TRUE TRUE TRUE TRUE TRUE TRUE TRUE TRUE TRUE TRUE TRUE TRUE TRUE\n",
       " [127] TRUE TRUE TRUE TRUE TRUE TRUE TRUE TRUE TRUE TRUE TRUE TRUE TRUE TRUE\n",
       " [141] TRUE TRUE TRUE TRUE TRUE TRUE TRUE TRUE TRUE TRUE TRUE TRUE TRUE TRUE\n",
       " [155] TRUE TRUE TRUE TRUE TRUE TRUE TRUE TRUE TRUE TRUE TRUE TRUE TRUE TRUE\n",
       " [169] TRUE TRUE TRUE TRUE TRUE TRUE TRUE TRUE TRUE TRUE TRUE TRUE TRUE TRUE\n",
       " [183] TRUE TRUE TRUE TRUE TRUE TRUE TRUE TRUE TRUE TRUE TRUE TRUE TRUE TRUE\n",
       " [197] TRUE TRUE TRUE TRUE TRUE TRUE TRUE TRUE TRUE TRUE TRUE TRUE TRUE TRUE\n",
       " [211] TRUE TRUE TRUE TRUE TRUE TRUE TRUE TRUE TRUE TRUE TRUE TRUE TRUE TRUE\n",
       " [225] TRUE TRUE TRUE TRUE TRUE TRUE TRUE TRUE TRUE TRUE TRUE TRUE TRUE TRUE\n",
       " [239] TRUE TRUE TRUE TRUE TRUE TRUE TRUE TRUE TRUE TRUE TRUE TRUE TRUE TRUE\n",
       " [253] TRUE TRUE TRUE TRUE TRUE TRUE TRUE TRUE TRUE TRUE TRUE TRUE TRUE TRUE\n",
       " [267] TRUE TRUE TRUE TRUE TRUE TRUE TRUE TRUE TRUE TRUE TRUE TRUE TRUE TRUE\n",
       " [281] TRUE TRUE TRUE TRUE TRUE TRUE TRUE TRUE TRUE TRUE TRUE TRUE TRUE TRUE\n",
       " [295] TRUE TRUE TRUE TRUE TRUE TRUE TRUE TRUE TRUE TRUE TRUE TRUE TRUE TRUE\n",
       " [309] TRUE TRUE TRUE TRUE TRUE TRUE TRUE TRUE TRUE TRUE TRUE TRUE TRUE TRUE\n",
       " [323] TRUE TRUE TRUE TRUE TRUE TRUE TRUE TRUE TRUE TRUE TRUE TRUE TRUE TRUE\n",
       " [337] TRUE TRUE TRUE TRUE TRUE TRUE TRUE TRUE TRUE TRUE TRUE TRUE TRUE TRUE\n",
       " [351] TRUE TRUE TRUE TRUE TRUE TRUE TRUE TRUE TRUE TRUE TRUE TRUE TRUE TRUE\n",
       " [365] TRUE TRUE TRUE TRUE TRUE TRUE TRUE TRUE TRUE TRUE TRUE TRUE TRUE TRUE\n",
       " [379] TRUE TRUE TRUE TRUE TRUE TRUE TRUE TRUE TRUE TRUE TRUE TRUE TRUE TRUE\n",
       " [393] TRUE TRUE TRUE TRUE TRUE TRUE TRUE TRUE TRUE TRUE TRUE TRUE TRUE TRUE\n",
       " [407] TRUE TRUE TRUE TRUE TRUE TRUE TRUE TRUE TRUE TRUE TRUE TRUE TRUE TRUE\n",
       " [421] TRUE TRUE TRUE TRUE TRUE TRUE TRUE TRUE TRUE TRUE TRUE TRUE TRUE TRUE\n",
       " [435] TRUE TRUE TRUE TRUE TRUE TRUE TRUE TRUE TRUE TRUE TRUE TRUE TRUE TRUE\n",
       " [449] TRUE TRUE TRUE TRUE TRUE TRUE TRUE TRUE TRUE TRUE TRUE TRUE TRUE TRUE\n",
       " [463] TRUE TRUE TRUE TRUE TRUE TRUE TRUE TRUE TRUE TRUE TRUE TRUE TRUE TRUE\n",
       " [477] TRUE TRUE TRUE TRUE TRUE TRUE TRUE TRUE TRUE TRUE TRUE TRUE TRUE TRUE\n",
       " [491] TRUE TRUE TRUE TRUE TRUE TRUE TRUE TRUE TRUE TRUE TRUE TRUE TRUE TRUE\n",
       " [505] TRUE TRUE TRUE TRUE TRUE TRUE TRUE TRUE TRUE TRUE TRUE TRUE TRUE TRUE\n",
       " [519] TRUE TRUE TRUE TRUE TRUE TRUE TRUE TRUE TRUE TRUE TRUE TRUE TRUE TRUE\n",
       " [533] TRUE TRUE TRUE TRUE TRUE TRUE TRUE TRUE TRUE TRUE TRUE TRUE TRUE TRUE\n",
       " [547] TRUE TRUE TRUE TRUE TRUE TRUE TRUE TRUE TRUE TRUE TRUE TRUE TRUE TRUE\n",
       " [561] TRUE TRUE TRUE TRUE TRUE TRUE TRUE TRUE TRUE TRUE TRUE TRUE TRUE TRUE\n",
       " [575] TRUE TRUE TRUE TRUE TRUE TRUE TRUE TRUE TRUE TRUE TRUE TRUE TRUE TRUE\n",
       " [589] TRUE TRUE TRUE TRUE TRUE TRUE TRUE TRUE TRUE TRUE TRUE TRUE TRUE TRUE\n",
       " [603] TRUE TRUE TRUE TRUE TRUE TRUE TRUE TRUE TRUE TRUE TRUE TRUE TRUE TRUE\n",
       " [617] TRUE TRUE TRUE TRUE TRUE TRUE TRUE TRUE TRUE TRUE TRUE TRUE TRUE TRUE\n",
       " [631] TRUE TRUE TRUE TRUE TRUE TRUE TRUE TRUE TRUE TRUE TRUE TRUE TRUE TRUE\n",
       " [645] TRUE TRUE TRUE TRUE TRUE TRUE TRUE TRUE TRUE TRUE TRUE TRUE TRUE TRUE\n",
       " [659] TRUE TRUE TRUE TRUE TRUE TRUE TRUE TRUE TRUE TRUE TRUE TRUE TRUE TRUE\n",
       " [673] TRUE TRUE TRUE TRUE TRUE TRUE TRUE TRUE TRUE TRUE TRUE TRUE TRUE TRUE\n",
       " [687] TRUE TRUE TRUE TRUE TRUE TRUE TRUE TRUE TRUE TRUE TRUE TRUE TRUE TRUE\n",
       " [701] TRUE TRUE TRUE TRUE TRUE TRUE TRUE TRUE TRUE TRUE TRUE TRUE TRUE TRUE\n",
       " [715] TRUE TRUE TRUE TRUE TRUE TRUE TRUE TRUE TRUE TRUE TRUE TRUE TRUE TRUE\n",
       " [729] TRUE TRUE TRUE TRUE TRUE TRUE TRUE TRUE TRUE TRUE TRUE TRUE TRUE TRUE\n",
       " [743] TRUE TRUE TRUE TRUE TRUE TRUE TRUE TRUE TRUE TRUE TRUE TRUE TRUE TRUE\n",
       " [757] TRUE TRUE TRUE TRUE TRUE TRUE TRUE TRUE TRUE TRUE TRUE TRUE TRUE TRUE\n",
       " [771] TRUE TRUE TRUE TRUE TRUE TRUE TRUE TRUE TRUE TRUE TRUE TRUE TRUE TRUE\n",
       " [785] TRUE TRUE TRUE TRUE TRUE TRUE TRUE TRUE TRUE TRUE TRUE TRUE TRUE TRUE\n",
       " [799] TRUE TRUE TRUE TRUE TRUE TRUE TRUE TRUE TRUE TRUE TRUE TRUE TRUE TRUE\n",
       " [813] TRUE TRUE TRUE TRUE TRUE TRUE TRUE TRUE TRUE TRUE TRUE TRUE TRUE TRUE\n",
       " [827] TRUE TRUE TRUE TRUE TRUE TRUE TRUE TRUE TRUE TRUE TRUE TRUE TRUE TRUE\n",
       " [841] TRUE TRUE TRUE TRUE TRUE TRUE TRUE TRUE TRUE TRUE TRUE TRUE TRUE TRUE\n",
       " [855] TRUE TRUE TRUE TRUE TRUE TRUE TRUE TRUE TRUE TRUE TRUE TRUE TRUE TRUE\n",
       " [869] TRUE TRUE TRUE TRUE TRUE TRUE TRUE TRUE TRUE TRUE TRUE TRUE TRUE TRUE\n",
       " [883] TRUE TRUE TRUE TRUE TRUE TRUE TRUE TRUE TRUE TRUE TRUE TRUE TRUE TRUE\n",
       " [897] TRUE TRUE TRUE TRUE TRUE TRUE TRUE TRUE TRUE TRUE TRUE TRUE TRUE TRUE\n",
       " [911] TRUE TRUE TRUE TRUE TRUE TRUE TRUE TRUE TRUE TRUE TRUE TRUE TRUE TRUE\n",
       " [925] TRUE TRUE TRUE TRUE TRUE TRUE TRUE TRUE TRUE TRUE TRUE TRUE TRUE TRUE\n",
       " [939] TRUE TRUE TRUE TRUE TRUE TRUE TRUE TRUE TRUE TRUE TRUE TRUE TRUE TRUE\n",
       " [953] TRUE TRUE TRUE TRUE TRUE TRUE TRUE TRUE TRUE TRUE TRUE TRUE TRUE TRUE\n",
       " [967] TRUE TRUE TRUE TRUE TRUE TRUE TRUE TRUE TRUE TRUE TRUE TRUE TRUE TRUE\n",
       " [981] TRUE TRUE TRUE TRUE TRUE TRUE TRUE TRUE TRUE TRUE TRUE TRUE TRUE TRUE\n",
       " [995] TRUE TRUE TRUE TRUE TRUE TRUE TRUE TRUE TRUE TRUE TRUE TRUE TRUE TRUE\n",
       "[1009] TRUE TRUE TRUE TRUE TRUE TRUE TRUE TRUE TRUE TRUE TRUE TRUE TRUE TRUE\n",
       "[1023] TRUE TRUE TRUE TRUE TRUE TRUE TRUE TRUE TRUE TRUE TRUE TRUE TRUE TRUE\n",
       "[1037] TRUE TRUE TRUE TRUE TRUE TRUE TRUE TRUE TRUE TRUE TRUE TRUE TRUE TRUE\n",
       "[1051] TRUE TRUE TRUE TRUE TRUE TRUE TRUE TRUE TRUE TRUE TRUE TRUE TRUE TRUE\n",
       "[1065] TRUE TRUE TRUE TRUE TRUE TRUE TRUE TRUE TRUE TRUE TRUE TRUE TRUE TRUE\n",
       "[1079] TRUE TRUE TRUE TRUE TRUE TRUE TRUE TRUE TRUE TRUE TRUE TRUE TRUE TRUE\n",
       "[1093] TRUE TRUE TRUE TRUE TRUE TRUE TRUE TRUE TRUE TRUE TRUE TRUE TRUE TRUE\n",
       "[1107] TRUE TRUE TRUE TRUE TRUE TRUE TRUE TRUE TRUE TRUE TRUE TRUE TRUE TRUE\n",
       "[1121] TRUE TRUE TRUE TRUE TRUE TRUE TRUE TRUE TRUE TRUE TRUE TRUE TRUE TRUE\n",
       "[1135] TRUE TRUE TRUE TRUE TRUE TRUE TRUE TRUE TRUE TRUE TRUE TRUE TRUE TRUE\n",
       "[1149] TRUE TRUE TRUE TRUE TRUE TRUE TRUE TRUE TRUE TRUE TRUE TRUE TRUE TRUE\n",
       "[1163] TRUE TRUE TRUE TRUE TRUE TRUE TRUE TRUE TRUE TRUE TRUE TRUE TRUE TRUE\n",
       "[1177] TRUE TRUE TRUE TRUE TRUE TRUE TRUE TRUE TRUE TRUE TRUE TRUE TRUE TRUE\n",
       "[1191] TRUE TRUE TRUE TRUE TRUE TRUE TRUE TRUE TRUE TRUE TRUE TRUE TRUE TRUE\n",
       "[1205] TRUE TRUE TRUE TRUE TRUE TRUE TRUE TRUE TRUE TRUE TRUE TRUE TRUE TRUE\n",
       "[1219] TRUE TRUE TRUE TRUE TRUE TRUE TRUE TRUE TRUE TRUE TRUE TRUE TRUE TRUE\n",
       "[1233] TRUE TRUE TRUE TRUE TRUE TRUE TRUE TRUE TRUE TRUE TRUE TRUE TRUE TRUE\n",
       "[1247] TRUE TRUE TRUE TRUE TRUE TRUE TRUE TRUE TRUE TRUE TRUE TRUE TRUE TRUE\n",
       "[1261] TRUE TRUE TRUE TRUE TRUE TRUE TRUE TRUE TRUE TRUE TRUE TRUE TRUE TRUE\n",
       "[1275] TRUE TRUE TRUE TRUE TRUE TRUE TRUE TRUE TRUE TRUE TRUE TRUE TRUE TRUE\n",
       "[1289] TRUE TRUE TRUE TRUE TRUE TRUE TRUE TRUE TRUE TRUE TRUE TRUE TRUE TRUE\n",
       "[1303] TRUE TRUE TRUE TRUE TRUE TRUE TRUE TRUE TRUE TRUE TRUE TRUE TRUE TRUE\n",
       "[1317] TRUE TRUE TRUE TRUE TRUE TRUE TRUE TRUE TRUE TRUE TRUE TRUE TRUE TRUE\n",
       "[1331] TRUE TRUE TRUE TRUE TRUE TRUE TRUE TRUE TRUE TRUE TRUE TRUE TRUE TRUE\n",
       "[1345] TRUE TRUE TRUE TRUE TRUE TRUE TRUE TRUE TRUE TRUE TRUE TRUE TRUE TRUE\n",
       "[1359] TRUE TRUE TRUE TRUE TRUE TRUE TRUE TRUE TRUE TRUE TRUE TRUE TRUE TRUE\n",
       "[1373] TRUE TRUE TRUE TRUE TRUE TRUE TRUE TRUE TRUE TRUE TRUE TRUE TRUE TRUE\n",
       "[1387] TRUE TRUE TRUE TRUE TRUE TRUE TRUE TRUE TRUE TRUE TRUE TRUE TRUE TRUE\n",
       "[1401] TRUE TRUE TRUE TRUE TRUE TRUE TRUE TRUE TRUE TRUE TRUE TRUE TRUE TRUE\n",
       "[1415] TRUE TRUE TRUE TRUE TRUE TRUE TRUE TRUE TRUE TRUE TRUE TRUE TRUE TRUE\n",
       "[1429] TRUE TRUE TRUE TRUE TRUE TRUE TRUE TRUE TRUE TRUE TRUE TRUE TRUE TRUE\n",
       "[1443] TRUE TRUE TRUE TRUE TRUE TRUE TRUE TRUE TRUE TRUE TRUE TRUE TRUE TRUE\n",
       "[1457] TRUE TRUE TRUE TRUE TRUE TRUE TRUE TRUE TRUE TRUE TRUE TRUE TRUE TRUE\n",
       "[1471] TRUE TRUE TRUE TRUE TRUE TRUE TRUE TRUE TRUE TRUE TRUE TRUE TRUE TRUE\n",
       "[1485] TRUE TRUE TRUE TRUE TRUE TRUE TRUE TRUE TRUE TRUE TRUE TRUE TRUE TRUE\n",
       "[1499] TRUE TRUE TRUE TRUE TRUE TRUE TRUE TRUE TRUE TRUE TRUE TRUE TRUE TRUE\n",
       "[1513] TRUE TRUE TRUE TRUE TRUE TRUE TRUE TRUE TRUE TRUE TRUE TRUE TRUE TRUE\n",
       "[1527] TRUE TRUE TRUE TRUE TRUE TRUE TRUE TRUE TRUE TRUE TRUE TRUE TRUE TRUE\n",
       "[1541] TRUE TRUE TRUE TRUE TRUE TRUE TRUE TRUE TRUE TRUE TRUE TRUE TRUE TRUE\n",
       "[1555] TRUE TRUE TRUE TRUE TRUE TRUE TRUE TRUE TRUE TRUE TRUE TRUE TRUE TRUE\n",
       "[1569] TRUE TRUE TRUE TRUE TRUE TRUE TRUE TRUE TRUE TRUE TRUE TRUE TRUE TRUE\n",
       "[1583] TRUE TRUE TRUE TRUE TRUE TRUE TRUE TRUE TRUE TRUE TRUE TRUE TRUE TRUE\n",
       "[1597] TRUE TRUE TRUE TRUE TRUE TRUE TRUE TRUE TRUE TRUE TRUE TRUE TRUE TRUE\n",
       "[1611] TRUE TRUE TRUE TRUE TRUE TRUE TRUE TRUE TRUE TRUE TRUE TRUE TRUE TRUE\n",
       "[1625] TRUE TRUE TRUE TRUE TRUE TRUE TRUE TRUE TRUE TRUE TRUE TRUE TRUE TRUE\n",
       "[1639] TRUE TRUE TRUE TRUE TRUE TRUE TRUE TRUE TRUE TRUE TRUE TRUE TRUE TRUE\n",
       "[1653] TRUE TRUE TRUE TRUE TRUE TRUE TRUE TRUE TRUE TRUE TRUE TRUE TRUE TRUE\n",
       "[1667] TRUE TRUE TRUE TRUE TRUE TRUE TRUE TRUE TRUE TRUE TRUE TRUE TRUE TRUE\n",
       "[1681] TRUE TRUE TRUE TRUE TRUE TRUE TRUE TRUE TRUE TRUE TRUE TRUE TRUE TRUE\n",
       "[1695] TRUE TRUE TRUE TRUE TRUE TRUE TRUE TRUE TRUE TRUE TRUE TRUE TRUE TRUE\n",
       "[1709] TRUE TRUE TRUE TRUE TRUE TRUE TRUE TRUE TRUE TRUE TRUE TRUE TRUE TRUE\n",
       "[1723] TRUE TRUE TRUE TRUE TRUE TRUE TRUE TRUE TRUE TRUE TRUE TRUE TRUE TRUE\n",
       "[1737] TRUE TRUE TRUE TRUE TRUE TRUE TRUE TRUE TRUE TRUE TRUE TRUE TRUE TRUE\n",
       "[1751] TRUE TRUE TRUE TRUE TRUE TRUE TRUE TRUE TRUE TRUE TRUE TRUE TRUE TRUE\n",
       "[1765] TRUE TRUE TRUE TRUE TRUE TRUE TRUE TRUE TRUE TRUE TRUE TRUE TRUE TRUE\n",
       "[1779] TRUE TRUE TRUE TRUE TRUE TRUE TRUE TRUE TRUE TRUE TRUE TRUE TRUE TRUE\n",
       "[1793] TRUE TRUE TRUE TRUE TRUE TRUE TRUE TRUE TRUE TRUE TRUE TRUE TRUE TRUE\n",
       "[1807] TRUE TRUE TRUE TRUE TRUE TRUE TRUE TRUE TRUE TRUE TRUE TRUE TRUE TRUE\n",
       "[1821] TRUE TRUE TRUE TRUE TRUE TRUE TRUE TRUE TRUE TRUE TRUE TRUE TRUE TRUE\n",
       "[1835] TRUE TRUE TRUE TRUE TRUE TRUE TRUE TRUE TRUE TRUE TRUE TRUE TRUE TRUE\n",
       "[1849] TRUE TRUE TRUE TRUE TRUE TRUE TRUE TRUE TRUE TRUE TRUE TRUE TRUE TRUE\n",
       "[1863] TRUE TRUE TRUE TRUE TRUE TRUE TRUE TRUE TRUE TRUE TRUE TRUE TRUE TRUE\n",
       "[1877] TRUE TRUE TRUE TRUE TRUE TRUE TRUE TRUE TRUE TRUE TRUE TRUE TRUE TRUE\n",
       "[1891] TRUE TRUE TRUE TRUE TRUE TRUE TRUE TRUE TRUE TRUE TRUE TRUE TRUE TRUE\n",
       "[1905] TRUE TRUE TRUE TRUE TRUE TRUE TRUE TRUE TRUE TRUE TRUE TRUE TRUE TRUE\n",
       "[1919] TRUE TRUE TRUE TRUE TRUE TRUE TRUE TRUE TRUE TRUE TRUE TRUE TRUE TRUE\n",
       "[1933] TRUE TRUE TRUE TRUE TRUE TRUE TRUE TRUE TRUE TRUE TRUE TRUE TRUE TRUE\n",
       "[1947] TRUE TRUE TRUE TRUE TRUE TRUE TRUE TRUE TRUE TRUE TRUE TRUE TRUE TRUE\n",
       "[1961] TRUE TRUE TRUE TRUE TRUE TRUE TRUE TRUE TRUE TRUE TRUE TRUE TRUE TRUE\n",
       "[1975] TRUE TRUE TRUE TRUE TRUE TRUE TRUE TRUE TRUE TRUE TRUE TRUE TRUE TRUE\n",
       "[1989] TRUE TRUE TRUE TRUE TRUE TRUE TRUE TRUE TRUE TRUE TRUE TRUE TRUE TRUE\n",
       "[2003] TRUE TRUE TRUE TRUE TRUE TRUE TRUE TRUE TRUE TRUE TRUE TRUE TRUE TRUE\n",
       "[2017] TRUE TRUE TRUE TRUE TRUE TRUE TRUE TRUE TRUE TRUE TRUE TRUE TRUE TRUE\n",
       "[2031] TRUE TRUE TRUE TRUE TRUE TRUE TRUE TRUE TRUE TRUE TRUE TRUE TRUE TRUE\n",
       "[2045] TRUE TRUE TRUE TRUE TRUE TRUE TRUE TRUE TRUE TRUE TRUE TRUE TRUE TRUE\n",
       "[2059] TRUE TRUE TRUE TRUE TRUE TRUE TRUE TRUE TRUE TRUE TRUE TRUE TRUE TRUE\n",
       "[2073] TRUE TRUE TRUE TRUE TRUE TRUE TRUE TRUE TRUE TRUE TRUE TRUE TRUE TRUE\n",
       "[2087] TRUE TRUE TRUE TRUE TRUE TRUE TRUE TRUE TRUE TRUE TRUE TRUE TRUE TRUE\n",
       "[2101] TRUE TRUE TRUE TRUE TRUE TRUE TRUE TRUE TRUE TRUE TRUE TRUE TRUE TRUE\n",
       "[2115] TRUE TRUE TRUE TRUE TRUE TRUE TRUE TRUE TRUE TRUE TRUE TRUE TRUE TRUE\n",
       "[2129] TRUE TRUE TRUE TRUE TRUE TRUE TRUE TRUE TRUE TRUE TRUE TRUE TRUE TRUE\n",
       "[2143] TRUE TRUE TRUE TRUE TRUE TRUE TRUE TRUE TRUE TRUE TRUE TRUE TRUE TRUE\n",
       "[2157] TRUE TRUE TRUE TRUE TRUE TRUE TRUE TRUE TRUE TRUE TRUE TRUE TRUE TRUE\n",
       "[2171] TRUE TRUE TRUE TRUE TRUE TRUE TRUE TRUE TRUE TRUE TRUE TRUE TRUE TRUE\n",
       "[2185] TRUE TRUE TRUE TRUE TRUE TRUE TRUE TRUE TRUE TRUE TRUE TRUE TRUE TRUE\n",
       "[2199] TRUE TRUE TRUE TRUE TRUE TRUE TRUE TRUE TRUE TRUE TRUE TRUE TRUE TRUE\n",
       "[2213] TRUE TRUE TRUE TRUE TRUE TRUE TRUE TRUE TRUE TRUE TRUE TRUE TRUE TRUE\n",
       "[2227] TRUE TRUE TRUE TRUE TRUE TRUE TRUE TRUE TRUE TRUE TRUE TRUE TRUE TRUE\n",
       "[2241] TRUE TRUE TRUE TRUE TRUE TRUE TRUE TRUE TRUE TRUE TRUE TRUE TRUE TRUE\n",
       "[2255] TRUE TRUE TRUE TRUE TRUE TRUE TRUE TRUE TRUE TRUE TRUE TRUE TRUE TRUE\n",
       "[2269] TRUE TRUE TRUE TRUE TRUE TRUE TRUE TRUE TRUE TRUE TRUE TRUE TRUE TRUE\n",
       "[2283] TRUE TRUE TRUE TRUE TRUE TRUE TRUE TRUE TRUE TRUE TRUE TRUE TRUE TRUE\n",
       "[2297] TRUE TRUE TRUE TRUE TRUE TRUE TRUE TRUE TRUE TRUE TRUE TRUE TRUE TRUE\n",
       "[2311] TRUE TRUE TRUE TRUE TRUE TRUE TRUE TRUE TRUE TRUE TRUE TRUE TRUE TRUE\n",
       "[2325] TRUE TRUE TRUE TRUE TRUE TRUE TRUE TRUE TRUE TRUE TRUE TRUE TRUE TRUE\n",
       "[2339] TRUE TRUE TRUE TRUE TRUE TRUE TRUE TRUE TRUE TRUE TRUE TRUE TRUE TRUE\n",
       "[2353] TRUE TRUE TRUE TRUE TRUE TRUE TRUE TRUE TRUE TRUE TRUE TRUE TRUE TRUE\n",
       "[2367] TRUE TRUE TRUE TRUE TRUE TRUE TRUE TRUE TRUE TRUE TRUE TRUE TRUE TRUE\n",
       "[2381] TRUE TRUE TRUE TRUE TRUE TRUE TRUE TRUE TRUE TRUE TRUE TRUE TRUE TRUE\n",
       "[2395] TRUE TRUE TRUE TRUE TRUE TRUE TRUE TRUE TRUE TRUE TRUE TRUE TRUE TRUE\n",
       "[2409] TRUE TRUE TRUE TRUE TRUE TRUE TRUE TRUE TRUE TRUE TRUE TRUE TRUE TRUE\n",
       "[2423] TRUE TRUE TRUE TRUE TRUE TRUE TRUE TRUE TRUE TRUE TRUE TRUE TRUE TRUE\n",
       "[2437] TRUE TRUE TRUE TRUE TRUE TRUE TRUE TRUE TRUE TRUE TRUE TRUE TRUE TRUE\n",
       "[2451] TRUE TRUE TRUE TRUE TRUE TRUE TRUE TRUE TRUE TRUE TRUE TRUE TRUE TRUE\n",
       "[2465] TRUE TRUE TRUE TRUE TRUE TRUE TRUE TRUE TRUE TRUE TRUE TRUE TRUE TRUE\n",
       "[2479] TRUE TRUE TRUE TRUE TRUE TRUE TRUE TRUE TRUE TRUE TRUE TRUE TRUE TRUE\n",
       "[2493] TRUE TRUE TRUE TRUE TRUE TRUE TRUE TRUE TRUE TRUE TRUE TRUE TRUE TRUE\n",
       "[2507] TRUE TRUE TRUE TRUE TRUE TRUE TRUE TRUE TRUE TRUE TRUE TRUE TRUE TRUE\n",
       "[2521] TRUE TRUE TRUE TRUE TRUE TRUE TRUE TRUE TRUE TRUE TRUE TRUE TRUE TRUE\n",
       "[2535] TRUE TRUE TRUE TRUE TRUE TRUE TRUE TRUE TRUE TRUE TRUE TRUE TRUE TRUE\n",
       "[2549] TRUE TRUE TRUE TRUE TRUE TRUE TRUE TRUE TRUE TRUE TRUE TRUE TRUE TRUE\n",
       "[2563] TRUE TRUE TRUE TRUE TRUE TRUE TRUE TRUE TRUE TRUE TRUE TRUE TRUE TRUE\n",
       "[2577] TRUE TRUE TRUE TRUE TRUE TRUE TRUE TRUE TRUE TRUE TRUE TRUE TRUE TRUE\n",
       "[2591] TRUE TRUE TRUE TRUE TRUE TRUE TRUE TRUE TRUE TRUE TRUE TRUE TRUE TRUE\n",
       "[2605] TRUE TRUE TRUE TRUE TRUE TRUE TRUE TRUE TRUE TRUE TRUE TRUE TRUE TRUE\n",
       "[2619] TRUE TRUE TRUE TRUE TRUE TRUE TRUE TRUE TRUE TRUE TRUE TRUE TRUE TRUE\n",
       "[2633] TRUE TRUE TRUE TRUE TRUE TRUE TRUE TRUE TRUE TRUE TRUE TRUE TRUE TRUE\n",
       "[2647] TRUE TRUE TRUE TRUE TRUE TRUE TRUE TRUE TRUE TRUE TRUE TRUE TRUE TRUE\n",
       "[2661] TRUE TRUE TRUE TRUE TRUE TRUE TRUE TRUE TRUE TRUE TRUE TRUE TRUE TRUE\n",
       "[2675] TRUE TRUE TRUE TRUE TRUE TRUE TRUE TRUE TRUE TRUE TRUE TRUE TRUE TRUE\n",
       "[2689] TRUE TRUE TRUE TRUE TRUE TRUE TRUE TRUE TRUE TRUE TRUE TRUE TRUE TRUE\n",
       "[2703] TRUE TRUE TRUE TRUE TRUE TRUE TRUE TRUE TRUE TRUE TRUE TRUE TRUE TRUE\n",
       "[2717] TRUE TRUE TRUE TRUE TRUE TRUE TRUE TRUE TRUE TRUE TRUE TRUE TRUE TRUE\n",
       "[2731] TRUE TRUE TRUE TRUE TRUE TRUE TRUE TRUE TRUE TRUE TRUE TRUE TRUE TRUE\n",
       "[2745] TRUE TRUE TRUE TRUE TRUE TRUE TRUE TRUE TRUE TRUE TRUE TRUE TRUE TRUE\n",
       "[2759] TRUE TRUE TRUE TRUE TRUE TRUE TRUE TRUE TRUE TRUE TRUE TRUE TRUE TRUE\n",
       "[2773] TRUE TRUE TRUE TRUE TRUE TRUE TRUE TRUE TRUE TRUE TRUE TRUE TRUE TRUE\n",
       "[2787] TRUE TRUE TRUE TRUE TRUE TRUE TRUE TRUE TRUE TRUE TRUE TRUE TRUE TRUE\n",
       "[2801] TRUE TRUE TRUE TRUE TRUE TRUE TRUE TRUE TRUE TRUE TRUE TRUE TRUE TRUE\n",
       "[2815] TRUE TRUE TRUE TRUE TRUE TRUE TRUE TRUE TRUE TRUE TRUE TRUE TRUE TRUE\n",
       "[2829] TRUE TRUE TRUE TRUE TRUE TRUE TRUE TRUE TRUE TRUE TRUE TRUE TRUE TRUE\n",
       "[2843] TRUE TRUE TRUE TRUE TRUE TRUE TRUE TRUE TRUE TRUE TRUE TRUE TRUE TRUE\n",
       "[2857] TRUE TRUE TRUE TRUE TRUE TRUE TRUE TRUE TRUE TRUE TRUE TRUE TRUE TRUE\n",
       "[2871] TRUE TRUE TRUE TRUE TRUE TRUE TRUE TRUE TRUE TRUE TRUE TRUE TRUE TRUE\n",
       "[2885] TRUE TRUE TRUE TRUE TRUE TRUE TRUE TRUE TRUE TRUE TRUE TRUE TRUE TRUE\n",
       "[2899] TRUE TRUE TRUE TRUE TRUE TRUE TRUE TRUE TRUE TRUE TRUE TRUE TRUE TRUE\n",
       "[2913] TRUE TRUE TRUE TRUE TRUE TRUE TRUE TRUE TRUE TRUE TRUE TRUE TRUE TRUE\n",
       "[2927] TRUE TRUE TRUE TRUE TRUE TRUE TRUE TRUE TRUE TRUE TRUE TRUE TRUE TRUE\n",
       "[2941] TRUE TRUE TRUE TRUE TRUE TRUE TRUE TRUE TRUE TRUE TRUE TRUE TRUE TRUE\n",
       "[2955] TRUE TRUE TRUE TRUE TRUE TRUE TRUE TRUE TRUE TRUE TRUE TRUE TRUE TRUE\n",
       "[2969] TRUE TRUE TRUE TRUE TRUE TRUE TRUE TRUE TRUE TRUE TRUE TRUE TRUE TRUE\n",
       "[2983] TRUE TRUE TRUE TRUE TRUE TRUE TRUE TRUE TRUE TRUE TRUE TRUE TRUE TRUE\n",
       "[2997] TRUE TRUE TRUE TRUE TRUE TRUE TRUE TRUE TRUE TRUE TRUE TRUE TRUE TRUE\n",
       "[3011] TRUE TRUE TRUE TRUE TRUE TRUE TRUE TRUE TRUE TRUE TRUE TRUE TRUE TRUE\n",
       "[3025] TRUE TRUE TRUE TRUE TRUE TRUE TRUE TRUE TRUE TRUE TRUE TRUE TRUE TRUE\n",
       "[3039] TRUE TRUE TRUE TRUE TRUE TRUE TRUE TRUE TRUE TRUE TRUE TRUE TRUE TRUE\n",
       "[3053] TRUE TRUE TRUE TRUE TRUE TRUE TRUE TRUE TRUE TRUE TRUE TRUE TRUE TRUE\n",
       "[3067] TRUE TRUE TRUE TRUE TRUE TRUE TRUE TRUE TRUE TRUE TRUE TRUE TRUE TRUE\n",
       "[3081] TRUE TRUE TRUE TRUE TRUE TRUE TRUE TRUE TRUE TRUE TRUE TRUE TRUE TRUE\n",
       "[3095] TRUE TRUE TRUE TRUE TRUE TRUE TRUE TRUE TRUE TRUE TRUE TRUE TRUE TRUE\n",
       "[3109] TRUE TRUE TRUE TRUE TRUE TRUE TRUE TRUE TRUE TRUE TRUE TRUE TRUE TRUE\n",
       "[3123] TRUE TRUE TRUE TRUE TRUE TRUE TRUE TRUE TRUE TRUE TRUE TRUE TRUE TRUE\n",
       "[3137] TRUE TRUE TRUE TRUE TRUE TRUE TRUE TRUE TRUE TRUE TRUE TRUE TRUE TRUE\n",
       "[3151] TRUE TRUE TRUE TRUE TRUE TRUE TRUE TRUE TRUE TRUE TRUE TRUE TRUE TRUE\n",
       "[3165] TRUE TRUE TRUE TRUE TRUE TRUE TRUE TRUE TRUE TRUE TRUE TRUE TRUE TRUE\n",
       "[3179] TRUE TRUE TRUE TRUE TRUE TRUE TRUE TRUE TRUE TRUE TRUE TRUE TRUE TRUE\n",
       "[3193] TRUE TRUE TRUE TRUE TRUE TRUE TRUE TRUE TRUE TRUE TRUE TRUE TRUE TRUE\n",
       "[3207] TRUE TRUE TRUE TRUE TRUE TRUE TRUE TRUE TRUE TRUE TRUE TRUE TRUE TRUE\n",
       "[3221] TRUE TRUE TRUE TRUE TRUE TRUE TRUE TRUE TRUE TRUE TRUE TRUE TRUE TRUE\n",
       "[3235] TRUE TRUE TRUE TRUE TRUE TRUE TRUE TRUE TRUE TRUE TRUE TRUE TRUE TRUE\n",
       "[3249] TRUE TRUE TRUE TRUE TRUE TRUE TRUE TRUE TRUE TRUE TRUE TRUE TRUE TRUE\n",
       "[3263] TRUE TRUE TRUE TRUE TRUE TRUE TRUE TRUE TRUE TRUE TRUE TRUE TRUE TRUE\n",
       "[3277] TRUE TRUE TRUE TRUE TRUE TRUE TRUE TRUE TRUE TRUE TRUE TRUE TRUE TRUE\n",
       "[3291] TRUE TRUE TRUE TRUE TRUE TRUE TRUE TRUE TRUE TRUE TRUE TRUE TRUE TRUE\n",
       "[3305] TRUE TRUE TRUE TRUE TRUE TRUE TRUE TRUE TRUE TRUE TRUE TRUE TRUE TRUE\n",
       "[3319] TRUE TRUE TRUE TRUE TRUE TRUE TRUE TRUE TRUE TRUE TRUE TRUE TRUE TRUE\n",
       "[3333] TRUE TRUE TRUE TRUE TRUE TRUE TRUE TRUE TRUE TRUE TRUE TRUE TRUE TRUE\n",
       "[3347] TRUE TRUE TRUE TRUE TRUE TRUE TRUE TRUE TRUE TRUE TRUE TRUE TRUE TRUE\n",
       "[3361] TRUE TRUE TRUE TRUE TRUE TRUE TRUE TRUE TRUE TRUE TRUE TRUE TRUE TRUE\n",
       "[3375] TRUE TRUE TRUE TRUE TRUE TRUE TRUE TRUE TRUE TRUE TRUE TRUE TRUE TRUE\n",
       "[3389] TRUE TRUE TRUE TRUE TRUE TRUE TRUE TRUE TRUE TRUE TRUE TRUE TRUE TRUE\n",
       "[3403] TRUE TRUE TRUE TRUE TRUE TRUE TRUE TRUE TRUE TRUE TRUE TRUE TRUE TRUE\n",
       "[3417] TRUE TRUE TRUE TRUE TRUE TRUE TRUE TRUE TRUE TRUE TRUE TRUE TRUE TRUE\n",
       "[3431] TRUE TRUE TRUE TRUE TRUE TRUE TRUE TRUE TRUE TRUE TRUE TRUE TRUE TRUE\n",
       "[3445] TRUE TRUE TRUE TRUE TRUE TRUE TRUE TRUE TRUE TRUE TRUE TRUE TRUE TRUE\n",
       "[3459] TRUE TRUE TRUE TRUE TRUE TRUE TRUE TRUE TRUE TRUE TRUE TRUE TRUE TRUE\n",
       "[3473] TRUE TRUE TRUE TRUE TRUE TRUE TRUE TRUE TRUE TRUE TRUE TRUE TRUE TRUE\n",
       "[3487] TRUE TRUE TRUE TRUE TRUE TRUE TRUE TRUE TRUE TRUE TRUE TRUE TRUE TRUE\n",
       "[3501] TRUE TRUE TRUE TRUE TRUE TRUE TRUE TRUE TRUE TRUE TRUE TRUE TRUE TRUE\n",
       "[3515] TRUE TRUE TRUE TRUE TRUE TRUE TRUE TRUE TRUE TRUE TRUE TRUE TRUE TRUE\n",
       "[3529] TRUE TRUE TRUE TRUE TRUE TRUE TRUE TRUE TRUE TRUE TRUE TRUE TRUE TRUE\n",
       "[3543] TRUE TRUE TRUE TRUE TRUE TRUE TRUE TRUE TRUE TRUE TRUE TRUE TRUE TRUE\n",
       "[3557] TRUE TRUE TRUE TRUE TRUE TRUE TRUE TRUE TRUE TRUE TRUE TRUE TRUE TRUE\n",
       "[3571] TRUE TRUE TRUE TRUE TRUE TRUE TRUE TRUE TRUE TRUE TRUE TRUE TRUE TRUE\n",
       "[3585] TRUE TRUE TRUE TRUE TRUE TRUE TRUE TRUE TRUE TRUE TRUE TRUE TRUE TRUE\n",
       "[3599] TRUE TRUE TRUE TRUE TRUE TRUE TRUE TRUE TRUE TRUE TRUE TRUE TRUE TRUE\n",
       "[3613] TRUE TRUE TRUE TRUE TRUE TRUE TRUE TRUE TRUE TRUE TRUE TRUE TRUE TRUE\n",
       "[3627] TRUE TRUE TRUE TRUE TRUE TRUE TRUE TRUE TRUE TRUE TRUE TRUE TRUE TRUE\n",
       "[3641] TRUE TRUE TRUE TRUE TRUE TRUE TRUE TRUE TRUE TRUE TRUE TRUE TRUE TRUE\n",
       "[3655] TRUE TRUE TRUE TRUE TRUE TRUE TRUE TRUE TRUE TRUE TRUE TRUE TRUE TRUE\n",
       "[3669] TRUE TRUE TRUE TRUE TRUE TRUE TRUE TRUE TRUE TRUE TRUE TRUE TRUE TRUE\n",
       "[3683] TRUE TRUE TRUE TRUE TRUE TRUE TRUE TRUE TRUE TRUE TRUE TRUE TRUE TRUE\n",
       "[3697] TRUE TRUE TRUE TRUE TRUE TRUE TRUE TRUE TRUE TRUE TRUE TRUE TRUE TRUE\n",
       "[3711] TRUE TRUE TRUE TRUE TRUE TRUE TRUE TRUE TRUE TRUE TRUE TRUE TRUE TRUE\n",
       "[3725] TRUE TRUE TRUE TRUE TRUE TRUE TRUE TRUE TRUE TRUE TRUE TRUE TRUE TRUE\n",
       "[3739] TRUE TRUE TRUE TRUE TRUE TRUE TRUE TRUE TRUE TRUE TRUE TRUE TRUE TRUE\n",
       "[3753] TRUE TRUE TRUE TRUE TRUE TRUE TRUE TRUE TRUE TRUE TRUE TRUE TRUE TRUE\n",
       "[3767] TRUE TRUE TRUE TRUE TRUE TRUE TRUE TRUE TRUE TRUE TRUE TRUE TRUE TRUE\n",
       "[3781] TRUE TRUE TRUE TRUE TRUE TRUE TRUE TRUE TRUE TRUE TRUE TRUE TRUE TRUE\n",
       "[3795] TRUE TRUE TRUE TRUE TRUE TRUE TRUE TRUE TRUE TRUE TRUE TRUE TRUE TRUE\n",
       "[3809] TRUE TRUE TRUE TRUE TRUE TRUE TRUE TRUE TRUE TRUE TRUE TRUE TRUE TRUE\n",
       "[3823] TRUE TRUE TRUE TRUE TRUE TRUE TRUE TRUE TRUE TRUE TRUE TRUE TRUE TRUE\n",
       "[3837] TRUE TRUE TRUE TRUE TRUE TRUE TRUE TRUE TRUE TRUE TRUE TRUE TRUE TRUE\n",
       "[3851] TRUE TRUE TRUE TRUE TRUE TRUE TRUE TRUE TRUE TRUE TRUE TRUE TRUE TRUE\n",
       "[3865] TRUE TRUE TRUE TRUE TRUE TRUE TRUE TRUE TRUE TRUE TRUE TRUE TRUE TRUE\n",
       "[3879] TRUE TRUE TRUE TRUE TRUE TRUE TRUE TRUE TRUE TRUE TRUE TRUE TRUE TRUE\n",
       "[3893] TRUE TRUE TRUE TRUE TRUE TRUE TRUE TRUE TRUE TRUE TRUE TRUE TRUE TRUE\n",
       "[3907] TRUE TRUE TRUE TRUE TRUE TRUE TRUE TRUE TRUE TRUE TRUE TRUE TRUE TRUE\n",
       "[3921] TRUE TRUE TRUE TRUE TRUE TRUE TRUE TRUE TRUE TRUE TRUE TRUE TRUE TRUE\n",
       "[3935] TRUE TRUE TRUE TRUE TRUE TRUE TRUE TRUE TRUE TRUE TRUE TRUE TRUE TRUE\n",
       "[3949] TRUE TRUE TRUE TRUE TRUE TRUE TRUE TRUE TRUE TRUE TRUE TRUE TRUE TRUE\n",
       "[3963] TRUE TRUE TRUE TRUE TRUE TRUE TRUE TRUE TRUE TRUE TRUE TRUE TRUE TRUE\n",
       "[3977] TRUE TRUE TRUE TRUE TRUE TRUE TRUE TRUE TRUE TRUE TRUE TRUE TRUE TRUE\n",
       "[3991] TRUE TRUE TRUE TRUE TRUE TRUE TRUE TRUE TRUE TRUE TRUE TRUE TRUE TRUE\n",
       "[4005] TRUE TRUE TRUE TRUE TRUE TRUE TRUE TRUE TRUE TRUE TRUE TRUE TRUE TRUE\n",
       "[4019] TRUE TRUE TRUE TRUE TRUE TRUE TRUE TRUE TRUE TRUE TRUE TRUE TRUE TRUE\n",
       "[4033] TRUE TRUE TRUE TRUE TRUE TRUE TRUE TRUE TRUE TRUE TRUE TRUE TRUE TRUE\n",
       "[4047] TRUE TRUE TRUE TRUE TRUE TRUE TRUE TRUE TRUE TRUE TRUE TRUE TRUE TRUE\n",
       "[4061] TRUE TRUE TRUE TRUE TRUE TRUE TRUE TRUE TRUE TRUE TRUE TRUE TRUE TRUE\n",
       "[4075] TRUE TRUE TRUE TRUE TRUE TRUE TRUE TRUE TRUE TRUE TRUE TRUE TRUE TRUE\n",
       "[4089] TRUE TRUE TRUE TRUE TRUE TRUE TRUE TRUE TRUE TRUE TRUE TRUE TRUE TRUE\n",
       "[4103] TRUE TRUE TRUE TRUE TRUE TRUE TRUE TRUE TRUE TRUE TRUE TRUE TRUE TRUE\n",
       "[4117] TRUE TRUE TRUE TRUE TRUE TRUE TRUE TRUE TRUE TRUE TRUE TRUE TRUE TRUE\n",
       "[4131] TRUE TRUE TRUE TRUE TRUE TRUE TRUE TRUE TRUE TRUE TRUE TRUE TRUE TRUE\n",
       "[4145] TRUE TRUE TRUE TRUE TRUE TRUE TRUE TRUE TRUE TRUE TRUE TRUE TRUE TRUE\n",
       "[4159] TRUE TRUE TRUE TRUE TRUE TRUE TRUE TRUE TRUE TRUE TRUE TRUE TRUE TRUE\n",
       "[4173] TRUE TRUE TRUE TRUE TRUE TRUE TRUE TRUE TRUE TRUE TRUE TRUE TRUE TRUE\n",
       "[4187] TRUE TRUE TRUE TRUE TRUE TRUE TRUE TRUE TRUE TRUE TRUE TRUE TRUE TRUE\n",
       "[4201] TRUE TRUE TRUE TRUE TRUE TRUE TRUE TRUE TRUE TRUE TRUE TRUE TRUE TRUE\n",
       "[4215] TRUE TRUE TRUE TRUE TRUE TRUE TRUE TRUE TRUE TRUE TRUE TRUE TRUE TRUE\n",
       "[4229] TRUE TRUE TRUE TRUE TRUE TRUE TRUE TRUE TRUE TRUE TRUE TRUE TRUE TRUE\n",
       "[4243] TRUE TRUE TRUE TRUE TRUE TRUE TRUE TRUE TRUE TRUE TRUE TRUE TRUE TRUE\n",
       "[4257] TRUE TRUE TRUE TRUE TRUE TRUE TRUE TRUE TRUE TRUE TRUE TRUE TRUE TRUE\n",
       "[4271] TRUE TRUE TRUE TRUE TRUE TRUE TRUE TRUE TRUE TRUE TRUE TRUE TRUE TRUE\n",
       "[4285] TRUE TRUE TRUE TRUE TRUE TRUE TRUE TRUE TRUE TRUE TRUE TRUE TRUE TRUE\n",
       "[4299] TRUE TRUE TRUE TRUE TRUE TRUE TRUE TRUE TRUE TRUE TRUE TRUE TRUE TRUE\n",
       "[4313] TRUE TRUE TRUE TRUE TRUE TRUE TRUE TRUE TRUE TRUE TRUE TRUE TRUE TRUE\n",
       "[4327] TRUE TRUE TRUE TRUE TRUE TRUE TRUE TRUE TRUE TRUE TRUE TRUE TRUE TRUE\n",
       "[4341] TRUE TRUE TRUE TRUE TRUE TRUE TRUE TRUE TRUE TRUE TRUE TRUE TRUE TRUE\n",
       "[4355] TRUE TRUE TRUE TRUE TRUE TRUE TRUE TRUE TRUE TRUE TRUE TRUE TRUE TRUE\n",
       "[4369] TRUE TRUE TRUE TRUE TRUE TRUE TRUE TRUE TRUE TRUE TRUE TRUE TRUE TRUE\n",
       "[4383] TRUE TRUE TRUE TRUE TRUE TRUE TRUE TRUE TRUE TRUE TRUE TRUE TRUE TRUE\n",
       "[4397] TRUE TRUE TRUE TRUE TRUE TRUE TRUE TRUE TRUE TRUE TRUE TRUE TRUE TRUE\n",
       "[4411] TRUE TRUE TRUE TRUE TRUE TRUE TRUE TRUE TRUE TRUE TRUE TRUE TRUE TRUE\n",
       "[4425] TRUE TRUE TRUE TRUE TRUE TRUE TRUE TRUE TRUE TRUE TRUE TRUE TRUE TRUE\n",
       "[4439] TRUE TRUE TRUE TRUE TRUE TRUE TRUE TRUE TRUE TRUE TRUE TRUE TRUE TRUE\n",
       "[4453] TRUE TRUE TRUE TRUE TRUE TRUE TRUE TRUE TRUE TRUE TRUE TRUE TRUE TRUE\n",
       "[4467] TRUE TRUE TRUE TRUE TRUE TRUE TRUE TRUE TRUE TRUE TRUE TRUE TRUE TRUE\n",
       "[4481] TRUE TRUE TRUE TRUE TRUE TRUE TRUE TRUE TRUE TRUE TRUE TRUE TRUE TRUE\n",
       "[4495] TRUE TRUE TRUE TRUE TRUE TRUE TRUE TRUE TRUE TRUE TRUE TRUE TRUE TRUE\n",
       "[4509] TRUE TRUE TRUE TRUE TRUE TRUE TRUE TRUE TRUE TRUE TRUE TRUE TRUE TRUE\n",
       "[4523] TRUE TRUE TRUE TRUE TRUE TRUE TRUE TRUE TRUE TRUE TRUE TRUE TRUE TRUE\n",
       "[4537] TRUE TRUE TRUE TRUE TRUE TRUE TRUE TRUE TRUE TRUE TRUE TRUE TRUE TRUE\n",
       "[4551] TRUE TRUE TRUE TRUE TRUE TRUE TRUE TRUE TRUE TRUE TRUE TRUE TRUE TRUE\n",
       "[4565] TRUE TRUE TRUE TRUE TRUE TRUE TRUE TRUE TRUE TRUE TRUE TRUE TRUE TRUE\n",
       "[4579] TRUE TRUE TRUE TRUE TRUE TRUE TRUE TRUE TRUE TRUE TRUE TRUE TRUE TRUE\n",
       "[4593] TRUE TRUE TRUE TRUE TRUE TRUE TRUE TRUE TRUE TRUE TRUE TRUE TRUE TRUE\n",
       "[4607] TRUE TRUE TRUE TRUE TRUE TRUE TRUE TRUE TRUE TRUE TRUE TRUE TRUE TRUE\n",
       "[4621] TRUE TRUE TRUE TRUE TRUE TRUE TRUE TRUE TRUE TRUE TRUE TRUE TRUE TRUE\n",
       "[4635] TRUE TRUE TRUE TRUE TRUE TRUE TRUE TRUE TRUE TRUE TRUE TRUE TRUE TRUE\n",
       "[4649] TRUE TRUE TRUE TRUE TRUE TRUE TRUE TRUE TRUE TRUE TRUE TRUE TRUE TRUE\n",
       "[4663] TRUE TRUE TRUE TRUE TRUE TRUE TRUE TRUE TRUE TRUE TRUE TRUE TRUE TRUE\n",
       "[4677] TRUE TRUE TRUE TRUE TRUE TRUE TRUE TRUE TRUE TRUE TRUE TRUE TRUE TRUE\n",
       "[4691] TRUE TRUE TRUE TRUE TRUE TRUE TRUE TRUE TRUE TRUE TRUE TRUE TRUE TRUE\n",
       "[4705] TRUE TRUE TRUE TRUE TRUE TRUE TRUE TRUE TRUE TRUE TRUE TRUE TRUE TRUE\n",
       "[4719] TRUE TRUE TRUE TRUE TRUE TRUE TRUE TRUE TRUE TRUE TRUE TRUE TRUE TRUE\n",
       "[4733] TRUE TRUE TRUE TRUE TRUE TRUE TRUE TRUE TRUE TRUE TRUE TRUE TRUE TRUE\n",
       "[4747] TRUE TRUE TRUE TRUE TRUE TRUE TRUE TRUE TRUE TRUE TRUE TRUE TRUE TRUE\n",
       "[4761] TRUE TRUE TRUE TRUE TRUE TRUE TRUE TRUE TRUE TRUE TRUE TRUE TRUE TRUE\n",
       "[4775] TRUE TRUE TRUE TRUE TRUE TRUE TRUE TRUE TRUE TRUE TRUE TRUE TRUE TRUE\n",
       "[4789] TRUE TRUE TRUE TRUE TRUE TRUE TRUE TRUE TRUE TRUE TRUE TRUE TRUE TRUE\n",
       "[4803] TRUE TRUE TRUE TRUE TRUE TRUE TRUE TRUE TRUE TRUE TRUE TRUE TRUE TRUE\n",
       "[4817] TRUE TRUE TRUE TRUE TRUE TRUE TRUE TRUE TRUE TRUE TRUE TRUE TRUE TRUE\n",
       "[4831] TRUE TRUE TRUE TRUE TRUE TRUE TRUE TRUE TRUE TRUE TRUE TRUE TRUE TRUE\n",
       "[4845] TRUE TRUE TRUE TRUE TRUE TRUE TRUE TRUE TRUE TRUE TRUE TRUE TRUE TRUE\n",
       "[4859] TRUE TRUE TRUE TRUE TRUE TRUE TRUE TRUE TRUE TRUE TRUE TRUE TRUE TRUE\n",
       "[4873] TRUE TRUE TRUE TRUE TRUE TRUE TRUE TRUE TRUE TRUE TRUE TRUE TRUE TRUE\n",
       "[4887] TRUE TRUE TRUE TRUE TRUE TRUE TRUE TRUE TRUE TRUE TRUE TRUE TRUE TRUE\n",
       "[4901] TRUE TRUE TRUE TRUE TRUE TRUE TRUE TRUE TRUE TRUE TRUE TRUE TRUE TRUE\n",
       "[4915] TRUE TRUE TRUE TRUE TRUE TRUE TRUE TRUE TRUE TRUE TRUE TRUE TRUE TRUE\n",
       "[4929] TRUE TRUE TRUE TRUE TRUE TRUE TRUE TRUE TRUE TRUE TRUE TRUE TRUE TRUE\n",
       "[4943] TRUE TRUE TRUE TRUE TRUE TRUE TRUE TRUE TRUE TRUE TRUE TRUE TRUE TRUE\n",
       "[4957] TRUE TRUE TRUE TRUE TRUE TRUE TRUE TRUE TRUE TRUE TRUE TRUE TRUE TRUE\n",
       "[4971] TRUE TRUE TRUE TRUE TRUE TRUE TRUE TRUE TRUE TRUE TRUE TRUE TRUE TRUE\n",
       "[4985] TRUE TRUE TRUE TRUE TRUE TRUE TRUE TRUE TRUE TRUE TRUE TRUE TRUE TRUE\n",
       "[4999] TRUE TRUE TRUE TRUE TRUE TRUE TRUE TRUE TRUE TRUE TRUE TRUE TRUE TRUE\n",
       "[5013] TRUE TRUE TRUE TRUE TRUE TRUE TRUE TRUE TRUE TRUE TRUE TRUE TRUE TRUE\n",
       "[5027] TRUE TRUE TRUE TRUE TRUE TRUE TRUE TRUE TRUE TRUE TRUE TRUE TRUE TRUE\n",
       "[5041] TRUE TRUE TRUE TRUE TRUE TRUE TRUE TRUE TRUE TRUE TRUE TRUE TRUE TRUE\n",
       "[5055] TRUE TRUE TRUE TRUE TRUE TRUE TRUE TRUE TRUE TRUE TRUE TRUE TRUE TRUE\n",
       "[5069] TRUE TRUE TRUE TRUE TRUE TRUE TRUE TRUE TRUE TRUE TRUE TRUE TRUE TRUE\n",
       "[5083] TRUE TRUE TRUE TRUE TRUE TRUE TRUE TRUE TRUE TRUE TRUE TRUE TRUE TRUE\n",
       "[5097] TRUE TRUE TRUE TRUE TRUE TRUE TRUE TRUE TRUE TRUE TRUE TRUE TRUE TRUE\n",
       "[5111] TRUE TRUE TRUE TRUE TRUE TRUE TRUE TRUE TRUE TRUE TRUE TRUE TRUE TRUE\n",
       "[5125] TRUE TRUE TRUE TRUE TRUE TRUE TRUE TRUE TRUE TRUE TRUE TRUE TRUE TRUE\n",
       "[5139] TRUE TRUE TRUE TRUE TRUE TRUE TRUE TRUE TRUE TRUE TRUE TRUE TRUE TRUE\n",
       "[5153] TRUE TRUE TRUE TRUE TRUE TRUE TRUE TRUE TRUE TRUE TRUE TRUE TRUE TRUE\n",
       "[5167] TRUE TRUE TRUE TRUE TRUE TRUE TRUE TRUE TRUE TRUE TRUE TRUE TRUE TRUE\n",
       "[5181] TRUE TRUE TRUE TRUE TRUE TRUE TRUE TRUE TRUE TRUE TRUE TRUE TRUE TRUE\n",
       "[5195] TRUE TRUE TRUE TRUE TRUE TRUE TRUE TRUE TRUE TRUE TRUE TRUE TRUE TRUE\n",
       "[5209] TRUE TRUE TRUE TRUE TRUE TRUE TRUE TRUE TRUE TRUE TRUE TRUE TRUE TRUE\n",
       "[5223] TRUE TRUE TRUE TRUE TRUE TRUE TRUE TRUE TRUE TRUE TRUE TRUE TRUE TRUE\n",
       "[5237] TRUE TRUE TRUE TRUE TRUE TRUE TRUE TRUE TRUE TRUE TRUE TRUE TRUE TRUE\n",
       "[5251] TRUE TRUE TRUE TRUE TRUE TRUE TRUE TRUE TRUE TRUE TRUE TRUE TRUE TRUE\n",
       "[5265] TRUE TRUE TRUE TRUE TRUE TRUE TRUE TRUE TRUE TRUE TRUE TRUE TRUE TRUE\n",
       "[5279] TRUE TRUE TRUE TRUE TRUE TRUE TRUE TRUE TRUE TRUE TRUE TRUE TRUE TRUE\n",
       "[5293] TRUE TRUE TRUE TRUE TRUE TRUE TRUE TRUE TRUE TRUE TRUE TRUE TRUE TRUE\n",
       "[5307] TRUE TRUE TRUE TRUE TRUE TRUE TRUE TRUE TRUE TRUE TRUE TRUE TRUE TRUE\n",
       "[5321] TRUE TRUE TRUE TRUE TRUE TRUE TRUE TRUE TRUE TRUE TRUE TRUE TRUE TRUE\n",
       "[5335] TRUE TRUE TRUE TRUE TRUE TRUE TRUE TRUE TRUE TRUE TRUE TRUE TRUE TRUE\n",
       "[5349] TRUE TRUE TRUE TRUE TRUE TRUE TRUE TRUE TRUE TRUE TRUE TRUE TRUE TRUE\n",
       "[5363] TRUE TRUE TRUE TRUE TRUE TRUE TRUE TRUE TRUE TRUE TRUE TRUE TRUE TRUE\n",
       "[5377] TRUE TRUE TRUE TRUE TRUE TRUE TRUE TRUE TRUE TRUE TRUE TRUE TRUE TRUE\n",
       "[5391] TRUE TRUE TRUE TRUE TRUE TRUE TRUE TRUE TRUE TRUE TRUE TRUE TRUE TRUE\n",
       "[5405] TRUE TRUE TRUE TRUE TRUE TRUE TRUE TRUE TRUE TRUE TRUE TRUE TRUE TRUE\n",
       "[5419] TRUE TRUE TRUE TRUE TRUE TRUE TRUE TRUE TRUE TRUE TRUE TRUE TRUE TRUE\n",
       "[5433] TRUE TRUE TRUE TRUE TRUE TRUE TRUE TRUE TRUE TRUE TRUE TRUE TRUE TRUE\n",
       "[5447] TRUE TRUE TRUE TRUE TRUE TRUE TRUE TRUE TRUE TRUE TRUE TRUE TRUE TRUE\n",
       "[5461] TRUE TRUE TRUE TRUE TRUE TRUE TRUE TRUE TRUE TRUE TRUE TRUE TRUE TRUE\n",
       "[5475] TRUE TRUE TRUE TRUE TRUE TRUE TRUE TRUE TRUE TRUE TRUE TRUE TRUE TRUE\n",
       "[5489] TRUE TRUE TRUE TRUE TRUE TRUE TRUE TRUE TRUE TRUE TRUE TRUE TRUE TRUE\n",
       "[5503] TRUE TRUE TRUE TRUE TRUE TRUE TRUE TRUE TRUE TRUE TRUE TRUE TRUE TRUE\n",
       "[5517] TRUE TRUE TRUE TRUE TRUE TRUE TRUE TRUE TRUE TRUE TRUE TRUE TRUE TRUE\n",
       "[5531] TRUE TRUE TRUE TRUE TRUE TRUE TRUE TRUE TRUE TRUE TRUE TRUE TRUE TRUE\n",
       "[5545] TRUE TRUE TRUE TRUE TRUE TRUE TRUE TRUE TRUE TRUE TRUE TRUE TRUE TRUE\n",
       "[5559] TRUE TRUE TRUE TRUE TRUE TRUE TRUE TRUE TRUE TRUE TRUE TRUE TRUE TRUE\n",
       "[5573] TRUE TRUE TRUE TRUE TRUE TRUE TRUE TRUE TRUE TRUE TRUE TRUE TRUE TRUE\n",
       "[5587] TRUE TRUE TRUE TRUE TRUE TRUE TRUE TRUE TRUE TRUE TRUE TRUE TRUE TRUE\n",
       "[5601] TRUE TRUE TRUE TRUE TRUE TRUE TRUE TRUE TRUE TRUE TRUE TRUE TRUE TRUE\n",
       "[5615] TRUE TRUE TRUE TRUE TRUE TRUE TRUE TRUE TRUE TRUE TRUE TRUE TRUE TRUE\n",
       "[5629] TRUE TRUE TRUE TRUE TRUE TRUE TRUE TRUE TRUE TRUE TRUE TRUE TRUE TRUE\n",
       "[5643] TRUE TRUE TRUE TRUE TRUE TRUE TRUE TRUE TRUE TRUE TRUE TRUE TRUE TRUE\n",
       "[5657] TRUE TRUE TRUE TRUE TRUE TRUE TRUE TRUE TRUE TRUE TRUE TRUE TRUE TRUE\n",
       "[5671] TRUE TRUE TRUE TRUE TRUE TRUE TRUE TRUE TRUE TRUE TRUE TRUE TRUE TRUE\n",
       "[5685] TRUE TRUE TRUE TRUE TRUE TRUE TRUE TRUE TRUE TRUE TRUE TRUE TRUE TRUE\n",
       "[5699] TRUE TRUE TRUE TRUE TRUE TRUE TRUE TRUE TRUE TRUE TRUE TRUE TRUE TRUE\n",
       "[5713] TRUE TRUE TRUE TRUE TRUE TRUE TRUE TRUE TRUE TRUE TRUE TRUE TRUE TRUE\n",
       "[5727] TRUE TRUE TRUE TRUE TRUE TRUE TRUE TRUE TRUE TRUE TRUE TRUE TRUE TRUE\n",
       "[5741] TRUE TRUE TRUE TRUE TRUE TRUE TRUE TRUE TRUE TRUE TRUE TRUE TRUE TRUE\n",
       "[5755] TRUE TRUE TRUE TRUE TRUE TRUE TRUE TRUE TRUE TRUE TRUE TRUE TRUE TRUE\n",
       "[5769] TRUE TRUE TRUE TRUE TRUE TRUE TRUE TRUE TRUE TRUE TRUE TRUE TRUE TRUE\n",
       "[5783] TRUE TRUE TRUE TRUE TRUE TRUE TRUE TRUE TRUE TRUE TRUE TRUE TRUE TRUE\n",
       "[5797] TRUE TRUE TRUE TRUE TRUE TRUE TRUE TRUE TRUE TRUE TRUE TRUE TRUE TRUE\n",
       "[5811] TRUE TRUE TRUE TRUE TRUE TRUE TRUE TRUE TRUE TRUE TRUE TRUE TRUE TRUE\n",
       "[5825] TRUE TRUE TRUE TRUE TRUE TRUE TRUE TRUE TRUE TRUE TRUE TRUE TRUE TRUE\n",
       "[5839] TRUE TRUE TRUE TRUE TRUE TRUE TRUE TRUE TRUE TRUE TRUE TRUE TRUE TRUE\n",
       "[5853] TRUE TRUE TRUE TRUE TRUE TRUE TRUE TRUE TRUE TRUE TRUE TRUE TRUE TRUE\n",
       "[5867] TRUE TRUE TRUE TRUE TRUE TRUE TRUE TRUE TRUE TRUE TRUE TRUE TRUE TRUE\n",
       "[5881] TRUE TRUE TRUE TRUE TRUE TRUE TRUE TRUE TRUE TRUE TRUE TRUE TRUE TRUE\n",
       "[5895] TRUE TRUE TRUE TRUE TRUE TRUE TRUE TRUE TRUE TRUE TRUE TRUE TRUE TRUE\n",
       "[5909] TRUE TRUE TRUE TRUE TRUE TRUE TRUE TRUE TRUE TRUE TRUE TRUE TRUE TRUE\n",
       "[5923] TRUE TRUE TRUE TRUE TRUE TRUE TRUE TRUE TRUE TRUE TRUE TRUE TRUE TRUE\n",
       "[5937] TRUE TRUE TRUE TRUE TRUE TRUE TRUE TRUE TRUE TRUE TRUE TRUE TRUE TRUE\n",
       "[5951] TRUE TRUE TRUE TRUE TRUE TRUE TRUE TRUE TRUE TRUE TRUE TRUE TRUE TRUE\n",
       "[5965] TRUE TRUE TRUE TRUE TRUE TRUE TRUE TRUE TRUE TRUE TRUE TRUE TRUE TRUE\n",
       "[5979] TRUE TRUE TRUE TRUE TRUE TRUE TRUE TRUE TRUE TRUE TRUE TRUE TRUE TRUE\n",
       "[5993] TRUE TRUE TRUE TRUE TRUE TRUE TRUE TRUE TRUE TRUE TRUE TRUE TRUE TRUE\n",
       "[6007] TRUE TRUE TRUE TRUE TRUE TRUE TRUE TRUE TRUE TRUE TRUE TRUE TRUE TRUE\n",
       "[6021] TRUE TRUE TRUE TRUE TRUE TRUE TRUE TRUE TRUE TRUE TRUE TRUE TRUE TRUE\n",
       "[6035] TRUE TRUE TRUE TRUE TRUE TRUE TRUE TRUE TRUE TRUE TRUE TRUE TRUE TRUE\n",
       "[6049] TRUE TRUE TRUE TRUE TRUE TRUE TRUE TRUE TRUE TRUE TRUE TRUE TRUE TRUE\n",
       "[6063] TRUE TRUE TRUE TRUE TRUE TRUE TRUE TRUE TRUE TRUE TRUE TRUE TRUE TRUE\n",
       "[6077] TRUE TRUE TRUE TRUE TRUE TRUE TRUE TRUE TRUE TRUE TRUE TRUE TRUE TRUE\n",
       "[6091] TRUE TRUE TRUE TRUE TRUE TRUE TRUE TRUE TRUE TRUE TRUE TRUE TRUE TRUE"
      ]
     },
     "metadata": {},
     "output_type": "display_data"
    }
   ],
   "source": [
    "# can we do better than this?\n",
    "rownames(prot) == rownames(mrna)"
   ]
  },
  {
   "cell_type": "markdown",
   "metadata": {},
   "source": [
    "### Note:\n",
    "\n",
    "`prot[i,j]` = prot level of gene i in tissue j\n",
    "\n",
    "`mrna[i,j]` = mrna level of gene i in tissue j"
   ]
  },
  {
   "cell_type": "markdown",
   "metadata": {},
   "source": [
    "### 4. Check top and bottom of files"
   ]
  },
  {
   "cell_type": "markdown",
   "metadata": {},
   "source": [
    "Here we want to check for any inconsistencies or surprises in reading in the data (e.g. characters appearing mixed with numeric values, incomplete rows at the end)"
   ]
  },
  {
   "cell_type": "code",
   "execution_count": 8,
   "metadata": {},
   "outputs": [
    {
     "data": {
      "text/html": [
       "<table class=\"dataframe\">\n",
       "<caption>A data.frame: 6 × 12</caption>\n",
       "<thead>\n",
       "\t<tr><th></th><th scope=col>uterus</th><th scope=col>kidney</th><th scope=col>testis</th><th scope=col>pancreas</th><th scope=col>stomach</th><th scope=col>prostate</th><th scope=col>ovary</th><th scope=col>thyroid.gland</th><th scope=col>adrenal.gland</th><th scope=col>salivary.gland</th><th scope=col>spleen</th><th scope=col>esophagus</th></tr>\n",
       "\t<tr><th></th><th scope=col>&lt;dbl&gt;</th><th scope=col>&lt;dbl&gt;</th><th scope=col>&lt;dbl&gt;</th><th scope=col>&lt;dbl&gt;</th><th scope=col>&lt;dbl&gt;</th><th scope=col>&lt;dbl&gt;</th><th scope=col>&lt;dbl&gt;</th><th scope=col>&lt;dbl&gt;</th><th scope=col>&lt;dbl&gt;</th><th scope=col>&lt;dbl&gt;</th><th scope=col>&lt;dbl&gt;</th><th scope=col>&lt;dbl&gt;</th></tr>\n",
       "</thead>\n",
       "<tbody>\n",
       "\t<tr><th scope=row>ENSG00000000003</th><td>2.50e-05</td><td>4.44e-05</td><td>5.79e-05</td><td>1.43e-05</td><td>2.01e-05</td><td>3.04e-05</td><td>5.60e-05</td><td>3.04e-05</td><td>2.16e-05</td><td>5.58e-05</td><td>9.90e-06</td><td>4.76e-05</td></tr>\n",
       "\t<tr><th scope=row>ENSG00000000419</th><td>3.44e-05</td><td>3.43e-05</td><td>3.80e-05</td><td>2.11e-05</td><td>2.96e-05</td><td>3.40e-05</td><td>3.17e-05</td><td>4.54e-05</td><td>5.01e-05</td><td>2.44e-05</td><td>2.96e-05</td><td>4.28e-05</td></tr>\n",
       "\t<tr><th scope=row>ENSG00000000457</th><td>7.80e-06</td><td>6.80e-06</td><td>7.60e-06</td><td>4.10e-06</td><td>7.70e-06</td><td>8.60e-06</td><td>8.20e-06</td><td>8.20e-06</td><td>6.60e-06</td><td>6.50e-06</td><td>7.40e-06</td><td>7.20e-06</td></tr>\n",
       "\t<tr><th scope=row>ENSG00000000971</th><td>1.42e-05</td><td>1.93e-05</td><td>1.89e-05</td><td>6.90e-06</td><td>4.71e-05</td><td>2.42e-05</td><td>2.42e-05</td><td>3.31e-05</td><td>4.53e-05</td><td>2.23e-05</td><td>1.14e-05</td><td>6.76e-05</td></tr>\n",
       "\t<tr><th scope=row>ENSG00000001036</th><td>3.46e-05</td><td>5.39e-05</td><td>1.90e-05</td><td>2.34e-05</td><td>4.75e-05</td><td>2.98e-05</td><td>3.45e-05</td><td>4.54e-05</td><td>4.73e-05</td><td>1.65e-05</td><td>2.94e-05</td><td>2.05e-05</td></tr>\n",
       "\t<tr><th scope=row>ENSG00000001084</th><td>1.92e-05</td><td>2.27e-05</td><td>1.26e-05</td><td>6.90e-06</td><td>2.95e-05</td><td>2.39e-05</td><td>6.20e-06</td><td>2.76e-05</td><td>1.87e-05</td><td>9.40e-06</td><td>3.43e-05</td><td>3.03e-05</td></tr>\n",
       "</tbody>\n",
       "</table>\n"
      ],
      "text/latex": [
       "A data.frame: 6 × 12\n",
       "\\begin{tabular}{r|llllllllllll}\n",
       "  & uterus & kidney & testis & pancreas & stomach & prostate & ovary & thyroid.gland & adrenal.gland & salivary.gland & spleen & esophagus\\\\\n",
       "  & <dbl> & <dbl> & <dbl> & <dbl> & <dbl> & <dbl> & <dbl> & <dbl> & <dbl> & <dbl> & <dbl> & <dbl>\\\\\n",
       "\\hline\n",
       "\tENSG00000000003 & 2.50e-05 & 4.44e-05 & 5.79e-05 & 1.43e-05 & 2.01e-05 & 3.04e-05 & 5.60e-05 & 3.04e-05 & 2.16e-05 & 5.58e-05 & 9.90e-06 & 4.76e-05\\\\\n",
       "\tENSG00000000419 & 3.44e-05 & 3.43e-05 & 3.80e-05 & 2.11e-05 & 2.96e-05 & 3.40e-05 & 3.17e-05 & 4.54e-05 & 5.01e-05 & 2.44e-05 & 2.96e-05 & 4.28e-05\\\\\n",
       "\tENSG00000000457 & 7.80e-06 & 6.80e-06 & 7.60e-06 & 4.10e-06 & 7.70e-06 & 8.60e-06 & 8.20e-06 & 8.20e-06 & 6.60e-06 & 6.50e-06 & 7.40e-06 & 7.20e-06\\\\\n",
       "\tENSG00000000971 & 1.42e-05 & 1.93e-05 & 1.89e-05 & 6.90e-06 & 4.71e-05 & 2.42e-05 & 2.42e-05 & 3.31e-05 & 4.53e-05 & 2.23e-05 & 1.14e-05 & 6.76e-05\\\\\n",
       "\tENSG00000001036 & 3.46e-05 & 5.39e-05 & 1.90e-05 & 2.34e-05 & 4.75e-05 & 2.98e-05 & 3.45e-05 & 4.54e-05 & 4.73e-05 & 1.65e-05 & 2.94e-05 & 2.05e-05\\\\\n",
       "\tENSG00000001084 & 1.92e-05 & 2.27e-05 & 1.26e-05 & 6.90e-06 & 2.95e-05 & 2.39e-05 & 6.20e-06 & 2.76e-05 & 1.87e-05 & 9.40e-06 & 3.43e-05 & 3.03e-05\\\\\n",
       "\\end{tabular}\n"
      ],
      "text/markdown": [
       "\n",
       "A data.frame: 6 × 12\n",
       "\n",
       "| <!--/--> | uterus &lt;dbl&gt; | kidney &lt;dbl&gt; | testis &lt;dbl&gt; | pancreas &lt;dbl&gt; | stomach &lt;dbl&gt; | prostate &lt;dbl&gt; | ovary &lt;dbl&gt; | thyroid.gland &lt;dbl&gt; | adrenal.gland &lt;dbl&gt; | salivary.gland &lt;dbl&gt; | spleen &lt;dbl&gt; | esophagus &lt;dbl&gt; |\n",
       "|---|---|---|---|---|---|---|---|---|---|---|---|---|\n",
       "| ENSG00000000003 | 2.50e-05 | 4.44e-05 | 5.79e-05 | 1.43e-05 | 2.01e-05 | 3.04e-05 | 5.60e-05 | 3.04e-05 | 2.16e-05 | 5.58e-05 | 9.90e-06 | 4.76e-05 |\n",
       "| ENSG00000000419 | 3.44e-05 | 3.43e-05 | 3.80e-05 | 2.11e-05 | 2.96e-05 | 3.40e-05 | 3.17e-05 | 4.54e-05 | 5.01e-05 | 2.44e-05 | 2.96e-05 | 4.28e-05 |\n",
       "| ENSG00000000457 | 7.80e-06 | 6.80e-06 | 7.60e-06 | 4.10e-06 | 7.70e-06 | 8.60e-06 | 8.20e-06 | 8.20e-06 | 6.60e-06 | 6.50e-06 | 7.40e-06 | 7.20e-06 |\n",
       "| ENSG00000000971 | 1.42e-05 | 1.93e-05 | 1.89e-05 | 6.90e-06 | 4.71e-05 | 2.42e-05 | 2.42e-05 | 3.31e-05 | 4.53e-05 | 2.23e-05 | 1.14e-05 | 6.76e-05 |\n",
       "| ENSG00000001036 | 3.46e-05 | 5.39e-05 | 1.90e-05 | 2.34e-05 | 4.75e-05 | 2.98e-05 | 3.45e-05 | 4.54e-05 | 4.73e-05 | 1.65e-05 | 2.94e-05 | 2.05e-05 |\n",
       "| ENSG00000001084 | 1.92e-05 | 2.27e-05 | 1.26e-05 | 6.90e-06 | 2.95e-05 | 2.39e-05 | 6.20e-06 | 2.76e-05 | 1.87e-05 | 9.40e-06 | 3.43e-05 | 3.03e-05 |\n",
       "\n"
      ],
      "text/plain": [
       "                uterus   kidney   testis   pancreas stomach  prostate ovary   \n",
       "ENSG00000000003 2.50e-05 4.44e-05 5.79e-05 1.43e-05 2.01e-05 3.04e-05 5.60e-05\n",
       "ENSG00000000419 3.44e-05 3.43e-05 3.80e-05 2.11e-05 2.96e-05 3.40e-05 3.17e-05\n",
       "ENSG00000000457 7.80e-06 6.80e-06 7.60e-06 4.10e-06 7.70e-06 8.60e-06 8.20e-06\n",
       "ENSG00000000971 1.42e-05 1.93e-05 1.89e-05 6.90e-06 4.71e-05 2.42e-05 2.42e-05\n",
       "ENSG00000001036 3.46e-05 5.39e-05 1.90e-05 2.34e-05 4.75e-05 2.98e-05 3.45e-05\n",
       "ENSG00000001084 1.92e-05 2.27e-05 1.26e-05 6.90e-06 2.95e-05 2.39e-05 6.20e-06\n",
       "                thyroid.gland adrenal.gland salivary.gland spleen   esophagus\n",
       "ENSG00000000003 3.04e-05      2.16e-05      5.58e-05       9.90e-06 4.76e-05 \n",
       "ENSG00000000419 4.54e-05      5.01e-05      2.44e-05       2.96e-05 4.28e-05 \n",
       "ENSG00000000457 8.20e-06      6.60e-06      6.50e-06       7.40e-06 7.20e-06 \n",
       "ENSG00000000971 3.31e-05      4.53e-05      2.23e-05       1.14e-05 6.76e-05 \n",
       "ENSG00000001036 4.54e-05      4.73e-05      1.65e-05       2.94e-05 2.05e-05 \n",
       "ENSG00000001084 2.76e-05      1.87e-05      9.40e-06       3.43e-05 3.03e-05 "
      ]
     },
     "metadata": {},
     "output_type": "display_data"
    },
    {
     "data": {
      "text/html": [
       "<table class=\"dataframe\">\n",
       "<caption>A data.frame: 6 × 12</caption>\n",
       "<thead>\n",
       "\t<tr><th></th><th scope=col>uterus</th><th scope=col>kidney</th><th scope=col>testis</th><th scope=col>pancreas</th><th scope=col>stomach</th><th scope=col>prostate</th><th scope=col>ovary</th><th scope=col>thyroid.gland</th><th scope=col>adrenal.gland</th><th scope=col>salivary.gland</th><th scope=col>spleen</th><th scope=col>esophagus</th></tr>\n",
       "\t<tr><th></th><th scope=col>&lt;dbl&gt;</th><th scope=col>&lt;dbl&gt;</th><th scope=col>&lt;dbl&gt;</th><th scope=col>&lt;dbl&gt;</th><th scope=col>&lt;dbl&gt;</th><th scope=col>&lt;dbl&gt;</th><th scope=col>&lt;dbl&gt;</th><th scope=col>&lt;dbl&gt;</th><th scope=col>&lt;dbl&gt;</th><th scope=col>&lt;dbl&gt;</th><th scope=col>&lt;dbl&gt;</th><th scope=col>&lt;dbl&gt;</th></tr>\n",
       "</thead>\n",
       "<tbody>\n",
       "\t<tr><th scope=row>ENSG00000000003</th><td>          NA</td><td>          NA</td><td>          NA</td><td>          NA</td><td>9.157831e-07</td><td>          NA</td><td>          NA</td><td>          NA</td><td>          NA</td><td>9.027262e-06</td><td>          NA</td><td>          NA</td></tr>\n",
       "\t<tr><th scope=row>ENSG00000000419</th><td>9.966484e-06</td><td>1.894265e-05</td><td>4.257907e-05</td><td>1.575567e-06</td><td>3.282342e-05</td><td>2.119753e-05</td><td>3.916784e-05</td><td>3.930635e-06</td><td>1.016500e-05</td><td>4.048574e-05</td><td>5.092213e-06</td><td>1.607405e-05</td></tr>\n",
       "\t<tr><th scope=row>ENSG00000000457</th><td>          NA</td><td>          NA</td><td>6.752985e-07</td><td>4.704207e-07</td><td>3.745549e-06</td><td>          NA</td><td>          NA</td><td>          NA</td><td>3.059918e-07</td><td>7.894253e-06</td><td>          NA</td><td>          NA</td></tr>\n",
       "\t<tr><th scope=row>ENSG00000000971</th><td>3.633516e-05</td><td>3.358335e-04</td><td>1.848077e-04</td><td>2.956261e-04</td><td>1.561922e-04</td><td>1.848922e-04</td><td>2.033825e-04</td><td>7.749283e-05</td><td>1.049859e-04</td><td>1.306766e-04</td><td>1.150577e-04</td><td>5.391352e-04</td></tr>\n",
       "\t<tr><th scope=row>ENSG00000001036</th><td>1.681633e-05</td><td>9.711970e-07</td><td>4.784997e-05</td><td>          NA</td><td>3.802391e-06</td><td>          NA</td><td>          NA</td><td>          NA</td><td>2.015687e-05</td><td>1.048615e-06</td><td>1.547352e-05</td><td>          NA</td></tr>\n",
       "\t<tr><th scope=row>ENSG00000001084</th><td>1.693588e-05</td><td>1.967169e-05</td><td>1.012590e-05</td><td>2.687924e-05</td><td>1.255965e-04</td><td>3.874807e-05</td><td>1.274565e-05</td><td>1.077153e-05</td><td>1.634470e-05</td><td>4.268563e-05</td><td>1.111609e-04</td><td>1.012831e-04</td></tr>\n",
       "</tbody>\n",
       "</table>\n"
      ],
      "text/latex": [
       "A data.frame: 6 × 12\n",
       "\\begin{tabular}{r|llllllllllll}\n",
       "  & uterus & kidney & testis & pancreas & stomach & prostate & ovary & thyroid.gland & adrenal.gland & salivary.gland & spleen & esophagus\\\\\n",
       "  & <dbl> & <dbl> & <dbl> & <dbl> & <dbl> & <dbl> & <dbl> & <dbl> & <dbl> & <dbl> & <dbl> & <dbl>\\\\\n",
       "\\hline\n",
       "\tENSG00000000003 &           NA &           NA &           NA &           NA & 9.157831e-07 &           NA &           NA &           NA &           NA & 9.027262e-06 &           NA &           NA\\\\\n",
       "\tENSG00000000419 & 9.966484e-06 & 1.894265e-05 & 4.257907e-05 & 1.575567e-06 & 3.282342e-05 & 2.119753e-05 & 3.916784e-05 & 3.930635e-06 & 1.016500e-05 & 4.048574e-05 & 5.092213e-06 & 1.607405e-05\\\\\n",
       "\tENSG00000000457 &           NA &           NA & 6.752985e-07 & 4.704207e-07 & 3.745549e-06 &           NA &           NA &           NA & 3.059918e-07 & 7.894253e-06 &           NA &           NA\\\\\n",
       "\tENSG00000000971 & 3.633516e-05 & 3.358335e-04 & 1.848077e-04 & 2.956261e-04 & 1.561922e-04 & 1.848922e-04 & 2.033825e-04 & 7.749283e-05 & 1.049859e-04 & 1.306766e-04 & 1.150577e-04 & 5.391352e-04\\\\\n",
       "\tENSG00000001036 & 1.681633e-05 & 9.711970e-07 & 4.784997e-05 &           NA & 3.802391e-06 &           NA &           NA &           NA & 2.015687e-05 & 1.048615e-06 & 1.547352e-05 &           NA\\\\\n",
       "\tENSG00000001084 & 1.693588e-05 & 1.967169e-05 & 1.012590e-05 & 2.687924e-05 & 1.255965e-04 & 3.874807e-05 & 1.274565e-05 & 1.077153e-05 & 1.634470e-05 & 4.268563e-05 & 1.111609e-04 & 1.012831e-04\\\\\n",
       "\\end{tabular}\n"
      ],
      "text/markdown": [
       "\n",
       "A data.frame: 6 × 12\n",
       "\n",
       "| <!--/--> | uterus &lt;dbl&gt; | kidney &lt;dbl&gt; | testis &lt;dbl&gt; | pancreas &lt;dbl&gt; | stomach &lt;dbl&gt; | prostate &lt;dbl&gt; | ovary &lt;dbl&gt; | thyroid.gland &lt;dbl&gt; | adrenal.gland &lt;dbl&gt; | salivary.gland &lt;dbl&gt; | spleen &lt;dbl&gt; | esophagus &lt;dbl&gt; |\n",
       "|---|---|---|---|---|---|---|---|---|---|---|---|---|\n",
       "| ENSG00000000003 |           NA |           NA |           NA |           NA | 9.157831e-07 |           NA |           NA |           NA |           NA | 9.027262e-06 |           NA |           NA |\n",
       "| ENSG00000000419 | 9.966484e-06 | 1.894265e-05 | 4.257907e-05 | 1.575567e-06 | 3.282342e-05 | 2.119753e-05 | 3.916784e-05 | 3.930635e-06 | 1.016500e-05 | 4.048574e-05 | 5.092213e-06 | 1.607405e-05 |\n",
       "| ENSG00000000457 |           NA |           NA | 6.752985e-07 | 4.704207e-07 | 3.745549e-06 |           NA |           NA |           NA | 3.059918e-07 | 7.894253e-06 |           NA |           NA |\n",
       "| ENSG00000000971 | 3.633516e-05 | 3.358335e-04 | 1.848077e-04 | 2.956261e-04 | 1.561922e-04 | 1.848922e-04 | 2.033825e-04 | 7.749283e-05 | 1.049859e-04 | 1.306766e-04 | 1.150577e-04 | 5.391352e-04 |\n",
       "| ENSG00000001036 | 1.681633e-05 | 9.711970e-07 | 4.784997e-05 |           NA | 3.802391e-06 |           NA |           NA |           NA | 2.015687e-05 | 1.048615e-06 | 1.547352e-05 |           NA |\n",
       "| ENSG00000001084 | 1.693588e-05 | 1.967169e-05 | 1.012590e-05 | 2.687924e-05 | 1.255965e-04 | 3.874807e-05 | 1.274565e-05 | 1.077153e-05 | 1.634470e-05 | 4.268563e-05 | 1.111609e-04 | 1.012831e-04 |\n",
       "\n"
      ],
      "text/plain": [
       "                uterus       kidney       testis       pancreas    \n",
       "ENSG00000000003           NA           NA           NA           NA\n",
       "ENSG00000000419 9.966484e-06 1.894265e-05 4.257907e-05 1.575567e-06\n",
       "ENSG00000000457           NA           NA 6.752985e-07 4.704207e-07\n",
       "ENSG00000000971 3.633516e-05 3.358335e-04 1.848077e-04 2.956261e-04\n",
       "ENSG00000001036 1.681633e-05 9.711970e-07 4.784997e-05           NA\n",
       "ENSG00000001084 1.693588e-05 1.967169e-05 1.012590e-05 2.687924e-05\n",
       "                stomach      prostate     ovary        thyroid.gland\n",
       "ENSG00000000003 9.157831e-07           NA           NA           NA \n",
       "ENSG00000000419 3.282342e-05 2.119753e-05 3.916784e-05 3.930635e-06 \n",
       "ENSG00000000457 3.745549e-06           NA           NA           NA \n",
       "ENSG00000000971 1.561922e-04 1.848922e-04 2.033825e-04 7.749283e-05 \n",
       "ENSG00000001036 3.802391e-06           NA           NA           NA \n",
       "ENSG00000001084 1.255965e-04 3.874807e-05 1.274565e-05 1.077153e-05 \n",
       "                adrenal.gland salivary.gland spleen       esophagus   \n",
       "ENSG00000000003           NA  9.027262e-06             NA           NA\n",
       "ENSG00000000419 1.016500e-05  4.048574e-05   5.092213e-06 1.607405e-05\n",
       "ENSG00000000457 3.059918e-07  7.894253e-06             NA           NA\n",
       "ENSG00000000971 1.049859e-04  1.306766e-04   1.150577e-04 5.391352e-04\n",
       "ENSG00000001036 2.015687e-05  1.048615e-06   1.547352e-05           NA\n",
       "ENSG00000001084 1.634470e-05  4.268563e-05   1.111609e-04 1.012831e-04"
      ]
     },
     "metadata": {},
     "output_type": "display_data"
    }
   ],
   "source": [
    "head(mrna)\n",
    "head(prot)"
   ]
  },
  {
   "cell_type": "code",
   "execution_count": 9,
   "metadata": {},
   "outputs": [
    {
     "data": {
      "text/html": [
       "<table class=\"dataframe\">\n",
       "<caption>A data.frame: 6 × 12</caption>\n",
       "<thead>\n",
       "\t<tr><th></th><th scope=col>uterus</th><th scope=col>kidney</th><th scope=col>testis</th><th scope=col>pancreas</th><th scope=col>stomach</th><th scope=col>prostate</th><th scope=col>ovary</th><th scope=col>thyroid.gland</th><th scope=col>adrenal.gland</th><th scope=col>salivary.gland</th><th scope=col>spleen</th><th scope=col>esophagus</th></tr>\n",
       "\t<tr><th></th><th scope=col>&lt;dbl&gt;</th><th scope=col>&lt;dbl&gt;</th><th scope=col>&lt;dbl&gt;</th><th scope=col>&lt;dbl&gt;</th><th scope=col>&lt;dbl&gt;</th><th scope=col>&lt;dbl&gt;</th><th scope=col>&lt;dbl&gt;</th><th scope=col>&lt;dbl&gt;</th><th scope=col>&lt;dbl&gt;</th><th scope=col>&lt;dbl&gt;</th><th scope=col>&lt;dbl&gt;</th><th scope=col>&lt;dbl&gt;</th></tr>\n",
       "</thead>\n",
       "<tbody>\n",
       "\t<tr><th scope=row>ENSG00000262814</th><td>1.65e-05</td><td>3.72e-05</td><td>1.49e-05</td><td>1.47e-05</td><td>2.46e-05</td><td>2.18e-05</td><td>1.39e-05</td><td>1.53e-05</td><td>2.06e-05</td><td>2.55e-05</td><td>2.01e-05</td><td>2.44e-05</td></tr>\n",
       "\t<tr><th scope=row>ENSG00000266964</th><td>7.76e-05</td><td>1.23e-05</td><td>9.90e-06</td><td>7.40e-06</td><td>1.23e-05</td><td>6.24e-05</td><td>9.64e-05</td><td>3.70e-06</td><td>2.24e-05</td><td>1.25e-05</td><td>1.61e-05</td><td>4.70e-05</td></tr>\n",
       "\t<tr><th scope=row>ENSG00000267673</th><td>1.21e-05</td><td>1.94e-05</td><td>1.09e-05</td><td>1.08e-05</td><td>7.60e-06</td><td>1.16e-05</td><td>1.41e-05</td><td>2.40e-05</td><td>1.65e-05</td><td>1.23e-05</td><td>1.03e-05</td><td>1.41e-05</td></tr>\n",
       "\t<tr><th scope=row>ENSG00000269190</th><td>2.01e-05</td><td>3.22e-05</td><td>4.80e-06</td><td>5.40e-06</td><td>2.30e-06</td><td>1.52e-05</td><td>2.62e-05</td><td>1.90e-06</td><td>4.80e-06</td><td>6.20e-06</td><td>3.40e-06</td><td>7.80e-06</td></tr>\n",
       "\t<tr><th scope=row>ENSG00000271303</th><td>1.14e-05</td><td>1.55e-05</td><td>9.80e-06</td><td>6.30e-06</td><td>1.60e-05</td><td>1.28e-05</td><td>1.40e-05</td><td>1.63e-05</td><td>3.37e-05</td><td>1.17e-05</td><td>8.50e-06</td><td>2.93e-05</td></tr>\n",
       "\t<tr><th scope=row>ENSG00000272325</th><td>1.33e-05</td><td>1.37e-05</td><td>9.50e-06</td><td>5.10e-06</td><td>9.40e-06</td><td>1.10e-05</td><td>1.71e-05</td><td>2.54e-05</td><td>1.20e-05</td><td>7.80e-06</td><td>1.43e-05</td><td>1.35e-05</td></tr>\n",
       "</tbody>\n",
       "</table>\n"
      ],
      "text/latex": [
       "A data.frame: 6 × 12\n",
       "\\begin{tabular}{r|llllllllllll}\n",
       "  & uterus & kidney & testis & pancreas & stomach & prostate & ovary & thyroid.gland & adrenal.gland & salivary.gland & spleen & esophagus\\\\\n",
       "  & <dbl> & <dbl> & <dbl> & <dbl> & <dbl> & <dbl> & <dbl> & <dbl> & <dbl> & <dbl> & <dbl> & <dbl>\\\\\n",
       "\\hline\n",
       "\tENSG00000262814 & 1.65e-05 & 3.72e-05 & 1.49e-05 & 1.47e-05 & 2.46e-05 & 2.18e-05 & 1.39e-05 & 1.53e-05 & 2.06e-05 & 2.55e-05 & 2.01e-05 & 2.44e-05\\\\\n",
       "\tENSG00000266964 & 7.76e-05 & 1.23e-05 & 9.90e-06 & 7.40e-06 & 1.23e-05 & 6.24e-05 & 9.64e-05 & 3.70e-06 & 2.24e-05 & 1.25e-05 & 1.61e-05 & 4.70e-05\\\\\n",
       "\tENSG00000267673 & 1.21e-05 & 1.94e-05 & 1.09e-05 & 1.08e-05 & 7.60e-06 & 1.16e-05 & 1.41e-05 & 2.40e-05 & 1.65e-05 & 1.23e-05 & 1.03e-05 & 1.41e-05\\\\\n",
       "\tENSG00000269190 & 2.01e-05 & 3.22e-05 & 4.80e-06 & 5.40e-06 & 2.30e-06 & 1.52e-05 & 2.62e-05 & 1.90e-06 & 4.80e-06 & 6.20e-06 & 3.40e-06 & 7.80e-06\\\\\n",
       "\tENSG00000271303 & 1.14e-05 & 1.55e-05 & 9.80e-06 & 6.30e-06 & 1.60e-05 & 1.28e-05 & 1.40e-05 & 1.63e-05 & 3.37e-05 & 1.17e-05 & 8.50e-06 & 2.93e-05\\\\\n",
       "\tENSG00000272325 & 1.33e-05 & 1.37e-05 & 9.50e-06 & 5.10e-06 & 9.40e-06 & 1.10e-05 & 1.71e-05 & 2.54e-05 & 1.20e-05 & 7.80e-06 & 1.43e-05 & 1.35e-05\\\\\n",
       "\\end{tabular}\n"
      ],
      "text/markdown": [
       "\n",
       "A data.frame: 6 × 12\n",
       "\n",
       "| <!--/--> | uterus &lt;dbl&gt; | kidney &lt;dbl&gt; | testis &lt;dbl&gt; | pancreas &lt;dbl&gt; | stomach &lt;dbl&gt; | prostate &lt;dbl&gt; | ovary &lt;dbl&gt; | thyroid.gland &lt;dbl&gt; | adrenal.gland &lt;dbl&gt; | salivary.gland &lt;dbl&gt; | spleen &lt;dbl&gt; | esophagus &lt;dbl&gt; |\n",
       "|---|---|---|---|---|---|---|---|---|---|---|---|---|\n",
       "| ENSG00000262814 | 1.65e-05 | 3.72e-05 | 1.49e-05 | 1.47e-05 | 2.46e-05 | 2.18e-05 | 1.39e-05 | 1.53e-05 | 2.06e-05 | 2.55e-05 | 2.01e-05 | 2.44e-05 |\n",
       "| ENSG00000266964 | 7.76e-05 | 1.23e-05 | 9.90e-06 | 7.40e-06 | 1.23e-05 | 6.24e-05 | 9.64e-05 | 3.70e-06 | 2.24e-05 | 1.25e-05 | 1.61e-05 | 4.70e-05 |\n",
       "| ENSG00000267673 | 1.21e-05 | 1.94e-05 | 1.09e-05 | 1.08e-05 | 7.60e-06 | 1.16e-05 | 1.41e-05 | 2.40e-05 | 1.65e-05 | 1.23e-05 | 1.03e-05 | 1.41e-05 |\n",
       "| ENSG00000269190 | 2.01e-05 | 3.22e-05 | 4.80e-06 | 5.40e-06 | 2.30e-06 | 1.52e-05 | 2.62e-05 | 1.90e-06 | 4.80e-06 | 6.20e-06 | 3.40e-06 | 7.80e-06 |\n",
       "| ENSG00000271303 | 1.14e-05 | 1.55e-05 | 9.80e-06 | 6.30e-06 | 1.60e-05 | 1.28e-05 | 1.40e-05 | 1.63e-05 | 3.37e-05 | 1.17e-05 | 8.50e-06 | 2.93e-05 |\n",
       "| ENSG00000272325 | 1.33e-05 | 1.37e-05 | 9.50e-06 | 5.10e-06 | 9.40e-06 | 1.10e-05 | 1.71e-05 | 2.54e-05 | 1.20e-05 | 7.80e-06 | 1.43e-05 | 1.35e-05 |\n",
       "\n"
      ],
      "text/plain": [
       "                uterus   kidney   testis   pancreas stomach  prostate ovary   \n",
       "ENSG00000262814 1.65e-05 3.72e-05 1.49e-05 1.47e-05 2.46e-05 2.18e-05 1.39e-05\n",
       "ENSG00000266964 7.76e-05 1.23e-05 9.90e-06 7.40e-06 1.23e-05 6.24e-05 9.64e-05\n",
       "ENSG00000267673 1.21e-05 1.94e-05 1.09e-05 1.08e-05 7.60e-06 1.16e-05 1.41e-05\n",
       "ENSG00000269190 2.01e-05 3.22e-05 4.80e-06 5.40e-06 2.30e-06 1.52e-05 2.62e-05\n",
       "ENSG00000271303 1.14e-05 1.55e-05 9.80e-06 6.30e-06 1.60e-05 1.28e-05 1.40e-05\n",
       "ENSG00000272325 1.33e-05 1.37e-05 9.50e-06 5.10e-06 9.40e-06 1.10e-05 1.71e-05\n",
       "                thyroid.gland adrenal.gland salivary.gland spleen   esophagus\n",
       "ENSG00000262814 1.53e-05      2.06e-05      2.55e-05       2.01e-05 2.44e-05 \n",
       "ENSG00000266964 3.70e-06      2.24e-05      1.25e-05       1.61e-05 4.70e-05 \n",
       "ENSG00000267673 2.40e-05      1.65e-05      1.23e-05       1.03e-05 1.41e-05 \n",
       "ENSG00000269190 1.90e-06      4.80e-06      6.20e-06       3.40e-06 7.80e-06 \n",
       "ENSG00000271303 1.63e-05      3.37e-05      1.17e-05       8.50e-06 2.93e-05 \n",
       "ENSG00000272325 2.54e-05      1.20e-05      7.80e-06       1.43e-05 1.35e-05 "
      ]
     },
     "metadata": {},
     "output_type": "display_data"
    },
    {
     "data": {
      "text/html": [
       "<table class=\"dataframe\">\n",
       "<caption>A data.frame: 6 × 12</caption>\n",
       "<thead>\n",
       "\t<tr><th></th><th scope=col>uterus</th><th scope=col>kidney</th><th scope=col>testis</th><th scope=col>pancreas</th><th scope=col>stomach</th><th scope=col>prostate</th><th scope=col>ovary</th><th scope=col>thyroid.gland</th><th scope=col>adrenal.gland</th><th scope=col>salivary.gland</th><th scope=col>spleen</th><th scope=col>esophagus</th></tr>\n",
       "\t<tr><th></th><th scope=col>&lt;dbl&gt;</th><th scope=col>&lt;dbl&gt;</th><th scope=col>&lt;dbl&gt;</th><th scope=col>&lt;dbl&gt;</th><th scope=col>&lt;dbl&gt;</th><th scope=col>&lt;dbl&gt;</th><th scope=col>&lt;dbl&gt;</th><th scope=col>&lt;dbl&gt;</th><th scope=col>&lt;dbl&gt;</th><th scope=col>&lt;dbl&gt;</th><th scope=col>&lt;dbl&gt;</th><th scope=col>&lt;dbl&gt;</th></tr>\n",
       "</thead>\n",
       "<tbody>\n",
       "\t<tr><th scope=row>ENSG00000262814</th><td>7.439914e-07</td><td>1.433128e-04</td><td>1.693850e-05</td><td>          NA</td><td>5.800116e-06</td><td>          NA</td><td>1.741214e-06</td><td>          NA</td><td>1.221164e-05</td><td>3.169555e-05</td><td>          NA</td><td>1.759668e-05</td></tr>\n",
       "\t<tr><th scope=row>ENSG00000266964</th><td>          NA</td><td>          NA</td><td>          NA</td><td>          NA</td><td>          NA</td><td>1.767627e-05</td><td>1.813579e-05</td><td>          NA</td><td>          NA</td><td>          NA</td><td>          NA</td><td>          NA</td></tr>\n",
       "\t<tr><th scope=row>ENSG00000267673</th><td>          NA</td><td>1.574266e-05</td><td>1.543045e-06</td><td>          NA</td><td>5.093142e-06</td><td>2.489128e-06</td><td>1.358377e-05</td><td>          NA</td><td>2.214073e-05</td><td>9.995027e-06</td><td>          NA</td><td>          NA</td></tr>\n",
       "\t<tr><th scope=row>ENSG00000269190</th><td>1.803568e-06</td><td>1.402511e-05</td><td>2.034178e-06</td><td>1.091202e-06</td><td>1.650044e-05</td><td>3.441421e-06</td><td>5.647713e-06</td><td>6.894839e-07</td><td>2.460341e-05</td><td>3.089573e-05</td><td>1.067625e-05</td><td>3.703505e-06</td></tr>\n",
       "\t<tr><th scope=row>ENSG00000271303</th><td>4.685853e-06</td><td>          NA</td><td>2.669675e-06</td><td>          NA</td><td>          NA</td><td>5.633086e-06</td><td>6.527088e-06</td><td>2.554554e-06</td><td>1.873942e-05</td><td>          NA</td><td>          NA</td><td>1.312187e-05</td></tr>\n",
       "\t<tr><th scope=row>ENSG00000272325</th><td>2.001929e-05</td><td>6.376470e-06</td><td>6.180226e-05</td><td>1.402270e-05</td><td>5.605276e-05</td><td>7.248613e-05</td><td>1.571054e-04</td><td>3.089959e-05</td><td>1.282666e-05</td><td>3.657967e-05</td><td>1.566443e-05</td><td>2.574201e-05</td></tr>\n",
       "</tbody>\n",
       "</table>\n"
      ],
      "text/latex": [
       "A data.frame: 6 × 12\n",
       "\\begin{tabular}{r|llllllllllll}\n",
       "  & uterus & kidney & testis & pancreas & stomach & prostate & ovary & thyroid.gland & adrenal.gland & salivary.gland & spleen & esophagus\\\\\n",
       "  & <dbl> & <dbl> & <dbl> & <dbl> & <dbl> & <dbl> & <dbl> & <dbl> & <dbl> & <dbl> & <dbl> & <dbl>\\\\\n",
       "\\hline\n",
       "\tENSG00000262814 & 7.439914e-07 & 1.433128e-04 & 1.693850e-05 &           NA & 5.800116e-06 &           NA & 1.741214e-06 &           NA & 1.221164e-05 & 3.169555e-05 &           NA & 1.759668e-05\\\\\n",
       "\tENSG00000266964 &           NA &           NA &           NA &           NA &           NA & 1.767627e-05 & 1.813579e-05 &           NA &           NA &           NA &           NA &           NA\\\\\n",
       "\tENSG00000267673 &           NA & 1.574266e-05 & 1.543045e-06 &           NA & 5.093142e-06 & 2.489128e-06 & 1.358377e-05 &           NA & 2.214073e-05 & 9.995027e-06 &           NA &           NA\\\\\n",
       "\tENSG00000269190 & 1.803568e-06 & 1.402511e-05 & 2.034178e-06 & 1.091202e-06 & 1.650044e-05 & 3.441421e-06 & 5.647713e-06 & 6.894839e-07 & 2.460341e-05 & 3.089573e-05 & 1.067625e-05 & 3.703505e-06\\\\\n",
       "\tENSG00000271303 & 4.685853e-06 &           NA & 2.669675e-06 &           NA &           NA & 5.633086e-06 & 6.527088e-06 & 2.554554e-06 & 1.873942e-05 &           NA &           NA & 1.312187e-05\\\\\n",
       "\tENSG00000272325 & 2.001929e-05 & 6.376470e-06 & 6.180226e-05 & 1.402270e-05 & 5.605276e-05 & 7.248613e-05 & 1.571054e-04 & 3.089959e-05 & 1.282666e-05 & 3.657967e-05 & 1.566443e-05 & 2.574201e-05\\\\\n",
       "\\end{tabular}\n"
      ],
      "text/markdown": [
       "\n",
       "A data.frame: 6 × 12\n",
       "\n",
       "| <!--/--> | uterus &lt;dbl&gt; | kidney &lt;dbl&gt; | testis &lt;dbl&gt; | pancreas &lt;dbl&gt; | stomach &lt;dbl&gt; | prostate &lt;dbl&gt; | ovary &lt;dbl&gt; | thyroid.gland &lt;dbl&gt; | adrenal.gland &lt;dbl&gt; | salivary.gland &lt;dbl&gt; | spleen &lt;dbl&gt; | esophagus &lt;dbl&gt; |\n",
       "|---|---|---|---|---|---|---|---|---|---|---|---|---|\n",
       "| ENSG00000262814 | 7.439914e-07 | 1.433128e-04 | 1.693850e-05 |           NA | 5.800116e-06 |           NA | 1.741214e-06 |           NA | 1.221164e-05 | 3.169555e-05 |           NA | 1.759668e-05 |\n",
       "| ENSG00000266964 |           NA |           NA |           NA |           NA |           NA | 1.767627e-05 | 1.813579e-05 |           NA |           NA |           NA |           NA |           NA |\n",
       "| ENSG00000267673 |           NA | 1.574266e-05 | 1.543045e-06 |           NA | 5.093142e-06 | 2.489128e-06 | 1.358377e-05 |           NA | 2.214073e-05 | 9.995027e-06 |           NA |           NA |\n",
       "| ENSG00000269190 | 1.803568e-06 | 1.402511e-05 | 2.034178e-06 | 1.091202e-06 | 1.650044e-05 | 3.441421e-06 | 5.647713e-06 | 6.894839e-07 | 2.460341e-05 | 3.089573e-05 | 1.067625e-05 | 3.703505e-06 |\n",
       "| ENSG00000271303 | 4.685853e-06 |           NA | 2.669675e-06 |           NA |           NA | 5.633086e-06 | 6.527088e-06 | 2.554554e-06 | 1.873942e-05 |           NA |           NA | 1.312187e-05 |\n",
       "| ENSG00000272325 | 2.001929e-05 | 6.376470e-06 | 6.180226e-05 | 1.402270e-05 | 5.605276e-05 | 7.248613e-05 | 1.571054e-04 | 3.089959e-05 | 1.282666e-05 | 3.657967e-05 | 1.566443e-05 | 2.574201e-05 |\n",
       "\n"
      ],
      "text/plain": [
       "                uterus       kidney       testis       pancreas    \n",
       "ENSG00000262814 7.439914e-07 1.433128e-04 1.693850e-05           NA\n",
       "ENSG00000266964           NA           NA           NA           NA\n",
       "ENSG00000267673           NA 1.574266e-05 1.543045e-06           NA\n",
       "ENSG00000269190 1.803568e-06 1.402511e-05 2.034178e-06 1.091202e-06\n",
       "ENSG00000271303 4.685853e-06           NA 2.669675e-06           NA\n",
       "ENSG00000272325 2.001929e-05 6.376470e-06 6.180226e-05 1.402270e-05\n",
       "                stomach      prostate     ovary        thyroid.gland\n",
       "ENSG00000262814 5.800116e-06           NA 1.741214e-06           NA \n",
       "ENSG00000266964           NA 1.767627e-05 1.813579e-05           NA \n",
       "ENSG00000267673 5.093142e-06 2.489128e-06 1.358377e-05           NA \n",
       "ENSG00000269190 1.650044e-05 3.441421e-06 5.647713e-06 6.894839e-07 \n",
       "ENSG00000271303           NA 5.633086e-06 6.527088e-06 2.554554e-06 \n",
       "ENSG00000272325 5.605276e-05 7.248613e-05 1.571054e-04 3.089959e-05 \n",
       "                adrenal.gland salivary.gland spleen       esophagus   \n",
       "ENSG00000262814 1.221164e-05  3.169555e-05             NA 1.759668e-05\n",
       "ENSG00000266964           NA            NA             NA           NA\n",
       "ENSG00000267673 2.214073e-05  9.995027e-06             NA           NA\n",
       "ENSG00000269190 2.460341e-05  3.089573e-05   1.067625e-05 3.703505e-06\n",
       "ENSG00000271303 1.873942e-05            NA             NA 1.312187e-05\n",
       "ENSG00000272325 1.282666e-05  3.657967e-05   1.566443e-05 2.574201e-05"
      ]
     },
     "metadata": {},
     "output_type": "display_data"
    }
   ],
   "source": [
    "tail(mrna)\n",
    "tail(prot)"
   ]
  },
  {
   "cell_type": "markdown",
   "metadata": {
    "tags": []
   },
   "source": [
    "### 5. Check your \"n\"s"
   ]
  },
  {
   "cell_type": "markdown",
   "metadata": {},
   "source": [
    "Let's make make sure that we actually have 6104 *unique* genes and 12 *unique* columns in `mrna`."
   ]
  },
  {
   "cell_type": "code",
   "execution_count": 10,
   "metadata": {},
   "outputs": [
    {
     "data": {
      "text/html": [
       "6104"
      ],
      "text/latex": [
       "6104"
      ],
      "text/markdown": [
       "6104"
      ],
      "text/plain": [
       "[1] 6104"
      ]
     },
     "metadata": {},
     "output_type": "display_data"
    },
    {
     "data": {
      "text/html": [
       "12"
      ],
      "text/latex": [
       "12"
      ],
      "text/markdown": [
       "12"
      ],
      "text/plain": [
       "[1] 12"
      ]
     },
     "metadata": {},
     "output_type": "display_data"
    }
   ],
   "source": [
    "length(unique(rownames(mrna)))\n",
    "length(unique(colnames(mrna)))"
   ]
  },
  {
   "cell_type": "markdown",
   "metadata": {},
   "source": [
    "Let's do the same thing for `prot`, but change up our coding style to the *tidyverse* way using the *pipe* operator `%>%`:"
   ]
  },
  {
   "cell_type": "code",
   "execution_count": 11,
   "metadata": {},
   "outputs": [
    {
     "data": {
      "text/html": [
       "6104"
      ],
      "text/latex": [
       "6104"
      ],
      "text/markdown": [
       "6104"
      ],
      "text/plain": [
       "[1] 6104"
      ]
     },
     "metadata": {},
     "output_type": "display_data"
    },
    {
     "data": {
      "text/html": [
       "12"
      ],
      "text/latex": [
       "12"
      ],
      "text/markdown": [
       "12"
      ],
      "text/plain": [
       "[1] 12"
      ]
     },
     "metadata": {},
     "output_type": "display_data"
    }
   ],
   "source": [
    "rownames(prot) %>% unique() %>% length()\n",
    "colnames(prot) %>% unique() %>% length()"
   ]
  },
  {
   "cell_type": "markdown",
   "metadata": {},
   "source": [
    "This style tends to be more readable when performing a series of actions on the same object."
   ]
  },
  {
   "cell_type": "markdown",
   "metadata": {},
   "source": [
    "### Exercise 2: Reading in files"
   ]
  },
  {
   "cell_type": "markdown",
   "metadata": {
    "tags": []
   },
   "source": [
    "#### Exercise 2.1. ##\n",
    "Read the two files `data/prot.mini.csv`  and `data/mrna.mini.csv`"
   ]
  },
  {
   "cell_type": "code",
   "execution_count": 12,
   "metadata": {},
   "outputs": [
    {
     "ename": "ERROR",
     "evalue": "Error in ...(..., row.names = 1): could not find function \"...\"\n",
     "output_type": "error",
     "traceback": [
      "Error in ...(..., row.names = 1): could not find function \"...\"\nTraceback:\n"
     ]
    }
   ],
   "source": [
    "# Replace ... with code\n",
    "prot.mini <- read.csv(\"data/prot.mini.csv\", row.names = 1)\n",
    "mrna.mini <- ...(..., row.names = 1)"
   ]
  },
  {
   "cell_type": "markdown",
   "metadata": {
    "tags": []
   },
   "source": [
    "#### Exercise 2.2\n",
    "What happens if we don't use `row.names = 1` when we read in `prot.mini`?"
   ]
  },
  {
   "cell_type": "code",
   "execution_count": null,
   "metadata": {},
   "outputs": [],
   "source": [
    "# Replace ... with code\n",
    "prot2.mini <- ...\n",
    "row.names(prot2.mini) %>% head()"
   ]
  },
  {
   "cell_type": "markdown",
   "metadata": {},
   "source": [
    "#### Exercise 2.3 ##\n",
    "Check the beginning of each data matrix (`prot.mini`, `mrna.mini`)."
   ]
  },
  {
   "cell_type": "code",
   "execution_count": null,
   "metadata": {},
   "outputs": [],
   "source": [
    "# Your code here (hint: use the head() function)"
   ]
  },
  {
   "cell_type": "markdown",
   "metadata": {},
   "source": [
    "#### Exercise 2.4 ##\n",
    "What are the dimensions of each data matrix? "
   ]
  },
  {
   "cell_type": "code",
   "execution_count": null,
   "metadata": {},
   "outputs": [],
   "source": [
    "# Your code here (hint: use the head() function)"
   ]
  },
  {
   "cell_type": "markdown",
   "metadata": {},
   "source": [
    "#### Exercise 2.5 ##\n",
    "How many genes does each data matrix contain?"
   ]
  },
  {
   "cell_type": "code",
   "execution_count": null,
   "metadata": {},
   "outputs": [],
   "source": [
    "# Your code here (hint: use the nrow() function)"
   ]
  },
  {
   "cell_type": "markdown",
   "metadata": {},
   "source": [
    "#### Exercise 2.6 ##\n",
    "Do the two data matrices have the same column and row names, in the same order?"
   ]
  },
  {
   "cell_type": "code",
   "execution_count": null,
   "metadata": {},
   "outputs": [],
   "source": [
    "# Replace ... with code\n",
    "all(colnames(...) == colnames(...))\n",
    "all(rownames(prot.mini) == ... )"
   ]
  },
  {
   "cell_type": "markdown",
   "metadata": {},
   "source": [
    "# Exploring the original large data files a little bit\n",
    "\n"
   ]
  },
  {
   "cell_type": "markdown",
   "metadata": {
    "tags": []
   },
   "source": [
    "## Are there missing values in the data set?  (easy way to look and a fancy way to look)"
   ]
  },
  {
   "cell_type": "markdown",
   "metadata": {},
   "source": [
    "Easy way - look at the values. Note that the `slice` function pulls out selected rows. "
   ]
  },
  {
   "cell_type": "code",
   "execution_count": null,
   "metadata": {},
   "outputs": [],
   "source": [
    "# Check prot: the easy way - look at some\n",
    "slice(prot, 1:5)"
   ]
  },
  {
   "cell_type": "markdown",
   "metadata": {},
   "source": [
    "This becomes the hard way, though if we have a large dataset!This becomes the hard way, though if we have a large dataset!\n",
    "\n",
    "Fancy way - using `is.na`\n",
    "\n",
    "How many NAs are in the first  5 rows of prot?"
   ]
  },
  {
   "cell_type": "code",
   "execution_count": null,
   "metadata": {},
   "outputs": [],
   "source": [
    "# First, gain an understanding for is.na():\n",
    "slice(prot, 1:5) %>% is.na()"
   ]
  },
  {
   "cell_type": "code",
   "execution_count": null,
   "metadata": {},
   "outputs": [],
   "source": [
    "slice(prot, 1:5) %>% is.na() %>% sum()"
   ]
  },
  {
   "cell_type": "markdown",
   "metadata": {},
   "source": [
    "How many protein values are missing in all?"
   ]
  },
  {
   "cell_type": "code",
   "execution_count": null,
   "metadata": {},
   "outputs": [],
   "source": [
    "prot %>% is.na() %>% sum()"
   ]
  },
  {
   "cell_type": "markdown",
   "metadata": {
    "tags": []
   },
   "source": [
    "\n",
    "\n",
    "### Exercise 3: Counting missing data"
   ]
  },
  {
   "cell_type": "markdown",
   "metadata": {},
   "source": [
    "#### Exercise 3.1 ##\n",
    "How many missing mRNA values are there?   (You should get 5509 missing values.) "
   ]
  },
  {
   "cell_type": "code",
   "execution_count": null,
   "metadata": {
    "tags": []
   },
   "outputs": [],
   "source": [
    "### Replace ... with code.\n",
    "... %>% is.na() %>% sum()"
   ]
  },
  {
   "cell_type": "markdown",
   "metadata": {
    "tags": []
   },
   "source": [
    "#### Exercise 3.2 ## \n",
    "How many mRNA values are missing for uterus tissues? (You should get 432 missing values.)\n",
    "Hint: use the `select` function to pull out the relevant column from `mrna`"
   ]
  },
  {
   "cell_type": "code",
   "execution_count": null,
   "metadata": {},
   "outputs": [],
   "source": [
    "##  Replace ... with code\n",
    "... %>% is.na() %>% sum()"
   ]
  }
 ],
 "metadata": {
  "celltoolbar": "Slideshow",
  "interpreter": {
   "hash": "916dbcbb3f70747c44a77c7bcd40155683ae19c65e1c03b4aa3499c5328201f1"
  },
  "kernelspec": {
   "display_name": "R",
   "language": "R",
   "name": "ir"
  },
  "language_info": {
   "codemirror_mode": "r",
   "file_extension": ".r",
   "mimetype": "text/x-r-source",
   "name": "R",
   "pygments_lexer": "r",
   "version": "4.2.2"
  }
 },
 "nbformat": 4,
 "nbformat_minor": 4
}
