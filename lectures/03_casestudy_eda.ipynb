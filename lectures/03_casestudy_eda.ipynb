{
 "cells": [
  {
   "cell_type": "markdown",
   "metadata": {
    "slideshow": {
     "slide_type": "slide"
    },
    "tags": []
   },
   "source": [
    "# STAT 450: Case Studies in Statistics, January 29, 2025"
   ]
  },
  {
   "cell_type": "markdown",
   "metadata": {
    "tags": []
   },
   "source": [
    "# Client meeting debrief\n",
    "\n",
    "### Two questions for discussion:\n",
    "\n",
    "1. What aspect of the meeting was most **successful** for your team?\n",
    "2. What aspect of the meeting was most **challenging** for your team?\n"
   ]
  },
  {
   "cell_type": "markdown",
   "metadata": {
    "tags": []
   },
   "source": [
    "### An important note on workflows\n",
    "\n",
    "Make sure that any data wrangling steps you complete are carried out in R, starting from reading in the raw data.\n",
    "\n",
    "**Do not edit the raw data from your client!**\n",
    "\n",
    "Why? For reproducibility and transparency. Your teammates and your client need to be able to reproduce your results, and be able to see all the steps that were used to arrive at your results. If raw data is edited, then it makes it very difficult for someone to arrive at the same conclusion, and some steps are hidden.\n",
    "\n",
    "---"
   ]
  },
  {
   "cell_type": "markdown",
   "metadata": {
    "tags": []
   },
   "source": [
    "# Next Project Milestone - Group Proposal\n",
    "\n",
    "* Written document that:\n",
    "    * summarizes the project\n",
    "    * clearly states the objectives/scientific question\n",
    "    * gives an overview of the data available \n",
    "    * outlines the statistical analysis plan from EDA to formal analysis\n",
    "* Report is internal (not shared with client)\n",
    "* Planned analyses do *not* have to be constrained by specific client requests\n",
    "* Detailed instructions [here](https://canvas.ubc.ca/courses/151975/assignments/2019048)\n",
    "\n",
    "---"
   ]
  },
  {
   "cell_type": "markdown",
   "metadata": {
    "tags": []
   },
   "source": [
    "#  Case study: Relation between mRNA and protein levels \n",
    "\n",
    "Back to our case study...\n",
    "Our hypothetical clients have been waiting patiently as we have been performing some initial checks on our mRNA and protein expression data. \n",
    "Let's get to back to some more EDA (exploratory data analysis)!"
   ]
  },
  {
   "cell_type": "markdown",
   "metadata": {
    "slideshow": {
     "slide_type": "slide"
    },
    "tags": []
   },
   "source": [
    "## Recall: The Problem\n",
    "- Despite expectations of a __high__ correlation between mRNA and protein levels, many researchers have studied this relationship and experimental results have shown very __low__ correlation values\n",
    "\n",
    "- In 2014, a research group claimed to find a \"predictive model\", which can be used to predict protein from mRNA!!  (published in [Nature: Wilhelm et al. (2014)](https://www.nature.com/articles/nature13319))\n",
    "\n",
    "- We will use data from this publication as if it is \"our client's data\"\n",
    "\n",
    "\n",
    "## Client's question\n",
    "\n",
    "Can you predict protein levels from mRNA levels? Are protein levels and mRNA levels related?\n",
    "\n",
    "Is our analysis correct?\n",
    ">*\"Using the median ratio of protein to mRNA levels per gene as a proxy for translation rates, our data show that, it now becomes possible to predict protein abundance in any given tissue with good accuracy from the measured mRNA abundance\"*"
   ]
  },
  {
   "cell_type": "markdown",
   "metadata": {
    "jp-MarkdownHeadingCollapsed": true,
    "slideshow": {
     "slide_type": "slide"
    },
    "tags": []
   },
   "source": [
    "## Recall: from Chapter 4 of The Art of Data Science (by Peng and Matsui)\n",
    "\n",
    "### Exploratory Data Analysis: Checklist\n",
    "\n",
    "1. *Formulate your question* - **Can you predict protein levels from mRNA levels?**\n",
    "2. *Read in your data*\n",
    "3. *Check the packaging*\n",
    "4. *Look at the top and the bottom of your data*\n",
    "5. *Check your “n”s*\n",
    "6. Validate with at least one external data source\n",
    "7. Make a plot\n",
    "8. Try the easy solution first\n",
    "9. Follow up"
   ]
  },
  {
   "cell_type": "markdown",
   "metadata": {},
   "source": [
    "## Our questions that came up last time\n",
    "\n",
    "1. What is the median ratio of protein to mRNA levels per gene and why is it used as a proxy for translation rates? - *[we'll put this question aside for now...]*\n",
    "\n",
    "2. Does the data align with our expectations? Do the protein levels broadly seem related to the mRNA levels (last time we only looked at one gene)?\n",
    "\n",
    "3. How much of our data is missing?\n",
    "    - Why are there missing values? \n",
    "    - are NAs a low level so the technology can't read it in?\n",
    "    - does \"NA\" carry any additional information?"
   ]
  },
  {
   "cell_type": "markdown",
   "metadata": {},
   "source": [
    "## Load libraries and read in the tidy data\n",
    "\n",
    "Last time we created a tibble object that joined the mRNA and protein data together in tidy format. We would like to work with that tidy dataset today, but we're not going to go through all that code right now (you can open the previous notebook if you'd like to review the pivot and join steps). The tidy formatted object we created last time has been saved to a new csv file in this working directory for your convenience 😅, so we'll read it into our R session. "
   ]
  },
  {
   "cell_type": "code",
   "execution_count": null,
   "metadata": {},
   "outputs": [],
   "source": [
    "# load libraries\n",
    "library(tidyverse)\n",
    "\n",
    "# read in previously saved tidy dataset and take a peek at it\n",
    "tidy_data <-  read_csv(\"data/tidy_data.csv\",show_col_types = FALSE)\n",
    "tidy_data %>% head()"
   ]
  },
  {
   "cell_type": "markdown",
   "metadata": {},
   "source": [
    "Recall the plot we made of the mRNA vs protein levels of the \"ENSG00000000419\" coloured by tissue:"
   ]
  },
  {
   "cell_type": "code",
   "execution_count": null,
   "metadata": {},
   "outputs": [],
   "source": [
    "tidy_data %>% filter(gene == \"ENSG00000000419\") %>%\n",
    "    ggplot(aes(x = mrna, y = protein, color = tissue)) + \n",
    "    geom_point() + ggtitle(\"ENSG00000000419\") "
   ]
  },
  {
   "cell_type": "markdown",
   "metadata": {},
   "source": [
    "Are there any missing values for gene \"ENSG00000000419\"? How would you answer that?"
   ]
  },
  {
   "cell_type": "markdown",
   "metadata": {},
   "source": [
    "## Exploring missing values in the data set "
   ]
  },
  {
   "cell_type": "markdown",
   "metadata": {
    "slideshow": {
     "slide_type": "-"
    }
   },
   "source": [
    "Last time we saw that there are some missing values in our dataset. Now we will investigate this further. First, we'll ask: **How many missing mRNA values are there?**\n",
    "\n",
    "Let's answer this!"
   ]
  },
  {
   "cell_type": "code",
   "execution_count": null,
   "metadata": {},
   "outputs": [],
   "source": [
    "tidy_data %>% \n",
    "    summarize(number_mrna_missing = sum(is.na(mrna)))"
   ]
  },
  {
   "cell_type": "markdown",
   "metadata": {},
   "source": [
    "<h5 style=\"color:red; font-weight:bold;\"> Exercise 1: </h5>\n",
    "\n",
    "Next, modify the previous code chunk to answer the following question:\n",
    "**How many missing protein values are there?** "
   ]
  },
  {
   "cell_type": "code",
   "execution_count": null,
   "metadata": {},
   "outputs": [],
   "source": [
    "#### YOUR CODE HERE\n"
   ]
  },
  {
   "cell_type": "markdown",
   "metadata": {
    "slideshow": {
     "slide_type": "-"
    }
   },
   "source": [
    "Now that we have an idea of the total number of missing mRNA and protein values, we'll investigate how that will affect our investigation of the relationship between them. More specifically:\n",
    "\n",
    "**How many gene-tissue combinations have missing values for mRNA and/or protein?**\n",
    "\n",
    "Equivalently, let's find the number of complete mRNA-protein pairs for each gene."
   ]
  },
  {
   "cell_type": "code",
   "execution_count": null,
   "metadata": {},
   "outputs": [],
   "source": [
    "complete_pairs <- tidy_data  %>% \n",
    "    group_by(gene)  %>% \n",
    "    summarize(values_available = sum(!is.na(protein) & !is.na(mrna)))"
   ]
  },
  {
   "cell_type": "markdown",
   "metadata": {},
   "source": [
    "The `complete_pairs` data frame tells you the number of tissues with complete measurements per gene. "
   ]
  },
  {
   "cell_type": "markdown",
   "metadata": {},
   "source": [
    "<h5 style=\"color:red; font-weight:bold;\"> Exercise 2: </h5>\n",
    "\n",
    "How many genes have mRNA and protein data for all 12 tissues?  for just 1 tissue?  etc.\n",
    "\n",
    "In other words, **what is the distribution of the number of complete mRNA/prot pairs?**\n",
    "\n",
    "Make a table or a bar chart to describe."
   ]
  },
  {
   "cell_type": "code",
   "execution_count": null,
   "metadata": {},
   "outputs": [],
   "source": [
    "# make a table: \n",
    "\n",
    "#### YOUR CODE HERE\n",
    "\n",
    "# make a bar chart - hint: you can use geom_bar()\n",
    "\n",
    "#### YOUR CODE HERE"
   ]
  },
  {
   "cell_type": "markdown",
   "metadata": {},
   "source": [
    "## Is \"missingness\" related to correlations?\n",
    "\n",
    "Our goal is examining the correlations between mRNA and protein per gene. \n",
    "\n",
    "But first: are these correlations affected by the number of missing values? \n",
    "\n",
    "The following code chunk joins our `tidy_data` tibble with the tabulation of number of complete pairs (tissues) available per gene in `complete_pairs` to make a new tibble `dat_npair` that contains, for each gene and each tissue, the protein data + mRNA data + number of complete pairs:"
   ]
  },
  {
   "cell_type": "code",
   "execution_count": null,
   "metadata": {},
   "outputs": [],
   "source": [
    "dat_npair <- tidy_data %>% \n",
    "    full_join(complete_pairs, by = \"gene\")"
   ]
  },
  {
   "cell_type": "markdown",
   "metadata": {},
   "source": [
    "Now, let's calculate correlation values by gene. Since we need at least 3 values for a meaningful correlation value, we'll exclude genes with 2 or fewer complete pairs.\n",
    "\n",
    "The code chunk below: \n",
    "- considers genes that have at least 3 complete mRNA-protein pairs\n",
    "- calculates spearman (rank) correlation between mRNA and protein for each of these genes using complete pairs"
   ]
  },
  {
   "cell_type": "code",
   "execution_count": null,
   "metadata": {},
   "outputs": [],
   "source": [
    "dat_cor <- dat_npair %>% \n",
    "    filter(values_available >=3) %>%          ## use `filter` to retain genes with 3 or more observations\n",
    "    group_by(gene, values_available)  %>%     ## use `group_by` to group data by gene and values available\n",
    "    summarize(cor_g = cor(mrna,               ## use `mutate` to compute and save correlations per gene\n",
    "                       protein,\n",
    "                       use = \"pairwise.complete.obs\", \n",
    "                       method = \"spearman\"))"
   ]
  },
  {
   "cell_type": "markdown",
   "metadata": {},
   "source": [
    "Note that we are using Spearman correlation here, which does not make any assumptions about a linear relationship! If we chose Pearson instead, we would need to examine the relevance of potential linear relationships (and consider possible transformations).\n",
    "\n",
    "> Aside: Many R functions have an argument for how to handle missing values.\n",
    ">  Look at help in R for `cor`:  use = `\"everything\"`, `\"all.obs\"`, `\"complete.obs\"`, `\"na.or.complete\"`, or `\"pairwise.complete.obs\"`\n",
    "> - help for `cor` is written for correlation matrix  (each entry is a correlation between 2 variables)\n",
    "> - From help:\n",
    ">   - If use is `\"complete.obs\"` then missing values are handled by casewise deletion (and if there are no complete cases, that gives an error). \n",
    ">   - `\"na.or.complete\"` is the same as `\"complete.obs\"` unless there are no complete cases, then `\"na.or.complete\"` gives NA.\n",
    ">   - `\"pairwise.complete.obs\"` computes the correlation between each pair of variables using all complete pairs of observations on those variables.  (Same as `\"complete.obs\"` if you only have two variables, e.g. mRNA and protein.)"
   ]
  },
  {
   "cell_type": "markdown",
   "metadata": {},
   "source": [
    "Let's look at the correlations in `dat_cor`."
   ]
  },
  {
   "cell_type": "code",
   "execution_count": null,
   "metadata": {},
   "outputs": [],
   "source": [
    "head(dat_cor)\n",
    "tail(dat_cor)"
   ]
  },
  {
   "cell_type": "markdown",
   "metadata": {},
   "source": [
    "Now we have a new dataframe that contains information of correlations between mRNA and protein per gene and number of tissues with complete pairs."
   ]
  },
  {
   "cell_type": "markdown",
   "metadata": {},
   "source": [
    "<h5 style=\"color:red; font-weight:bold;\"> Exercise 3: </h5>\n",
    "\n",
    "Make a plot to examine the distributions of the correlations per gene. What information does your plot tell you? "
   ]
  },
  {
   "cell_type": "code",
   "execution_count": null,
   "metadata": {},
   "outputs": [],
   "source": [
    "#### YOUR CODE HERE\n"
   ]
  },
  {
   "cell_type": "markdown",
   "metadata": {},
   "source": [
    "<h5 style=\"color:red; font-weight:bold;\"> Exercise 4: </h5>\n",
    "\n",
    "Use boxplots to examine the relationship between number of available pairs and the correlations per gene. "
   ]
  },
  {
   "cell_type": "code",
   "execution_count": null,
   "metadata": {},
   "outputs": [],
   "source": [
    "#### YOUR CODE HERE\n",
    "# hint: you may want to convert `values_available` to a factor\n"
   ]
  },
  {
   "cell_type": "markdown",
   "metadata": {},
   "source": [
    "### Questions for discussion  (compare the boxplots)\n",
    "-  Compare the correlations for genes with 3 complete pairs, 4 complete pairs, etc.  What do you see?\n",
    "-  Why do you think you see this?  Is it some problem, e.g. bias?\n",
    "-  Why don't we have a boxplot for 2 complete pairs?  1 complete pair?  no complete pairs?"
   ]
  },
  {
   "cell_type": "markdown",
   "metadata": {},
   "source": [
    "## Is \"missingness\" related to expression levels?\n",
    "\n",
    "This may give us a clue as to whether the missing values actually represent something other than 'missing at random' (e.g. does missing actually mean the technology couldn't detect anything, so we should think of it as a 'zero'?)\n",
    "\n",
    "Let's investigate whether the amount of missing protein values is related to the mean protein level."
   ]
  },
  {
   "cell_type": "code",
   "execution_count": null,
   "metadata": {},
   "outputs": [],
   "source": [
    "summaries_prot <- \n",
    "    tidy_data %>%  \n",
    "    group_by(gene) %>%                                  # group by gene\n",
    "    summarize(mean_prot = mean(protein, na.rm = TRUE),  # calculate mean of all non-missing protein values per gene\n",
    "              available_prot = sum(!is.na(protein)))    # calculate the sum of non-missing protein values per gene\n",
    "\n",
    "summaries_prot %>% head()"
   ]
  },
  {
   "cell_type": "markdown",
   "metadata": {},
   "source": [
    "Take a quick look at the distribution of number of non-missing protein values."
   ]
  },
  {
   "cell_type": "code",
   "execution_count": null,
   "metadata": {},
   "outputs": [],
   "source": [
    "table(summaries_prot$available_prot)"
   ]
  },
  {
   "cell_type": "markdown",
   "metadata": {},
   "source": [
    "Let's remove the genes that have all missing protein values."
   ]
  },
  {
   "cell_type": "code",
   "execution_count": null,
   "metadata": {},
   "outputs": [],
   "source": [
    "summaries_prot <- summaries_prot %>%\n",
    "  filter(available_prot > 0)"
   ]
  },
  {
   "cell_type": "markdown",
   "metadata": {},
   "source": [
    "<h5 style=\"color:red; font-weight:bold;\"> Exercise 5: </h5>\n",
    "Use a plot of your choice to illustrate the relationship between mean protein abundance per gene and the number of observed protein values available. \n"
   ]
  },
  {
   "cell_type": "code",
   "execution_count": null,
   "metadata": {},
   "outputs": [],
   "source": [
    "### YOUR CODE HERE\n"
   ]
  },
  {
   "cell_type": "markdown",
   "metadata": {},
   "source": [
    "**Questions for Discussion**:\n",
    "- What do we see in the plot?\n",
    "- If the data were missing completely at random: what would we expect? \n",
    "- We know that sometimes values are missing because they are too small, they fall below a threshold of detectability.  If that is the case with the protein measurements, what would you expect to see in these boxplots?  Does that explain these boxplots? "
   ]
  },
  {
   "cell_type": "markdown",
   "metadata": {},
   "source": [
    "## Summaries and statistics are helpful to form or shape certain expectations about the data"
   ]
  },
  {
   "cell_type": "markdown",
   "metadata": {},
   "source": [
    "### Summary: EDA \n",
    "EDA helps us: \n",
    "- look at the data in different ways \n",
    "- understand the problem better \n",
    "- examine the effect of missing data \n",
    "- understand the format of the data so we can manipulate it and change the format if needed \n",
    "- create new questions (e.g. are you interested in analyzing correlations per tissue instead of per gene?)\n",
    "- see that correlations are highly variable for genes with few measured tissues \n",
    "- on average, correlations per gene are below 0.5 "
   ]
  },
  {
   "cell_type": "markdown",
   "metadata": {},
   "source": [
    "---\n",
    "\n",
    "## Looking forward: Model expectations\n",
    "\n",
    "A data analyst can construct *a model* to answer to these questions. This process depends on the analyst's expectations (on how the world works and how the data was generated)"
   ]
  },
  {
   "cell_type": "markdown",
   "metadata": {
    "tags": []
   },
   "source": [
    "Notes from The Art of Data Science, by Peng and Matsui\n",
    "\n",
    ">**\"A data analyst creates, assesses, and refines a model, [...] using the data, to understand the real world\"**\n",
    "\n",
    "\n",
    "Statistics and statistical models serve two key purposes:\n",
    "1. provide a quantitative summary of your data and \n",
    "2. to impose a specific structure on the population from which the data were sampled. \n",
    "    - It’s sometimes helpful to understand what a model is and why it can be useful through the illustration of extreme examples. The trivial “model” is simply no model at all.\n",
    "    - Having all the data is important, but is often not very useful.\n",
    "\n",
    "\n",
    "### 1. The trivial model: no model\n",
    "\n",
    "Our client has collected data with mRNA and protein measurements across many genes and 12 tissues. However, *the raw data set(s) do not provide any summary or sense of uncertainty.* \n",
    ">**\"The trivial model provides *no reduction of the data*\"**"
   ]
  },
  {
   "cell_type": "markdown",
   "metadata": {},
   "source": [
    "### 2. Everything beyond no-model: data reduction\n",
    "Usually, we start by reducing our data to simple useful summaries (or statistics) that help us understand our data better.\n",
    "\n",
    "Common examples of such statistics are: the sample mean, the median, the standard deviation, the maximum, etc.\n",
    "\n",
    "The beauty of these statistics is that:"
   ]
  },
  {
   "cell_type": "markdown",
   "metadata": {},
   "source": [
    "**Brainstorm:** \n",
    "\n",
    "- (your answer goes here)\n",
    "- \n",
    "- "
   ]
  },
  {
   "cell_type": "markdown",
   "metadata": {},
   "source": [
    "Ultimately, our goal is to translate a scientific question into something we can objectively answer using a statistical model (e.g. compare a useful summary of our data to that which would represent our expectation if our hypothesis was not true). "
   ]
  }
 ],
 "metadata": {
  "celltoolbar": "Slideshow",
  "kernelspec": {
   "display_name": "R",
   "language": "R",
   "name": "ir"
  },
  "language_info": {
   "codemirror_mode": "r",
   "file_extension": ".r",
   "mimetype": "text/x-r-source",
   "name": "R",
   "pygments_lexer": "r",
   "version": "4.4.2"
  }
 },
 "nbformat": 4,
 "nbformat_minor": 4
}
