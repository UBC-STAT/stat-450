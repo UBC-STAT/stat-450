{
 "cells": [
  {
   "cell_type": "markdown",
   "metadata": {
    "slideshow": {
     "slide_type": "slide"
    },
    "tags": []
   },
   "source": [
    "# STAT 450: Case Studies in Statistics"
   ]
  },
  {
   "cell_type": "markdown",
   "metadata": {
    "slideshow": {
     "slide_type": "-"
    },
    "tags": []
   },
   "source": [
    "## Example Case study: Relation between mRNA and protein levels \n",
    "\n",
    "### Lecture pre-reading/watching\n",
    "\n",
    "1. Background video on protein synthesis (9 minutes): https://www.youtube.com/watch?v=oefAI2x2CQM \n",
    "\n",
    "<img src=\"img/videoscreenshot.png\" width=40%>\n",
    "\n",
    "2. Background reading on exploratory data analysis: [Chapter 4 of the Art of Data Science](https://bookdown.org/rdpeng/artofdatascience/exploratory-data-analysis.html)\n",
    "\n",
    "\n",
    "###  Outline for today:\n",
    "1. Biology basics \n",
    "2. Client's data\n",
    "3. Scientific question and client's claim\n",
    "4. Initial checking of the data\n",
    "\n",
    "There are some exercises built in to check our understanding (not to be handed in)."
   ]
  },
  {
   "cell_type": "markdown",
   "metadata": {
    "tags": []
   },
   "source": [
    "## Section 1. Biology basics: DNA to RNA to Protein\n",
    "\n",
    "Every cell in our body has our genetic material, our genes on our DNA. Some genes act as instructions to make molecules called proteins.  \n",
    "\n",
    "**Transcription**:  Within the cell nucleus, a \"protein recipe\" is transferred from a gene to mRNA (messenger RNA).  This process is called transcription.  \n",
    "\n",
    "**Translation**:  The mRNA takes the recipe outside of the nucleus, where amino acids follow the recipe to form a protein.  This process is called translation.\n",
    "\n",
    "\n",
    "This picture illustrates what is known as the Central Dogma of Biology:\n",
    "\n",
    "![](https://upload.wikimedia.org/wikipedia/commons/6/68/Central_Dogma_of_Molecular_Biochemistry_with_Enzymes.jpg)"
   ]
  },
  {
   "cell_type": "markdown",
   "metadata": {
    "slideshow": {
     "slide_type": "slide"
    },
    "tags": []
   },
   "source": [
    "Because proteins are synthesized by translation from RNA, one might expect that high RNA levels should lead to high protein levels.  \n",
    "<img src=\"img/translation.png\" width=60%>\n",
    "\n",
    "Despite this expectation of a high correlation between RNA and protein levels, experimental results have shown very low correlation values.\n",
    "\n",
    "<img src=\"img/articlelowcorr.png\" width=70%>\n",
    "\n",
    "In 2014, a research group claimed to find a \"predictive model\", which can be used to predict protein from RNA!\n",
    "\n",
    "<img src=\"img/articleclient.png\" width=70%>\n",
    "\n",
    "Quote from the article by [Wilhelm et al. (Nature 2014)](https://www.nature.com/articles/nature13319)\n",
    "\n",
    ">\"**...it now becomes possible to predict protein abundance in any given tissue with good accuracy from the measured mRNA abundance.**\"\n",
    "\n",
    "We'll use data from this group submitted to the Journal as if it is \"our client's data\".\n"
   ]
  },
  {
   "cell_type": "markdown",
   "metadata": {
    "tags": []
   },
   "source": [
    "## Section 2. Client's data\n",
    "\n",
    "### Measuring RNA and protein \n",
    "\n",
    "There are many different ways to quantify mRNA and protein levels. Here is some background information on the measures used in this case study.\n",
    "\n",
    "#### RNA measurements\n",
    "- RNA-seq (RNA-sequencing) is a technology that provides counts of short transcript fragments, known as **reads**\n",
    "- Reads are then 'mapped' back to the genome to summarize as gene-level counts\n",
    "- Complications: there are duplicate fragments, and not able to count every fragment present, so we have random sampling\n",
    "  - counts depend on total number of reads for each sample (depth)\n",
    "  - FPKM (Fragments Per Kilobase of transcript per Million mapped reads) is a way to 'normalize' counts so they are comparable across samples with different depth\n",
    "\n",
    "#### Protein measurements\n",
    "- Mass spectrometry is a technology that measures mass-to-charge ratio of particles in a sample\n",
    "  - different proteins have different mass-to-charge ratios\n",
    "- Intensity at each ratio gives information about how abundant each protein is\n",
    "  - iBAQ (intensity Based Absolute Quantitation) is one way to convert intensities to an estimate absolute measures of abundance\n",
    "\n",
    "**Question**: Could either of these quantities be influenced by *random variation* or *uncertainty*?"
   ]
  },
  {
   "cell_type": "markdown",
   "metadata": {
    "jp-MarkdownHeadingCollapsed": true,
    "tags": []
   },
   "source": [
    "### The data files\n",
    "- Two data files are provided alongside this notebook:  \n",
    "  - `proteinUN.csv`  (protein data)\n",
    "  - `geneUN.csv`  (mrna data)\n",
    "- Each file contains information on 6104 genes (the same genes in each file)\n",
    "- For each gene, we have measurements on 12 tissue types\n",
    "- Thus, for each gene, we have 12 pairs of measurements:  protein level and mRNA level"
   ]
  },
  {
   "cell_type": "markdown",
   "metadata": {
    "slideshow": {
     "slide_type": "slide"
    },
    "tags": []
   },
   "source": [
    "## Section 3. Scientific question and client's claim\n",
    "\n",
    "### Scientific question: Can we predict protein level from RNA with good accuracy?\n",
    "\n",
    "### Client's claim\n",
    "\n",
    ">*\"Using the median ratio of protein to mRNA levels per gene as a proxy for translation rates, our data show that, it now becomes possible to predict protein abundance in any given tissue with good accuracy from the measured mRNA abundance\"*\n",
    "\n",
    "![](img/nature_res.png)\n",
    "\n",
    "Both plots above come from [Wilhelm et al. (2014)](https://www.nature.com/articles/nature13319): Left is taken from Supplementary Figure 7a, and right is taken from Figure 5a.\n",
    "\n",
    "### Client's questions for us\n",
    "\n",
    "1. Is our analysis statistically correct?\n",
    "\n",
    "2. Is there another way to analyze the data? If so, do we get similar results?\n",
    "\n",
    "### Our approach\n",
    "\n",
    "What did the client do? What is this 'median ratio' approach? \n",
    "\n",
    "Can we reproduce their analysis? Do we get the same conclusions?\n",
    " \n",
    "Is there another (better) way to do the analysis?"
   ]
  },
  {
   "cell_type": "markdown",
   "metadata": {
    "slideshow": {
     "slide_type": "slide"
    }
   },
   "source": [
    "## Section 4. Initial checking of the data\n",
    "\n",
    "### Exploratory Data Analysis Checklist\n",
    "\n",
    "From Chapter 4 of [The Art of Data Science (by Peng and Matsui)](https://bookdown.org/rdpeng/artofdatascience/)\n",
    "\n",
    ">1. Formulate your question\n",
    ">2. Read in your data\n",
    ">3. Check the packaging\n",
    ">4. Look at the top and the bottom of your data\n",
    ">5. Check your “n”s\n",
    ">6. Validate with at least one external data source\n",
    ">7. Make a plot\n",
    ">8. Try the easy solution first\n",
    ">9. Follow up\n",
    "\n",
    "We'll go through the first several steps, as well as perform some additional dataset-specific explorations."
   ]
  },
  {
   "cell_type": "markdown",
   "metadata": {
    "jp-MarkdownHeadingCollapsed": true,
    "tags": []
   },
   "source": [
    "\n",
    "### 1. Formulate your question\n",
    "\n",
    "Can you predict protein levels from mRNA levels?  \n",
    "More loosely:  are protein levels and mRNA levels related?  (We may need to fine tune this.)"
   ]
  },
  {
   "cell_type": "markdown",
   "metadata": {
    "tags": []
   },
   "source": [
    "  \n",
    "### 2.  Read in your data. Load libraries and read data files, `proteinUN.csv`, `geneUN.csv`.  \n"
   ]
  },
  {
   "cell_type": "markdown",
   "metadata": {},
   "source": [
    "First take a look at the data files directly (in directory `lectures/data`).\n",
    "\n",
    "Next, load any necessary libraries. Here for illustration we'll load a library called `tidyverse` that actually includes several handy libraries within it. You'll learn more about them as we go."
   ]
  },
  {
   "cell_type": "code",
   "execution_count": null,
   "metadata": {
    "slideshow": {
     "slide_type": "slide"
    },
    "tags": []
   },
   "outputs": [],
   "source": [
    "library(tidyverse)"
   ]
  },
  {
   "cell_type": "markdown",
   "metadata": {},
   "source": [
    "Next read in the two CSV data files with the `read_csv` function (since we have `.csv` files)"
   ]
  },
  {
   "cell_type": "code",
   "execution_count": null,
   "metadata": {
    "slideshow": {
     "slide_type": "slide"
    },
    "tags": []
   },
   "outputs": [],
   "source": [
    "mrna <-\n",
    "  read_csv(\"data/geneUN.csv\") \n",
    "\n",
    "prot <-\n",
    "  read_csv(\"data/proteinUN.csv\") "
   ]
  },
  {
   "cell_type": "markdown",
   "metadata": {},
   "source": [
    "### 3. Check the packaging"
   ]
  },
  {
   "cell_type": "markdown",
   "metadata": {},
   "source": [
    "Let's check the dimension of each object. Let's check the dimension of each object. Note that another useful function that can tell us about the packaging is `str` - try it!"
   ]
  },
  {
   "cell_type": "code",
   "execution_count": null,
   "metadata": {},
   "outputs": [],
   "source": [
    "dim(mrna)\n",
    "dim(prot)"
   ]
  },
  {
   "cell_type": "markdown",
   "metadata": {},
   "source": [
    "Looks like both files have 6104 rows and 13 tissues."
   ]
  },
  {
   "cell_type": "markdown",
   "metadata": {
    "tags": []
   },
   "source": [
    "Do the column names of `prot`  agree with the column names of `mrna`? Notice anything else?"
   ]
  },
  {
   "cell_type": "code",
   "execution_count": null,
   "metadata": {},
   "outputs": [],
   "source": [
    "colnames(mrna)\n",
    "colnames(prot)\n",
    "colnames(prot) == colnames(mrna)"
   ]
  },
  {
   "cell_type": "markdown",
   "metadata": {},
   "source": [
    "Let's check rownames:  Do I want to use the same functions to check 6104 rownames? Try the `all` function instead."
   ]
  },
  {
   "cell_type": "code",
   "execution_count": null,
   "metadata": {},
   "outputs": [],
   "source": [
    "# can we do better than this? \n",
    "rownames(prot) == rownames(mrna)"
   ]
  },
  {
   "cell_type": "markdown",
   "metadata": {},
   "source": [
    "### 4. Check top and bottom of files"
   ]
  },
  {
   "cell_type": "markdown",
   "metadata": {},
   "source": [
    "Here we want to check for any inconsistencies or surprises in reading in the data (e.g. characters appearing mixed with numeric values, incomplete rows at the end, missingness, unclear sample or feature names, etc...)"
   ]
  },
  {
   "cell_type": "code",
   "execution_count": null,
   "metadata": {},
   "outputs": [],
   "source": [
    "head(mrna)\n",
    "head(prot)"
   ]
  },
  {
   "cell_type": "code",
   "execution_count": null,
   "metadata": {},
   "outputs": [],
   "source": [
    "tail(mrna)\n",
    "tail(prot)"
   ]
  },
  {
   "cell_type": "markdown",
   "metadata": {},
   "source": [
    "Luckily for us, we checked the file. We notice a couple of things. First, it looks like we have some missing values (we'll come back to this later). In addition, the first column has a weird name. But looking at the contents, we recognize those as the gene names! Not to worry, we can use the rename function to rename a column."
   ]
  },
  {
   "cell_type": "code",
   "execution_count": null,
   "metadata": {},
   "outputs": [],
   "source": [
    "prot <-\n",
    "  prot %>%\n",
    "  rename(gene = ...1)\n",
    "mrna <-\n",
    "  mrna %>%\n",
    "  rename(gene = ...1)\n",
    "\n",
    "head(prot)\n",
    "head(mrna)"
   ]
  },
  {
   "cell_type": "markdown",
   "metadata": {},
   "source": [
    "That's better!"
   ]
  },
  {
   "cell_type": "markdown",
   "metadata": {
    "tags": []
   },
   "source": [
    "### 5. Check your \"n\"s"
   ]
  },
  {
   "cell_type": "markdown",
   "metadata": {},
   "source": [
    "Let's make make sure that we actually have 6104 *unique* genes and 13 *unique* columns in `mrna`."
   ]
  },
  {
   "cell_type": "code",
   "execution_count": null,
   "metadata": {},
   "outputs": [],
   "source": [
    "length(unique(rownames(mrna)))\n",
    "length(unique(colnames(mrna)))"
   ]
  },
  {
   "cell_type": "markdown",
   "metadata": {},
   "source": [
    "Let's do the same thing for `prot`, but change up our coding style to the *tidyverse* way using the *pipe* operator `%>%`:"
   ]
  },
  {
   "cell_type": "code",
   "execution_count": null,
   "metadata": {},
   "outputs": [],
   "source": [
    "# rewrite the previous using the pipe"
   ]
  },
  {
   "cell_type": "markdown",
   "metadata": {},
   "source": [
    "This style tends to be more readable when performing a series of actions on the same object."
   ]
  },
  {
   "cell_type": "markdown",
   "metadata": {},
   "source": [
    "### Try it yourself! Practice these checks so far using mini data files"
   ]
  },
  {
   "cell_type": "markdown",
   "metadata": {
    "tags": []
   },
   "source": [
    "#### Exercise 1 ##\n",
    "\n",
    "Read the two files `data/prot.mini.csv`  and `data/mrna.mini.csv`"
   ]
  },
  {
   "cell_type": "code",
   "execution_count": null,
   "metadata": {},
   "outputs": [],
   "source": [
    "mrna.mini <-\n",
    "  read_csv(\"data/mrna.mini.csv\") %>%\n",
    "  rename(gene = ...1)\n",
    "\n",
    "# do the same thing for prot.mini\n",
    "prot.mini <- # your code here"
   ]
  },
  {
   "cell_type": "markdown",
   "metadata": {},
   "source": [
    "#### Exercise 2 ##\n",
    "Check the beginning of each data matrix (`prot.mini`, `mrna.mini`)."
   ]
  },
  {
   "cell_type": "code",
   "execution_count": null,
   "metadata": {},
   "outputs": [],
   "source": [
    "# your code here"
   ]
  },
  {
   "cell_type": "markdown",
   "metadata": {},
   "source": [
    "#### Exercise 3 ##\n",
    "What are the dimensions of each data matrix? "
   ]
  },
  {
   "cell_type": "code",
   "execution_count": null,
   "metadata": {},
   "outputs": [],
   "source": [
    "# your code here"
   ]
  },
  {
   "cell_type": "markdown",
   "metadata": {},
   "source": [
    "#### Exercise 4 ##\n",
    "How many genes does each data matrix contain?"
   ]
  },
  {
   "cell_type": "code",
   "execution_count": null,
   "metadata": {},
   "outputs": [],
   "source": [
    "# your code here"
   ]
  },
  {
   "cell_type": "markdown",
   "metadata": {},
   "source": [
    "#### Exercise 5 ##\n",
    "Do the two data matrices have the same column and row names, in the same order?"
   ]
  },
  {
   "cell_type": "code",
   "execution_count": null,
   "metadata": {},
   "outputs": [],
   "source": [
    "# your code here"
   ]
  },
  {
   "cell_type": "markdown",
   "metadata": {},
   "source": [
    "### 6. Validate with at least one external data source\n",
    "\n",
    "Example - we could examine the literature to double check that the reported ranges of mRNA and protein levels measured by these technologies align with our expectation. In addition, we could check that certain tissues expected to have high levels of a particular mRNA or protein indeed have higher levels than other tissues in the data."
   ]
  },
  {
   "cell_type": "markdown",
   "metadata": {},
   "source": [
    "### 7. Make a plot!\n",
    "\n",
    "After exploring the data a little bit, many questions start popping up! The client is your ally to conduct insightful analysis. So, discuss questions that you have with the client. For example: \n",
    "\n",
    "Do you want to look at correlations *per genes* (n <= 12) or *across genes* (n <= 6104)?? Does even make sense doing otherwise? \n",
    "\n",
    "Let's do some exploration on how things look within a single gene. We'll look at the gene named ENSG00000000419 and make a scatterplot of RNA vs. protein. \n",
    "\n",
    "\n",
    "#### But wait...\n",
    "Currently, our values are in two separate data.frames! Of course, one could work with the data sets separately. But the chances of making a mistake are enormous. It will be much better if we had, in the same data the protein and mRNA measurements for each organ and each gene.\n",
    "\n",
    "What's more, we have observations that are spread over the columns, and variables that are spread over the rows. Ideally, we want our data to be tidy! In simple terms, this means: <u><em>\"each row is an observation and each column is a variable\"</em></u>. \n",
    "\n",
    "Let's think about our case here. We want to check the level of protein (or mrna) for each pair (gene, tissue). So, we actually are not talking about one row per gene, but instead, one row per pair (gene, tissue). This means that our columns are different observations, and should be in rows. \n",
    "\n",
    "Not to worry! The `pivot_longer` function helps us do that.\n",
    "\n",
    "Resource on `pivot_longer` function: https://datasciencebook.ca/wrangling.html#tidying-up-going-from-wide-to-long-using-pivot_longer"
   ]
  },
  {
   "cell_type": "code",
   "execution_count": null,
   "metadata": {},
   "outputs": [],
   "source": [
    "tidy_prot <-\n",
    "    prot %>% \n",
    "    pivot_longer(\n",
    "        !gene, #the columns you want to gather to put in rows (!gene means all except gene).\n",
    "        names_to = \"tissue\", # the name of column that will hold the columns (organs)\n",
    "        values_to = \"protein\" # the name ofthe column that will have the values\n",
    "    )\n",
    "\n",
    "tidy_prot %>% head()"
   ]
  },
  {
   "cell_type": "markdown",
   "metadata": {},
   "source": [
    "#### Exercise 6 \n",
    "\n",
    "Now pivot the mrna data.frame so it also has one row per gene and tissue combination."
   ]
  },
  {
   "cell_type": "code",
   "execution_count": null,
   "metadata": {},
   "outputs": [],
   "source": [
    "## Put your code here!"
   ]
  },
  {
   "cell_type": "markdown",
   "metadata": {},
   "source": [
    "Now, we're finally ready to **join** the RNA and protein tidy tibbles!\n",
    "\n",
    "![](img/inner_join_R4DS.png)\n",
    "\n",
    "_credits: image drawn from \"R for Data Science - Wickham H., Grolemund G. - available at: https://r4ds.had.co.nz/index.html\"_"
   ]
  },
  {
   "cell_type": "code",
   "execution_count": null,
   "metadata": {},
   "outputs": [],
   "source": [
    "tidy_data <- tidy_mrna %>% \n",
    "    inner_join(tidy_prot)\n",
    "\n",
    "tidy_data %>% head()"
   ]
  },
  {
   "cell_type": "markdown",
   "metadata": {},
   "source": [
    "Let's look at the number of observations per tissue."
   ]
  },
  {
   "cell_type": "code",
   "execution_count": null,
   "metadata": {},
   "outputs": [],
   "source": [
    "tidy_data %>% group_by(tissue) %>% \n",
    "    summarize(n = n())"
   ]
  },
  {
   "cell_type": "markdown",
   "metadata": {},
   "source": [
    "#### Exercise 7\n",
    "Find the number of observations per gene. How many observations should you expect to see per gene?"
   ]
  },
  {
   "cell_type": "code",
   "execution_count": null,
   "metadata": {},
   "outputs": [],
   "source": [
    "## Put your code here"
   ]
  },
  {
   "cell_type": "markdown",
   "metadata": {},
   "source": [
    "Finally, let's pull out the gene named ENSG00000000419 and make a scatterplot of protein vs. mrna!!"
   ]
  },
  {
   "cell_type": "code",
   "execution_count": null,
   "metadata": {},
   "outputs": [],
   "source": [
    "tidy_data  %>% \n",
    "    filter(gene == \"ENSG00000000419\")  %>% \n",
    "    ggplot(aes(x = mrna, y = protein)) + \n",
    "    geom_point() + \n",
    "    ggtitle(\"ENSG00000000419\")"
   ]
  },
  {
   "cell_type": "markdown",
   "metadata": {},
   "source": [
    "Note that each point corresponds to a tissue. Let's add the tissue as a colour."
   ]
  },
  {
   "cell_type": "code",
   "execution_count": null,
   "metadata": {},
   "outputs": [],
   "source": [
    "tidy_data %>% filter(gene == \"ENSG00000000419\") %>%\n",
    "    ggplot(aes(x = mrna, y = protein, color = tissue)) + \n",
    "    geom_point() + ggtitle(\"ENSG00000000419\") "
   ]
  },
  {
   "cell_type": "markdown",
   "metadata": {},
   "source": [
    "#### Exercise 8\n",
    "\n",
    "Find the correlation between protein and mrna values for this gene."
   ]
  },
  {
   "cell_type": "code",
   "execution_count": null,
   "metadata": {},
   "outputs": [],
   "source": [
    "## find the correlation"
   ]
  },
  {
   "cell_type": "markdown",
   "metadata": {},
   "source": [
    "Interesting. Note that we've only looked at one gene so far. And we haven't explored the implications of the missing data. We'll come back to this in future lectures."
   ]
  },
  {
   "cell_type": "markdown",
   "metadata": {
    "jp-MarkdownHeadingCollapsed": true,
    "tags": []
   },
   "source": [
    "### References\n",
    "- Original article: [Wilhelm et al. *Mass-spectrometry-based draft of the human proteome.* Nature 2014.](https://www.nature.com/articles/nature13319)\n",
    "\n",
    "- Article finding flaws with the above: [Fortelny et al. *Can we predict protein from mRNA levels?*  Nature 2017.](https://www.nature.com/articles/nature23293)\n",
    "\n",
    "- Some more background on different ways of looking at correlations in protein levels with mRNA abundance: [Liu et al. *On the dependency of cellular protein levels on mRNA abundance.*\n",
    "Cell 2016](https://doi.org/10.1016/j.cell.2016.03.014)\n"
   ]
  }
 ],
 "metadata": {
  "celltoolbar": "Slideshow",
  "interpreter": {
   "hash": "916dbcbb3f70747c44a77c7bcd40155683ae19c65e1c03b4aa3499c5328201f1"
  },
  "kernelspec": {
   "display_name": "R",
   "language": "R",
   "name": "ir"
  },
  "language_info": {
   "codemirror_mode": "r",
   "file_extension": ".r",
   "mimetype": "text/x-r-source",
   "name": "R",
   "pygments_lexer": "r",
   "version": "4.4.2"
  }
 },
 "nbformat": 4,
 "nbformat_minor": 4
}
