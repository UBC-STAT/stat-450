{
 "cells": [
  {
   "cell_type": "markdown",
   "metadata": {
    "slideshow": {
     "slide_type": "slide"
    },
    "tags": []
   },
   "source": [
    "# STAT 450: Case Studies in Statistics"
   ]
  },
  {
   "cell_type": "markdown",
   "metadata": {
    "tags": []
   },
   "source": [
    "### This notebook gives an overview of Jupyter Notebooks\n",
    "- We will use these notebooks in many lectures \n",
    "- The notebooks we use in lecture don't require you to install anything on your laptop (work through the browser)"
   ]
  },
  {
   "cell_type": "markdown",
   "metadata": {
    "tags": []
   },
   "source": [
    "## Part I: Jupyter Notebooks\n",
    "\n",
    "Welcome to Jupyter Notebooks! \n",
    "\n",
    "If you had never seen a Jupyter Notebook before, surprise! \n",
    "\n",
    "Jupyter Notebook is an awesome tool for data exploration and analysis. \n",
    "The secret is that the Jupyter Notebooks allow you to have text, code, \n",
    "run the code, and see the output of the code, all in the same document. \n",
    "Imagine, in the same document, you can:\n",
    "\n",
    "1. Explain the problem and the data;\n",
    "3. Load the data;\n",
    "4. Make plots;\n",
    "5. Interpret the plots;\n",
    "6. Run your model; \n",
    "7. Interpret your model;\n",
    "8. Run other models; \n",
    "9. Compare the different models; \n",
    "\n",
    "Incredible, isn't it? \n",
    "\n",
    "That's not all; Jupyter Notebooks are not language-dependent either (although we will be working exclusively with R kernel in this course). \n",
    "So, it is well worth for you to spend some time getting familiar with it."
   ]
  },
  {
   "cell_type": "markdown",
   "metadata": {},
   "source": [
    "Jupyter notebooks are based on cells, where you can input text or code. This a cell."
   ]
  },
  {
   "cell_type": "markdown",
   "metadata": {},
   "source": [
    "This is another cell. "
   ]
  },
  {
   "cell_type": "markdown",
   "metadata": {},
   "source": [
    "This is a third cell. "
   ]
  },
  {
   "cell_type": "markdown",
   "metadata": {},
   "source": [
    "Some info about cells: \n",
    "\n",
    "- There's no limit on how much text you can put in a cell. Although you probably don't want a cell to get too long.\n",
    "- You can create, delete, and move cells around in a notebook. \n",
    "- There are mainly two types of cells: (1) markdown cells; and (2) code cells"
   ]
  },
  {
   "cell_type": "markdown",
   "metadata": {},
   "source": [
    "### 1.1 Creating Cells"
   ]
  },
  {
   "cell_type": "markdown",
   "metadata": {},
   "source": [
    "There are multiple ways to create cells: \n",
    "\n",
    "1. you can click on the `+` sign at the top of the notebook: \n",
    "\n",
    "![](img/jupyter-tutorial-01.png)"
   ]
  },
  {
   "cell_type": "markdown",
   "metadata": {},
   "source": [
    "2. you can press `a` to create a cell above and `b` to create a cell below. (Make sure you are out of the edit mode - you can use the `Escape` key to exit edit mode)"
   ]
  },
  {
   "cell_type": "markdown",
   "metadata": {},
   "source": [
    "### 1.2 Choosing the type of cells"
   ]
  },
  {
   "cell_type": "markdown",
   "metadata": {},
   "source": [
    "Note that when you create a new cell, the cell type is shown at the top bar.\n",
    "\n",
    "![](img/jupyter-tutorial-02.png)"
   ]
  },
  {
   "cell_type": "markdown",
   "metadata": {},
   "source": [
    "You can click there to change between **Markdown** and **code** cells.\n",
    "\n",
    "Alternatively, you can select the cell you want and \n",
    "\n",
    "- press `m` to make it a markdown cell\n",
    "- press `y` to make it a code cell."
   ]
  },
  {
   "cell_type": "markdown",
   "metadata": {
    "tags": []
   },
   "source": [
    "#### **Exercise 1.1**\n",
    "\n",
    "Create two cells below this one. One of the cells must be a Markdown cell, and the other must be a code cell. "
   ]
  },
  {
   "cell_type": "markdown",
   "metadata": {
    "tags": []
   },
   "source": [
    "### 1.3 Running cells"
   ]
  },
  {
   "cell_type": "markdown",
   "metadata": {},
   "source": [
    "To run a cell, you can click on the play button on the top of the notebook. \n",
    "\n",
    "<img src=\"img/jupyter-tutorial-03.png\" width=100%>\n",
    "\n",
    "Alternatively, \n",
    "\n",
    "- `Shift+Enter` will run the current cell and move the cursor to the next. If there's no next cell, a new one will be created.\n",
    "- `Ctrl+Enter` (or `Command+Enter` on a Mac) will run the current cell but not move the cursor. "
   ]
  },
  {
   "cell_type": "markdown",
   "metadata": {
    "tags": []
   },
   "source": [
    "### 1.4 Markdown cells\n",
    "\n",
    "Markdown cells are the text cells. All the cells before Exercise 1.1 are Markdown cells. \n",
    "They are called Markdown because they are formatted using Markdown. \n",
    "\n",
    "You can do a bunch of text formating with Markdown very quickly using only plain text input. The most common markdown operations:\n",
    "\n",
    "- **Italic:** put an _ (underline) at the start and end of the content to be italicized. \n",
    "    - \\_this is italic\\_ results in _this is italic_.\n",
    "- **Bold:** put two \\* at the start and end of the content\n",
    "    - \\*\\*this is bold\\*\\* results in **this is bold**\n",
    "- **Headers:** Put a \\# at the start of the line you want a header.\n",
    "    - \\# is level 1 header;\n",
    "    - \\#\\# is a level 2 header, and so on.\n",
    "\n",
    "\n",
    "- **Bullet points**: we can also see how a list is created from this cell. \n",
    "\n",
    "- **Inline code**: we can easily format words as part of code using \\` (backtick) at the start and end.\n",
    "    - \\`function(){\\` results in `function(){`\n",
    "\n",
    "- **Code block**: you can use three backticks \\`\\`\\` to create a code block. You even get to specify the language for syntax highlighting. \n",
    "\n",
    "\\`\\`\\`r\n",
    "\n",
    "foo <- function(){\n",
    "\n",
    "    print(\"Hello STAT 450\")\n",
    "    \n",
    "}\n",
    "foo()\n",
    "\n",
    "\\`\\`\\`\n",
    "\n",
    "results in\n",
    "\n",
    "```r\n",
    "foo <- function(){\n",
    "    print(\"Hello STAT 450\")\n",
    "}\n",
    "foo()\n",
    "```\n",
    "\n",
    "Note that the text formatted as code is not actually *evaluated* as code, since it is in a Markdown cell."
   ]
  },
  {
   "cell_type": "markdown",
   "metadata": {},
   "source": [
    "- **Tables**: we can also quickly create tables with Markdown.  \n",
    "\n",
    "Student |  Course  | Grade | \n",
    "-------|----------|-------|\n",
    "Keegan | STAT 450 |  C-   |\n",
    "Melissa | STAT 450 |  A+   |\n",
    "Rodolfo   | STAT 450 |  A+   |\n",
    "Gian Carlo | STAT 450 |  A+   |\n",
    "\n",
    "- **Images**: we can also quickly load images using Markdown. Try checking a cell with an image to figure out the syntax.\n",
    "\n",
    "- **More**: [here](https://www.markdownguide.org/cheat-sheet/) is a handy cheatsheet of these and some other Markdown operations"
   ]
  },
  {
   "cell_type": "markdown",
   "metadata": {},
   "source": [
    "#### **Exercise 1.2**\n",
    "\n",
    "Add the image from this link to this Markdown cell: `https://bookdown.org/rdpeng/artofdatascience/images/epicycle.png`\n"
   ]
  },
  {
   "cell_type": "markdown",
   "metadata": {
    "tags": []
   },
   "source": [
    "### 1.5 Code cells\n",
    "\n",
    "In our course, we will be using R code."
   ]
  },
  {
   "cell_type": "code",
   "execution_count": null,
   "metadata": {},
   "outputs": [],
   "source": [
    "course <- \"STAT 450\" \n",
    "course"
   ]
  },
  {
   "cell_type": "code",
   "execution_count": null,
   "metadata": {},
   "outputs": [],
   "source": [
    "(x <- 10 + 15)"
   ]
  },
  {
   "cell_type": "markdown",
   "metadata": {
    "tags": []
   },
   "source": [
    "#### **Exercise 1.3**\n",
    "\n",
    "Create a code cell below and calculate the result of `7162386` divided by 3."
   ]
  },
  {
   "cell_type": "markdown",
   "metadata": {
    "tags": []
   },
   "source": [
    "### 1.6 Restarting and running all cells"
   ]
  },
  {
   "cell_type": "markdown",
   "metadata": {},
   "source": [
    "Because Jupyter Notebooks allow you to run cells in any order, some bugs might be introduced when you are creating the notebook. \n",
    "\n",
    "You should frequently restart your notebook and re-run all the cells to make sure your notebook runs from start to finish. \n",
    "\n",
    "<img src=\"img/jupyter-tutorial-04.png\" width=100%>\n"
   ]
  },
  {
   "cell_type": "markdown",
   "metadata": {
    "tags": []
   },
   "source": [
    "### 1.7 Navigation Menu\n",
    "\n",
    "Here you can navigate to find the notebooks (or create new notebooks) in whatever subfolder you want. \n",
    "You can open multiple notebooks simultaneously. \n",
    "\n",
    "<img src=\"img/jupyter-tutorial-05.png\" width=60%>\n"
   ]
  },
  {
   "cell_type": "markdown",
   "metadata": {},
   "source": [
    "### In future lectures, we'll use notebooks like this to analyze an example case study"
   ]
  }
 ],
 "metadata": {
  "celltoolbar": "Slideshow",
  "interpreter": {
   "hash": "916dbcbb3f70747c44a77c7bcd40155683ae19c65e1c03b4aa3499c5328201f1"
  },
  "kernelspec": {
   "display_name": "R",
   "language": "R",
   "name": "ir"
  },
  "language_info": {
   "codemirror_mode": "r",
   "file_extension": ".r",
   "mimetype": "text/x-r-source",
   "name": "R",
   "pygments_lexer": "r",
   "version": "4.4.2"
  }
 },
 "nbformat": 4,
 "nbformat_minor": 4
}
