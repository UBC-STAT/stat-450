{
 "cells": [
  {
   "cell_type": "markdown",
   "id": "b7ff3b94-963c-4d0a-870f-ff1a7d8a2d5f",
   "metadata": {},
   "source": [
    "# STAT 450: Case Studies in Statistics\n",
    "\n",
    "#  Case study: Relation between mRNA and protein levels "
   ]
  },
  {
   "cell_type": "markdown",
   "id": "3a3c775c-a25a-466a-ba2c-efeb8f37a054",
   "metadata": {
    "tags": []
   },
   "source": [
    "### Recap: recall the client's claim\n",
    "\n",
    "Using the median ratio of protein to mRNA levels per gene as a proxy for translation rates, our data show that [...] ***it now becomes possible to predict protein abundance in any given tissue with good accuracy from the measured mRNA abundance***\n"
   ]
  },
  {
   "cell_type": "markdown",
   "id": "116160a3-3e67-41aa-8247-cb558249a600",
   "metadata": {},
   "source": [
    "In this notebook, we continue to consider ways to explore and model how protein levels can depend on mRNA levels.\n",
    "\n",
    "**Client's model:**\n",
    "For gene $g$, tissue $t$: \n",
    "$$\n",
    "{\\rm{protein}}_{gt}  \\approx  \\beta_g  ({\\rm{ mRNA }}_{gt}) $$\n",
    "\n",
    "$$\\hat{\\beta}_g  = {\\rm{  median ~of~ the ~12 ~ratios~of~}} \n",
    "\\frac{{\\rm{protein}}_{gt}}{ {\\rm{ mRNA }}_{gt}} $$\n",
    "\n",
    "<h4 style=\"color:red; font-weight:bold;\">Discussion:</h4>Notice that the client's model has no intercept term. Why might the client think that intercept=0 is reasonable?  Think of the biology. (Hint: How is protein made?) "
   ]
  },
  {
   "cell_type": "markdown",
   "id": "7c7b9ef0-a6f0-40ed-965f-0db5d0d8cb30",
   "metadata": {},
   "source": [
    "### Learning objectives for today\n",
    "\n",
    "* Understand how least squares linear regression models differ from our client's apprach\n",
    "\n",
    "* Evaluate some of our client's claims using an F test to compare nested models\n",
    "  - Working toward translating the client's scientific questions into statistical questions"
   ]
  },
  {
   "cell_type": "markdown",
   "id": "00b9ea0e-afb6-4b0e-bc25-8c9e3f57a5f5",
   "metadata": {},
   "source": [
    "-----------------------"
   ]
  },
  {
   "cell_type": "markdown",
   "id": "9a3582cb-381a-4974-bc0f-747900a0d5e1",
   "metadata": {},
   "source": [
    "### Load libraries and read in the tidy data file data/tidy_data  \n",
    "\n",
    "Note that we previously saved `data/tidy_data.csv`, so that we no longer need to re-wrangle the two original data files to get the tidy tibble `dat_tidy`."
   ]
  },
  {
   "cell_type": "code",
   "execution_count": null,
   "id": "0f3f540c-9bbb-4f6c-ad0c-a87a9fd441b2",
   "metadata": {},
   "outputs": [],
   "source": [
    "# load libraries\n",
    "library(tidyverse)\n",
    "library(broom)\n",
    "library(modelr)\n",
    "theme_set(theme_bw()) # (optional - removes grey background that is default for ggplot)\n",
    "\n",
    "# read in tidy dataset & peek \n",
    "gene_data <-  read_csv(\"data/tidy_data.csv\", show_col_types = FALSE)\n",
    "gene_data |> \n",
    "    slice_sample(n = 10)"
   ]
  },
  {
   "cell_type": "markdown",
   "id": "6b180e8a-4bf0-4aa5-845d-b8e2360602fb",
   "metadata": {
    "tags": []
   },
   "source": [
    " Choose 4 genes at random from those genes with **12 complete pairs (no missing data for any of the 12 tissues)** using `filter`. "
   ]
  },
  {
   "cell_type": "code",
   "execution_count": null,
   "id": "23d12e54-bf30-4a1c-bc8a-79c5fb5f5e2b",
   "metadata": {},
   "outputs": [],
   "source": [
    "set.seed(450) # keep this the same so we all select the same 4 genes\n",
    "\n",
    "sample_4_complete_genes <- \n",
    "    gene_data |>\n",
    "    group_by(gene) |>\n",
    "    mutate(values_available = 12 - sum(is.na(mrna) | is.na(protein))) |>\n",
    "    filter(values_available == 12) |>\n",
    "    ungroup() |> \n",
    "    filter(gene %in% sample(unique(gene), 4)) |>\n",
    "    select(-values_available)\n",
    "   \n",
    "sample_4_complete_genes |>\n",
    "    slice_sample(n = 50) |>\n",
    "    arrange(gene, tissue)"
   ]
  },
  {
   "cell_type": "markdown",
   "id": "f2989735-3c73-42f5-b842-c5ce0bb2e8df",
   "metadata": {},
   "source": [
    "Make 4 scatterplots, one for each gene."
   ]
  },
  {
   "cell_type": "code",
   "execution_count": null,
   "id": "03ee823e-ecf8-4f13-ac0a-a1171f425f1d",
   "metadata": {},
   "outputs": [],
   "source": [
    "sample_4_complete_genes |>\n",
    "    ggplot(aes(x = mrna, y = protein)) +\n",
    "    geom_point() +\n",
    "    facet_wrap( ~ gene) +\n",
    "    xlab(\"mRNA\") + \n",
    "    ylab(\"Protein\")  +\n",
    "    ggtitle(\"Scatterplot of Protein versus mRNA levels of 4 randomly chosen genes\") +\n",
    "    xlim(0, NA) +\n",
    "    ylim(0, NA)"
   ]
  },
  {
   "cell_type": "markdown",
   "id": "46bb72ee-5265-41d1-9e91-f95a9d63c6a5",
   "metadata": {},
   "source": [
    "**Notes:** \n",
    "* The range of protein and mRNA for these four genes varies - it may be helpful to view them each on separate scales if we are not interested in comparing values across genes (hint: add `scales = \"free\"` to the `facet_wrap()` command)\n",
    "* As we previously discussed, it may be helpful to view the relationship on the log-scale if the values are particularly right-skewed (common in biology)"
   ]
  },
  {
   "cell_type": "markdown",
   "id": "0d205a43-2cb3-4860-9ce5-181f3830ed0e",
   "metadata": {},
   "source": [
    "<h4 style=\"color:red; font-weight:bold;\">Exercise:</h4> \n",
    "Remake the previous set of scatterplots, allowing each have a separate x and y limit:"
   ]
  },
  {
   "cell_type": "code",
   "execution_count": null,
   "id": "517141ca-4988-4d0e-887d-555de7756fe4",
   "metadata": {},
   "outputs": [],
   "source": [
    "### Your code here"
   ]
  },
  {
   "cell_type": "markdown",
   "id": "64316c71-1717-4743-93cf-3c1e1f008dc3",
   "metadata": {},
   "source": [
    "-----------------------"
   ]
  },
  {
   "cell_type": "markdown",
   "id": "3bd7f4a3-8f69-4d77-b832-b84668fe7043",
   "metadata": {},
   "source": [
    "## Fit Ordinary Least Squares (OLS) regression models"
   ]
  },
  {
   "cell_type": "markdown",
   "id": "662f9bb0-14b6-490d-a5a0-9e74150fe948",
   "metadata": {},
   "source": [
    "Let's set aside the client's median by ratio model for the moment and approach the problem with OLS linear models. Why?\n",
    "* Recall OLS regression is a flexible framework that allows us to perform hypothesis tests regarding effects of interest\n",
    "* The client's median by ratio model does not come with such utility (e.g. how would we formally test whether or not the data provides evidence that the intercept is zero?)\n",
    "\n",
    "We'll start off by proposing four different models for consideration. For each gene $g=1,2,...$, for each tissue $t=1,\\ldots, 12$:\n",
    "\n",
    "$\n",
    "{\\rm{A.}}\\quad \n",
    "{\\rm{protein}}_{gt} =  \\beta_g ({\\rm{ mRNA }}_{gt}) + \\epsilon_{gt}, \n",
    "\\quad \\epsilon_{gt} \\sim N(0,\\sigma_{g}^2)\n",
    "$\n",
    "\n",
    "\n",
    "$\n",
    "{\\rm{B.}}\\quad \n",
    "{\\rm{protein}}_{gt} =  \\beta_g ({\\rm{ mRNA }}_{gt}) + \\epsilon_{gt}, \n",
    "\\quad \\epsilon_{gt} \\sim N(0,\\sigma^2)\n",
    "$\n",
    "\n",
    "$\n",
    "{\\rm{C.}}\\quad \n",
    "{\\rm{protein}}_{gt} = \\alpha_g + \\beta_g ({\\rm{ mRNA }}_{gt}) + \\epsilon_{gt}, \n",
    "\\quad \\epsilon_{gt} \\sim N(0,\\sigma_g^2)\n",
    "$\n",
    "\n",
    "$\n",
    "{\\rm{D.}}\\quad \n",
    "{\\rm{protein}}_{gt} = \\alpha_g + \\beta_g ({\\rm{ mRNA }}_{gt}) + \\epsilon_{gt},\n",
    "\\quad \\epsilon_{gt} \\sim N(0,\\sigma^2)\n",
    "$"
   ]
  },
  {
   "cell_type": "markdown",
   "id": "a3aa70ca-c52d-4a6e-b6a6-e13d342273bc",
   "metadata": {},
   "source": [
    "<h4 style=\"color:red; font-weight:bold;\">Discussion:</h4> \n",
    "\n",
    "1. What is the difference between models A and B?  \n",
    "\n",
    "2. What is the difference between models C and D?\n",
    "\n",
    "3. What is the difference between models B and D?\n",
    "\n",
    "4. From the scatterplots above and your knowledge of biology, what do you think of models A and B compared to models C and D?\n"
   ]
  },
  {
   "cell_type": "markdown",
   "id": "d82fdba9-94bd-4b22-957f-b15d34a6f94f",
   "metadata": {},
   "source": [
    "**Overview of the four models**:\n",
    "\n",
    "Same variances (Models B and D):  \n",
    "- fit one big model $Y=X \\beta + \\epsilon$ using one `lm`\n",
    "- one common estimate of variance\n",
    "\n",
    "Different variances (Models A and C): \n",
    "- fit separate models for each gene: \n",
    "  -  low tech: split data set in four and analyze each gene separately\n",
    "  -  fancy:  (better if more than 2 genes) use gene-by-gene `lm` by using `nest` and `map`\n",
    "- four estimates of variance (one for each gene)\n",
    "\n",
    "Comment:  for the models considered here it ends up that \n",
    "- models A and B have the same slope estimates\n",
    "- models C and D have the same slopes and intercept estimates"
   ]
  },
  {
   "cell_type": "markdown",
   "id": "44ca57f8-b008-4d1d-859d-971942f4818f",
   "metadata": {},
   "source": [
    "## Consider Models B and D first"
   ]
  },
  {
   "cell_type": "markdown",
   "id": "c5d0f52b-6630-4f94-93aa-debfee5b67f5",
   "metadata": {
    "tags": []
   },
   "source": [
    "### Fit Model B - intercept=0, same error variance for all genes\n",
    "$$\n",
    "{\\rm{protein}}_{gt} = \\beta_g  ({\\rm{ mRNA }}_{gt}) + \\epsilon_{gt}, \\quad \\epsilon_{gt} \\sim N(0,\\sigma^2)\n",
    "$$\n",
    "\n",
    "This can be expressed using the usual $Y=X \\beta + \\epsilon$ model:  so fit all four genes together with one `lm`, and allow each gene to have it's own slope (interaction terms). However, we need to tell `lm` that we want to force the intercept parameter to be equal to zero (we use `0 +` in the formula call, and use the `:` operator since we don't want to allow additive terms in the model which would give gene-specific intercepts)."
   ]
  },
  {
   "cell_type": "code",
   "execution_count": null,
   "id": "bacf71df-feda-44fd-85fe-e453e1e8f7d0",
   "metadata": {},
   "outputs": [],
   "source": [
    "lm_B <- lm(..., data = sample_4_complete_genes)"
   ]
  },
  {
   "cell_type": "code",
   "execution_count": null,
   "id": "3a93ec82-e612-4247-81f9-d9e56a31b366",
   "metadata": {},
   "outputs": [],
   "source": [
    "tidy(lm_B)"
   ]
  },
  {
   "cell_type": "code",
   "execution_count": null,
   "id": "bc0e3a3f-583d-47bf-a887-4396d592650e",
   "metadata": {
    "scrolled": true,
    "tags": []
   },
   "outputs": [],
   "source": [
    "model.matrix(lm_B)"
   ]
  },
  {
   "cell_type": "code",
   "execution_count": null,
   "id": "d0622ab6-ad9e-477d-bbcb-726cbb6ecb3f",
   "metadata": {},
   "outputs": [],
   "source": [
    "summary(lm_B)"
   ]
  },
  {
   "cell_type": "markdown",
   "id": "674461de-35c3-43e5-a29d-4c36b3cc0cc9",
   "metadata": {
    "tags": []
   },
   "source": [
    "### Plot Model B"
   ]
  },
  {
   "cell_type": "markdown",
   "id": "275bac57-efbd-40eb-b8de-b9cb6d4a7971",
   "metadata": {},
   "source": [
    "Here we'll use the fitted values from `lm_B` to make a line with `geom_line`. \n",
    "Note that `ggplot2::geom_smooth()` has some built-in capabilities to add in a regression line, but it doesn't have the flexibility to fit a common variance for all models but plot each gene separately with `facet_wrap()`. "
   ]
  },
  {
   "cell_type": "markdown",
   "id": "96252235-a79a-41d0-84ee-19bd1479c829",
   "metadata": {},
   "source": [
    "Let's start by adding the predictions to the data frame `sample_4_complete_genes`. "
   ]
  },
  {
   "cell_type": "code",
   "execution_count": null,
   "id": "f9b80033-27d9-48b5-bd17-4f9f09c23f49",
   "metadata": {},
   "outputs": [],
   "source": [
    "sample_4_complete_genes <-  \n",
    "    sample_4_complete_genes |>\n",
    "    add_predictions(lm_B, var = 'pred_B')\n",
    "\n",
    "sample_4_complete_genes |>\n",
    "    slice_sample(n = 10)"
   ]
  },
  {
   "cell_type": "code",
   "execution_count": null,
   "id": "19cee8e3-ec65-47cd-ba04-76ee0e1e6a7d",
   "metadata": {},
   "outputs": [],
   "source": [
    "sample_4_complete_genes |>\n",
    "    ggplot() +\n",
    "    geom_point(aes(x = mrna, y = protein)) +\n",
    "    geom_line(aes(x = mrna, y = pred_B), color = 'red') +    \n",
    "    facet_wrap( ~ gene, scale = \"free\") +\n",
    "    xlab(\"mRNA\") +\n",
    "    ylab(\"Protein\") +\n",
    "    xlim(0, NA) +\n",
    "    ylim(0, NA)"
   ]
  },
  {
   "cell_type": "markdown",
   "id": "29b64894-ff03-4cde-bd51-5a7584aa4e4b",
   "metadata": {
    "tags": []
   },
   "source": [
    "### Fit Model D - gene-specific intercepts, same error variance for all genes\n",
    "$$\n",
    "{\\rm{protein}}_{gt} =\\alpha_g+ \\beta_g  ({\\rm{ mRNA }}_{gt}) + \\epsilon_{gt},\n",
    "\\quad \\epsilon_{gt} \\sim N(0,\\sigma^2)\n",
    "$$\n",
    "\n",
    "This can be expressed using the usual $Y=X \\beta + \\epsilon$ model:  so fit all four genes together with one `lm`, and allow each gene to have it's own slope (additive terms). We also allow each gene to have its own slope (interactive model). To get all additive and interaction terms, we use the `*` operator in the formula call. "
   ]
  },
  {
   "cell_type": "code",
   "execution_count": null,
   "id": "7487a17b-828f-45da-b5cb-5b910a00c5a4",
   "metadata": {},
   "outputs": [],
   "source": [
    "lm_D <- lm(..., data = sample_4_complete_genes)\n",
    "tidy(lm_D)"
   ]
  },
  {
   "cell_type": "code",
   "execution_count": null,
   "id": "51824ed4-c8ae-46b4-9143-379c6c28c520",
   "metadata": {},
   "outputs": [],
   "source": [
    "# A different way to write the same model\n",
    "lm_D <- lm(..., data = sample_4_complete_genes)\n",
    "tidy(lm_D)"
   ]
  },
  {
   "cell_type": "code",
   "execution_count": null,
   "id": "72421525-f5e3-4b1f-b843-0c05ad820899",
   "metadata": {
    "scrolled": true,
    "tags": []
   },
   "outputs": [],
   "source": [
    "model.matrix(lm_D)"
   ]
  },
  {
   "cell_type": "code",
   "execution_count": null,
   "id": "1f008a4d-d108-459e-ab42-5e87b53d2d06",
   "metadata": {},
   "outputs": [],
   "source": [
    "summary(lm_D)"
   ]
  },
  {
   "cell_type": "markdown",
   "id": "8ed5cde0-139f-4259-b91b-9deaa6c49a22",
   "metadata": {
    "tags": []
   },
   "source": [
    "<h4 style=\"color:red; font-weight:bold;\">Discussion:</h4> \n",
    "\n",
    "$\\hat{Y}= X \\hat{\\beta}$:  How do the estimated coefficients relate to the slopes and intercepts of the two lines?\n",
    "Hint:  look at the model matrix."
   ]
  },
  {
   "cell_type": "markdown",
   "id": "112ec898-9945-4479-98fd-85a36ce91bd0",
   "metadata": {
    "tags": []
   },
   "source": [
    "### Plot Model D\n",
    "\n",
    "Let's make the four scatterplots again and put the estimated lines for Models B and D. We'll use the fitted values to draw the estimated lines. We'll break this task down step by step in the following exercise.\n",
    "\n",
    "---\n",
    "\n",
    "<h4 style=\"color:red; font-weight:bold;\">Exercise:</h4> \n",
    "\n",
    "(a) First, add a column named `pred_D` with fitted values from `lm_D` into `sample_4_complete_genes`:"
   ]
  },
  {
   "cell_type": "code",
   "execution_count": null,
   "id": "d1f6da98-9982-45e8-b555-7988e1efa7a0",
   "metadata": {
    "tags": []
   },
   "outputs": [],
   "source": [
    "###  Fill in ... :\n",
    "sample_4_complete_genes <- \n",
    "    sample_4_complete_genes |>\n",
    "    add_...(..., ... = 'pred_D')\n",
    "\n",
    "sample_4_complete_genes |> \n",
    "    slice_sample(n = 10)"
   ]
  },
  {
   "cell_type": "markdown",
   "id": "7ee309cf-f181-45a1-9537-b2786f3aef5d",
   "metadata": {
    "tags": []
   },
   "source": [
    "(b) Now make the scatter plot and add the lines. "
   ]
  },
  {
   "cell_type": "code",
   "execution_count": null,
   "id": "3c3a047a-a810-4f7a-8f6b-32a042236ffc",
   "metadata": {},
   "outputs": [],
   "source": [
    "###  Fill in ... :\n",
    "sample_4_complete_genes |>  \n",
    "    ggplot() +\n",
    "    geom_...(aes(...)) +\n",
    "    geom_...(aes(..., y = pred_D), color = 'blue') +\n",
    "    geom_...(aes(..., y = pred_B), color = 'red') +\n",
    "    facet_wrap( ~ gene, scale = \"free\") +\n",
    "    xlab(\"mRNA\") +\n",
    "    ylab(\"Protein\") +\n",
    "    xlim(0,NA) +\n",
    "    ylim(0,NA)"
   ]
  },
  {
   "cell_type": "markdown",
   "id": "70a0f4dc-ccb6-4735-866f-6a6ddea0d911",
   "metadata": {},
   "source": [
    "---"
   ]
  },
  {
   "cell_type": "markdown",
   "id": "67859167-9b53-4712-8ed0-1a4fcd9c2e67",
   "metadata": {},
   "source": [
    "## Nested Models B and D: F tests"
   ]
  },
  {
   "cell_type": "markdown",
   "id": "09b639e5-2839-4401-acfc-f3739491490c",
   "metadata": {},
   "source": [
    "Let's explore whether the data gives us evidence that the intercepts for each gene are different than zero. This is an important consideration for interpreting the models the client has already proposed and whether they seem plausible.\n",
    "\n",
    "For simplicity of notation, let's consider the two models, B and D, for the simpler case of only two genes (instead of 4).\n",
    "\n",
    "Re-write each model in standard notation to drop gene subscript and show all parameters estimated by `lm`:\n",
    "\n",
    "Let \n",
    "- $y_i$ be the protein value for observation $i$ ($i = 1, ... , 24$)\n",
    "- Indicator variable for gene: \n",
    "    - $x_{i1} = 1$ if observation $i$ is from gene 2, else 0\n",
    "- $x_{i2}$ be the mRNA expression value for observation $i$\n",
    "- when $i=1,...,12$, $g=1$ and when $i=13,...,24$, $g=2$: \n",
    "    - $\\alpha_g = \\alpha_0 + \\alpha_1 x_{i1}$\n",
    "    - $\\beta_g = \\alpha_2 + \\alpha_3 x_{i1}$\n",
    "\n",
    "Then, plugging these into the B and D models:\n",
    "\n",
    "D. $\n",
    "{\\rm{protein}}_{gt} =~ \\alpha_g ~+ ~\\beta_g ({\\rm{ mRNA }}_{gt}) + ~\\epsilon_{gt}\n",
    "$ becomes:\n",
    "\n",
    "$$y_i  =  \\alpha_0 ~+~  \\alpha_1 x_{i1}  ~+~ \\alpha_2 x_{i2} ~+~  \\alpha_3 x_{i2} x_{i1}   ~+~ \\epsilon_i$$\n",
    " \n",
    "and\n",
    "\n",
    "B. $\n",
    "{\\rm{protein}}_{gt} =  ~ \\beta_g ({\\rm{ mRNA }}_{gt})~ + ~\\epsilon_{gt}\n",
    "$ becomes:\n",
    "\n",
    "$$ Y_i  = \\alpha_2 x_{i2} ~+~ \\alpha_3x_{i2} x_{i1}  ~+~ \\epsilon_i$$\n",
    "\n",
    "\n",
    "**Important! These models are \"nested\"**:  Model B is a special case of Model D.  Specifically, Model B is Model D with $\\alpha_1=0, \\alpha_2=0$.\n",
    "\n",
    "We would like to carry out the following hypothesist test:  \n",
    "\n",
    "H$_0$:  $\\alpha_1=0, \\alpha_2=0$   versus H$_a$: at least one of  $\\alpha_1$ or $ \\alpha_2$ is non-zero.\n",
    "\n",
    "Rejecting the null gives us evidence that the model allowing nonzero gene-specific intercepts explains significantly more variation in the data. \n",
    "\n",
    "This generalizes up to an arbitrary number of genes - we can test whether the full model that allows nonzero gene-specific intercepts explains significantly more variation in the data compared to the reduced model that fixes them to be zero. So we'll go ahead and test this hypothesis on our 4 gene dataset (so we are actually testing whether four parameters are equal to zero):"
   ]
  },
  {
   "cell_type": "code",
   "execution_count": null,
   "id": "51ee00ae-38c3-44b1-9233-e84dc56a8ddf",
   "metadata": {},
   "outputs": [],
   "source": [
    "# F-test \n",
    "anova(lm_B, lm_D)"
   ]
  },
  {
   "cell_type": "markdown",
   "id": "5e80615a-759b-4064-add0-03e2efd7f62b",
   "metadata": {},
   "source": [
    "**Conclusion?**"
   ]
  },
  {
   "cell_type": "markdown",
   "id": "463008b3-8970-4d31-ad94-a8d5c5d5167f",
   "metadata": {},
   "source": [
    "## Now consider Models A and C"
   ]
  },
  {
   "cell_type": "markdown",
   "id": "290d38b0-ea63-4f10-a07a-371703ef7f07",
   "metadata": {
    "tags": []
   },
   "source": [
    "### Model A: intercept=0, gene-specific error variances\n",
    "$$\n",
    "{\\rm{protein}}_{gt} = \\beta_g  ({\\rm{ mRNA }}_{gt}) + \\epsilon_{gt},  \\quad \\epsilon_{gt} \\sim N(0,\\sigma_g^2)\n",
    "$$"
   ]
  },
  {
   "cell_type": "markdown",
   "id": "042f1ff3-3ffb-47b4-98b1-fdac262c02b9",
   "metadata": {},
   "source": [
    "This requires fitting the data from the each gene separately.  This can be done via\n",
    "- tidyverse functions `group_by()` and `group_modify()`\n",
    "- tidyverse functions `nest()` and `map()`\n",
    "- subsetting data and calling `lm` once for each gene\n",
    "\n",
    "We'll go with the 1st approach, as it is the simplest. Note that the first two approaches will involve less repetition in the code, but require a bit of a learning curve to get familiar with the particular functions.\n",
    "\n",
    "`group_modify()` is like `summarize()`, but allows us to pass in a data frame / tibble and return a data / frame tibble as well. "
   ]
  },
  {
   "cell_type": "code",
   "execution_count": null,
   "id": "93f60abb-0f33-4de6-9404-b06283d0b5ab",
   "metadata": {},
   "outputs": [],
   "source": [
    "sample_4_complete_genes |>\n",
    "  group_by(gene) |>\n",
    "  group_modify(~ tidy(lm(..., data = .x))) "
   ]
  },
  {
   "cell_type": "code",
   "execution_count": null,
   "id": "93e92e65-78a9-4872-b89d-3a5e52b0ce50",
   "metadata": {},
   "outputs": [],
   "source": [
    "# Note that Model B and Model A provide exactly the same estimates -- but different variances and std. errors (hence, different p-values)\n",
    "summary(lm_B)"
   ]
  },
  {
   "cell_type": "markdown",
   "id": "88bca096-6d8a-4000-9f8c-017496112eaa",
   "metadata": {},
   "source": [
    "### Plot Model A\n",
    "Plot the resulting linear models.  Note that `facet_wrap` + `geom_smooth(method = \"lm\")` applies model fitting separately for each gene, which is what we did above (so we can take the shortcut here and avoid computing the fitted values ourselves)."
   ]
  },
  {
   "cell_type": "code",
   "execution_count": null,
   "id": "c424422b-809d-4a28-bbb8-d1dabb9f7d9a",
   "metadata": {},
   "outputs": [],
   "source": [
    "sample_4_complete_genes |> \n",
    "    ggplot(aes(x = mrna, y = protein)) + \n",
    "    geom_point() + \n",
    "    geom_smooth(method = \"lm\", formula = y ~ 0 + x, se = FALSE) +\n",
    "    #geom_line(aes(x = mrna, y = pred_B), color = 'red') + # Note that Model B and Model A provide exactly the same estimates -- but different variances and std. errors (hence, different p-values)\n",
    "    facet_wrap( ~ gene, scale = \"free\") + \n",
    "    xlim(0,NA) +\n",
    "    ylim(0,NA)"
   ]
  },
  {
   "cell_type": "markdown",
   "id": "a8d50448-44db-49d7-a23a-cb03a12ad589",
   "metadata": {
    "tags": []
   },
   "source": [
    "### Model C: gene-specific slopes, intercepts, and error variances\n",
    "\n",
    "$${\\rm{protein}}_{gt} = \\alpha_g + \\beta_g  ({\\rm{ mRNA }}_{gt}) + \\epsilon_{gt} \n",
    "\\quad \\epsilon_{gt} \\sim N(0,\\sigma_{gt}^2)$$\n",
    "\n",
    "Finally, we'll fit model C in much the same way we did Model A. This is a separate model for each gene, and we allow a non-zero intercept."
   ]
  },
  {
   "cell_type": "code",
   "execution_count": null,
   "id": "39c90c24-1658-4194-9dc4-c4d2309df2fc",
   "metadata": {},
   "outputs": [],
   "source": [
    "sample_4_complete_genes |>\n",
    "  group_by(gene) |>\n",
    "  group_modify(~ tidy(lm(..., data = .x))) "
   ]
  },
  {
   "cell_type": "code",
   "execution_count": null,
   "id": "015007e7-53f6-4810-a4f0-b3d753c71df2",
   "metadata": {},
   "outputs": [],
   "source": [
    "# Note that Model C and Model D provide exactly the same estimates -- but different variances and std. errors (hence, different p-values)\n",
    "summary(lm_D)"
   ]
  },
  {
   "cell_type": "markdown",
   "id": "07b06d66-46ef-4da5-a18b-0fdb4c841f4a",
   "metadata": {},
   "source": [
    "**Note** \n",
    "\n",
    "* the intercept for the second gene is significantly different from zero\n",
    "\n",
    "* the slope for the second gene is (possibly) negative! (but not significantly different from 0) \n",
    "\n",
    "Plot the results, scatterplots plus lines, with the trick of using fitted values and `geom_abline`."
   ]
  },
  {
   "cell_type": "code",
   "execution_count": null,
   "id": "6a08a703-ffb2-452f-9e26-d6d9a77d9149",
   "metadata": {},
   "outputs": [],
   "source": [
    "sample_4_complete_genes |>\n",
    "    ggplot(aes(x = mrna, y = protein)) + \n",
    "    geom_point() + \n",
    "    geom_smooth(method = \"lm\", formula = y ~ x, se = FALSE) + \n",
    "    #geom_line(aes(x = mrna, y = pred_D), color = 'red') + # Note that Model C and Model D provide exactly the same estimates -- but different variances and std. errors (hence, different p-values)\n",
    "    facet_wrap( ~ gene, scale = \"free\") + \n",
    "    xlim(0, NA) +\n",
    "    ylim(0, NA)"
   ]
  },
  {
   "cell_type": "markdown",
   "id": "be698ca3-89bb-4221-b38a-41577c506015",
   "metadata": {
    "tags": []
   },
   "source": [
    " <h4 style=\"color:red; font-weight:bold;\">Exercise:</h4>\n",
    "\n",
    "Consider a new model E:\n",
    "\n",
    "E.$\n",
    "{~\\rm{protein}}_{gt} =~ \\alpha_g ~+ ~\\beta  ({\\rm{ mRNA }}_{gt}) ~+ ~\\epsilon_{gt},\n",
    "\\quad \\epsilon_{gt} \\sim N(0,\\sigma^2)\n",
    "$\n",
    " \n",
    "This model has gene-specific intercepts but a single common slope for all genes.\n",
    " \n",
    "Fit the model with `lm` and check results with `tidy()`.  "
   ]
  },
  {
   "cell_type": "code",
   "execution_count": null,
   "id": "909e4f24-d45b-4268-bb08-b23399b0b27b",
   "metadata": {},
   "outputs": [],
   "source": [
    "## Fill in ... \n",
    "lm_E <- lm(protein ~ ... + ..., data = sample_4_complete_genes)\n",
    "model.matrix(...)"
   ]
  },
  {
   "cell_type": "markdown",
   "id": "21223abd-9d8f-4a69-964c-58ccef7e85de",
   "metadata": {
    "tags": []
   },
   "source": [
    "**Compare model E to model D:**   \n",
    "\n",
    "Consider the simpler 2-gene setting.\n",
    "\n",
    "Recall\n",
    "\n",
    "D. $\n",
    "{\\rm{protein}}_{gt} =~ \\alpha_g ~+ ~\\beta_g ({\\rm{ mRNA }}_{gt}) + ~\\epsilon_{gt}\n",
    "$ becomes:\n",
    "\n",
    "$$y_i  =  \\alpha_0 ~+~  \\alpha_1 x_{i1}  ~+~ \\alpha_2 x_{i2} ~+~  \\alpha_3 x_{i2} x_{i1}   ~+~ \\epsilon_i$$\n",
    " \n",
    " \n",
    "<h4 style=\"color:red; font-weight:bold;\">Exercise:</h4>\n",
    "Write down model E in this form by eliminating the terms that aren't needed in the model D equation.\n",
    "\n",
    "E.$\n",
    "{~\\rm{protein}}_{gt} =~ \\alpha_g ~+ ~\\beta  ({\\rm{ mRNA }}_{gt}) ~+ ~\\epsilon_{gt},\n",
    "\\quad \\epsilon_{gt} \\sim N(0,\\sigma^2)\n",
    "$ becomes: \n",
    "$$ ~y_i  =  ~ .......  ~ +~ \\epsilon_i $$"
   ]
  },
  {
   "cell_type": "markdown",
   "id": "53f78e22-9057-4418-b56f-77d4ee5c6594",
   "metadata": {},
   "source": [
    " <h4 style=\"color:red; font-weight:bold;\">Exercise:</h4>\n",
    " \n",
    " What are the null and alternative hypotheses for testing model E versus model D, in terms of model parameters?\n",
    " \n",
    " Test your null hypothesis using `anova`.  What do you conclude?\n",
    "\n",
    " "
   ]
  },
  {
   "cell_type": "code",
   "execution_count": null,
   "id": "c61dedba-bd1a-40db-979c-31b0e17e3bac",
   "metadata": {},
   "outputs": [],
   "source": [
    "### fill in the code here:\n",
    "anova(...,...)"
   ]
  }
 ],
 "metadata": {
  "kernelspec": {
   "display_name": "R",
   "language": "R",
   "name": "ir"
  },
  "language_info": {
   "codemirror_mode": "r",
   "file_extension": ".r",
   "mimetype": "text/x-r-source",
   "name": "R",
   "pygments_lexer": "r",
   "version": "4.4.2"
  }
 },
 "nbformat": 4,
 "nbformat_minor": 5
}
