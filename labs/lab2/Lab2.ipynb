{
 "cells": [
  {
   "cell_type": "markdown",
   "id": "b5b343db-c019-4d3b-864f-e609e44827c5",
   "metadata": {},
   "source": [
    "# Lab 2\n",
    "\n",
    "<div>\n",
    "<img src=\"https://allisonhorst.github.io/palmerpenguins/reference/figures/lter_penguins.png\" width=\"500\"/>\n",
    "</div>"
   ]
  },
  {
   "cell_type": "code",
   "execution_count": 8,
   "id": "fc5e56e9-0058-4f0b-9280-889d60fd7167",
   "metadata": {},
   "outputs": [
    {
     "data": {
      "text/html": [
       "<table class=\"dataframe\">\n",
       "<caption>A tibble: 6 × 8</caption>\n",
       "<thead>\n",
       "\t<tr><th scope=col>species</th><th scope=col>island</th><th scope=col>bill_length_mm</th><th scope=col>bill_depth_mm</th><th scope=col>flipper_length_mm</th><th scope=col>body_mass_g</th><th scope=col>sex</th><th scope=col>year</th></tr>\n",
       "\t<tr><th scope=col>&lt;fct&gt;</th><th scope=col>&lt;fct&gt;</th><th scope=col>&lt;dbl&gt;</th><th scope=col>&lt;dbl&gt;</th><th scope=col>&lt;int&gt;</th><th scope=col>&lt;int&gt;</th><th scope=col>&lt;fct&gt;</th><th scope=col>&lt;int&gt;</th></tr>\n",
       "</thead>\n",
       "<tbody>\n",
       "\t<tr><td>Adelie</td><td>Torgersen</td><td>39.1</td><td>18.7</td><td>181</td><td>3750</td><td>male  </td><td>2007</td></tr>\n",
       "\t<tr><td>Adelie</td><td>Torgersen</td><td>39.5</td><td>17.4</td><td>186</td><td>3800</td><td>female</td><td>2007</td></tr>\n",
       "\t<tr><td>Adelie</td><td>Torgersen</td><td>40.3</td><td>18.0</td><td>195</td><td>3250</td><td>female</td><td>2007</td></tr>\n",
       "\t<tr><td>Adelie</td><td>Torgersen</td><td>36.7</td><td>19.3</td><td>193</td><td>3450</td><td>female</td><td>2007</td></tr>\n",
       "\t<tr><td>Adelie</td><td>Torgersen</td><td>39.3</td><td>20.6</td><td>190</td><td>3650</td><td>male  </td><td>2007</td></tr>\n",
       "\t<tr><td>Adelie</td><td>Torgersen</td><td>38.9</td><td>17.8</td><td>181</td><td>3625</td><td>female</td><td>2007</td></tr>\n",
       "</tbody>\n",
       "</table>\n"
      ],
      "text/latex": [
       "A tibble: 6 × 8\n",
       "\\begin{tabular}{llllllll}\n",
       " species & island & bill\\_length\\_mm & bill\\_depth\\_mm & flipper\\_length\\_mm & body\\_mass\\_g & sex & year\\\\\n",
       " <fct> & <fct> & <dbl> & <dbl> & <int> & <int> & <fct> & <int>\\\\\n",
       "\\hline\n",
       "\t Adelie & Torgersen & 39.1 & 18.7 & 181 & 3750 & male   & 2007\\\\\n",
       "\t Adelie & Torgersen & 39.5 & 17.4 & 186 & 3800 & female & 2007\\\\\n",
       "\t Adelie & Torgersen & 40.3 & 18.0 & 195 & 3250 & female & 2007\\\\\n",
       "\t Adelie & Torgersen & 36.7 & 19.3 & 193 & 3450 & female & 2007\\\\\n",
       "\t Adelie & Torgersen & 39.3 & 20.6 & 190 & 3650 & male   & 2007\\\\\n",
       "\t Adelie & Torgersen & 38.9 & 17.8 & 181 & 3625 & female & 2007\\\\\n",
       "\\end{tabular}\n"
      ],
      "text/markdown": [
       "\n",
       "A tibble: 6 × 8\n",
       "\n",
       "| species &lt;fct&gt; | island &lt;fct&gt; | bill_length_mm &lt;dbl&gt; | bill_depth_mm &lt;dbl&gt; | flipper_length_mm &lt;int&gt; | body_mass_g &lt;int&gt; | sex &lt;fct&gt; | year &lt;int&gt; |\n",
       "|---|---|---|---|---|---|---|---|\n",
       "| Adelie | Torgersen | 39.1 | 18.7 | 181 | 3750 | male   | 2007 |\n",
       "| Adelie | Torgersen | 39.5 | 17.4 | 186 | 3800 | female | 2007 |\n",
       "| Adelie | Torgersen | 40.3 | 18.0 | 195 | 3250 | female | 2007 |\n",
       "| Adelie | Torgersen | 36.7 | 19.3 | 193 | 3450 | female | 2007 |\n",
       "| Adelie | Torgersen | 39.3 | 20.6 | 190 | 3650 | male   | 2007 |\n",
       "| Adelie | Torgersen | 38.9 | 17.8 | 181 | 3625 | female | 2007 |\n",
       "\n"
      ],
      "text/plain": [
       "  species island    bill_length_mm bill_depth_mm flipper_length_mm body_mass_g\n",
       "1 Adelie  Torgersen 39.1           18.7          181               3750       \n",
       "2 Adelie  Torgersen 39.5           17.4          186               3800       \n",
       "3 Adelie  Torgersen 40.3           18.0          195               3250       \n",
       "4 Adelie  Torgersen 36.7           19.3          193               3450       \n",
       "5 Adelie  Torgersen 39.3           20.6          190               3650       \n",
       "6 Adelie  Torgersen 38.9           17.8          181               3625       \n",
       "  sex    year\n",
       "1 male   2007\n",
       "2 female 2007\n",
       "3 female 2007\n",
       "4 female 2007\n",
       "5 male   2007\n",
       "6 female 2007"
      ]
     },
     "metadata": {},
     "output_type": "display_data"
    }
   ],
   "source": [
    "# Run this to load all necessary libraries\n",
    "library(tidyverse)\n",
    "# install.packages(\"palmerpenguins\") # Run this if you can't load the palmerpenguins library \n",
    "library(palmerpenguins)\n",
    "pgs <- penguins %>% drop_na\n",
    "head(pgs)"
   ]
  },
  {
   "cell_type": "markdown",
   "id": "01b20e10-a87d-402c-8155-18d3a2b0c022",
   "metadata": {},
   "source": [
    "## Question for you\n",
    "\n",
    "**Is there a relationship between bill length and bill depth?** (Either positive, negative, or none.)\n",
    "\n",
    "<div>\n",
    "<img src=\"https://allisonhorst.github.io/palmerpenguins/reference/figures/culmen_depth.png\" width=\"500\"/>\n",
    "</div>"
   ]
  },
  {
   "cell_type": "markdown",
   "id": "32e240ea-b981-46d7-a4b9-561141518df2",
   "metadata": {},
   "source": [
    "### Visualization\n",
    "\n",
    "First, visualize the relationship between bill length and bill depth using a scatter plot.\n",
    "Fill in the `...` bits below.\n",
    "*Hint:* `geom_point` is the geometry for scatter plots."
   ]
  },
  {
   "cell_type": "code",
   "execution_count": null,
   "id": "014d4b2d-f723-4674-b557-66acd5ff7e62",
   "metadata": {},
   "outputs": [],
   "source": [
    "pgs %>% \n",
    "  ggplot() +\n",
    "  ...(aes(x = ..., y = ...))"
   ]
  },
  {
   "cell_type": "markdown",
   "id": "3a02706b-5537-4bc6-93be-b38f81b58c42",
   "metadata": {},
   "source": [
    "Can you answer the client's question?\n",
    "\n",
    "*Hint:* Do you notice three clusters in the plot above? Why could that be? \n",
    "Think about the example we did together before.\n",
    "\n",
    "Before moving forward, \n",
    "take a second to think about which variable in the data could be affecting this analysis:\n",
    "- Island?\n",
    "- Bill length?\n",
    "- Bill depth?\n",
    "- or species...\n",
    "\n",
    "It's reasonable to assume that species can affect the size of the bills,\n",
    "especially in the light of the previous analysis we did.\n",
    "Let's try to confirm this hypothesis.\n",
    "\n",
    "### Wrangling\n",
    "\n",
    "Let's calculate the average bill length and depth by species.\n",
    "Fill in the `...` bits below."
   ]
  },
  {
   "cell_type": "code",
   "execution_count": null,
   "id": "8526c190-f19a-45e2-bad6-ab560e2df1dd",
   "metadata": {},
   "outputs": [],
   "source": [
    "pgs %>% \n",
    "  ...(species) %>% \n",
    "  ...(avg_bill_length = mean(...),\n",
    "      avg_bill_depth = ...(bill_depth_mm))"
   ]
  },
  {
   "cell_type": "markdown",
   "id": "465070e6-aaf6-4c50-a36b-3cf0f760b77c",
   "metadata": {},
   "source": [
    "Do you notice any big difference between species?\n",
    "\n",
    "### Visualization again\n",
    "\n",
    "Let's recreate our original plot but now using `color = species` as an aesthetic.\n",
    "Fill in the `...` bits below."
   ]
  },
  {
   "cell_type": "code",
   "execution_count": null,
   "id": "4fd303a1-dc57-40df-b284-6d7d8742617a",
   "metadata": {},
   "outputs": [],
   "source": [
    "pgs %>% \n",
    "  ggplot() +\n",
    "  ...(aes(x = ..., y = ..., color = ...))"
   ]
  },
  {
   "cell_type": "markdown",
   "id": "0c800310-e09a-4b1e-90ec-f42a2501b4a2",
   "metadata": {},
   "source": [
    "Success! Now tweak your plot \n",
    "Fill in the `...` bits below and play with point size and transparency. \n",
    "(There isn't a correct answer here!)"
   ]
  },
  {
   "cell_type": "code",
   "execution_count": null,
   "id": "284d1773-ac13-4b18-94a9-7ef04f14b768",
   "metadata": {},
   "outputs": [],
   "source": [
    "pgs %>% \n",
    "  ggplot() +\n",
    "  ...(aes(x = ..., y = ..., color = ...),\n",
    "      size = ..., alpha = ...) +\n",
    "  labs(x = \"...\",\n",
    "       y = \"...\",\n",
    "       color = \"...\")"
   ]
  },
  {
   "cell_type": "markdown",
   "id": "1d23e6df-adac-43ff-b349-e023f27b96b8",
   "metadata": {},
   "source": [
    "### Answer based on exploratory data analysis\n",
    "\n",
    "Now let's get our tentative answer to the client.\n",
    "Is there a relationship between bill length and bill depth?\n",
    "- There isn't any relationship at all.\n",
    "- There is a positive relationship, but within species\n",
    "- There is a negative relationship, but within species\n",
    "\n",
    "Go to Canvas and input your answer in the Lab 2 assignment page.\n",
    "\n",
    "### Statistical modelling\n",
    "\n",
    "Finally, how would you test whether the relationship we found is \n",
    "backed by evidence?\n",
    "\n",
    "You have to come up with a (preferably simple)\n",
    "model as a first attempt to achieve this.\n",
    "Desiderata:\n",
    "\n",
    "  - Include the variables we believe are important into a statistical model.\n",
    "  - Your model parameters should provide an answer to the client's question.\n",
    "  - Think about potential drawbacks \n",
    "  (e.g., assumptions you would have to make sure are satisfied).\n",
    "  \n",
    "Provide your answer on Canvas!\n",
    "\n",
    "### Before you go\n",
    "\n",
    "Create a GitHub account if you haven't already - it's free! (And you get GitHub pro for free with a UBC email). Instructions:\n",
    "\n",
    "- Go to [github.com](github.com)\n",
    "- Click Sign up\n",
    "- Enter your email, password, and create a username (called handle)\n",
    "\n",
    "After you create your account, **submit your Github handle on the Lab 2 Canvas assignment**. \n",
    "It's so we can assign you to your project repo.\n",
    "\n",
    "\n",
    "Now go enjoy your Friday!"
   ]
  }
 ],
 "metadata": {
  "kernelspec": {
   "display_name": "R",
   "language": "R",
   "name": "ir"
  },
  "language_info": {
   "codemirror_mode": "r",
   "file_extension": ".r",
   "mimetype": "text/x-r-source",
   "name": "R",
   "pygments_lexer": "r",
   "version": "4.3.3"
  }
 },
 "nbformat": 4,
 "nbformat_minor": 5
}
