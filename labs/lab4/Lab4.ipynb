{
 "cells": [
  {
   "cell_type": "markdown",
   "id": "f7627f5b-62ac-4be4-9bb5-e4c87f8b3771",
   "metadata": {},
   "source": [
    "# Lab 4 - Effective data visualization with R\n",
    "\n",
    "## Fast Food Chains in the USA\n",
    "\n",
    "With their cheap meals and convenient drive-thrus, fast food restaurants are a growing demand in many countries. Despite their questionable ingredients and nutritional value, most Americans count on fast food in their daily lives (they are often delicious and so hard to resist...). \n",
    "\n",
    "\n",
    "<img src=\"https://media.giphy.com/media/NS6SKs3Lt8cPHhe0es/giphy.gif\" width = \"400\"/>\n",
    "\n",
    "Source: https://media.giphy.com/media/NS6SKs3Lt8cPHhe0es/giphy.gif\n",
    "\n",
    "\n",
    "According to Wikipedia,\n",
    "\n",
    ">  Fast food was originally created as a commercial strategy to accommodate the larger numbers of busy commuters, travelers and wage workers who often didn't have the time to sit down at a public house or diner and wait the normal way for their food to be cooked. By making speed of service the priority, this ensured that customers with strictly limited time (a commuter stopping to procure dinner to bring home to their family, for example, or an hourly laborer on a short lunch break) were not inconvenienced by waiting for their food to be cooked on-the-spot (as is expected from a traditional \"sit down\" restaurant). For those with no time to spare, fast food became a multi-billion dollar industry.\n",
    "\n",
    "Currently, fast food is very popular and lots of businesses are investing in advertisement as well as new ideas to make their chain stand out in the sea of restaurants. In fact, a business wishing to buy a franchise location in an existing chain is hiring you as a consultant. They want to know the current market situation to set up a franchise in a state on the west coast of the United States (California, Oregon, or Washington) with few fast food restaurants. Particularly, they would like to set up a franchise that is consistently popular on the west coast, but in a state which has few fast food restaurants.\n",
    "\n",
    "In this assignment, you will pretend to assist in the opening of this new restaurant. Your goal is to figure out which chain to recommend and which state would be the least competitive (as measured by having fewer fast food restaurants). In order to do this, you will have to answer three questions:\n",
    "\n",
    "1) Which is the most prevalent franchise on the west coast of the US? \n",
    "\n",
    "2) Is the most prevalent franchise consistent across the west coast?\n",
    "\n",
    "3) Which state on the west coast has the smallest number of fast food restaurants?\n",
    "\n",
    "You will answer these questions on the Lab 4 assignment on Canvas.\n",
    "Then, you will use the answers to provide a final recommendation to the clients."
   ]
  },
  {
   "cell_type": "code",
   "execution_count": 27,
   "id": "cb20e9b9-8753-42bc-a70c-730672202da8",
   "metadata": {},
   "outputs": [
    {
     "name": "stderr",
     "output_type": "stream",
     "text": [
      "\u001b[1mRows: \u001b[22m\u001b[34m10000\u001b[39m \u001b[1mColumns: \u001b[22m\u001b[34m2\u001b[39m\n",
      "\u001b[36m──\u001b[39m \u001b[1mColumn specification\u001b[22m \u001b[36m──────────────────────────────────────────────────────────────────────────────────────────────────────────────────────────────────────\u001b[39m\n",
      "\u001b[1mDelimiter:\u001b[22m \",\"\n",
      "\u001b[31mchr\u001b[39m (2): name, state\n",
      "\n",
      "\u001b[36mℹ\u001b[39m Use `spec()` to retrieve the full column specification for this data.\n",
      "\u001b[36mℹ\u001b[39m Specify the column types or set `show_col_types = FALSE` to quiet this message.\n"
     ]
    }
   ],
   "source": [
    "# PREAMBLE - RUN THIS!\n",
    "# import libraries\n",
    "library(tidyverse)\n",
    "library(ggplot2)\n",
    "options(repr.plot.width = 10, repr.plot.height = 5, repr.plot.res = 300)\n",
    "\n",
    "# import datasets\n",
    "fast_food <- readr::read_csv(\"data/fast_food.csv\")"
   ]
  },
  {
   "cell_type": "markdown",
   "id": "88640024-7fb5-4b4c-80f0-273c9a981cb9",
   "metadata": {},
   "source": [
    "**Question 2.2**\n",
    "\n",
    "The dataset is stored in an `R` object called `fast_food`. Print the first ten rows of this dataset."
   ]
  },
  {
   "cell_type": "code",
   "execution_count": 21,
   "id": "29f5dc0e-776d-4872-9cac-857a8a84df17",
   "metadata": {},
   "outputs": [],
   "source": [
    "#### YOUR CODE HERE\n"
   ]
  },
  {
   "cell_type": "markdown",
   "id": "e2954fab-7506-4907-9668-02b0af390478",
   "metadata": {},
   "source": [
    "### Answering question 1: Which is the most popular franchise on the west coast of the US?\n",
    "\n",
    "\n",
    "**Question 2.3** \n",
    "\n",
    "Next, find the top 9 restaurants (in terms of number of locations) on the west coast (in the states \"CA\", \"WA\" or \"OR\") and name them `top_restaurants`\n",
    "\n",
    "Fill in the `...` in the cell below. \n",
    "\n",
    "*Assign your answer to an object called `top_restaurants`.*"
   ]
  },
  {
   "cell_type": "code",
   "execution_count": null,
   "id": "9759751b-7ab4-46bb-8a2b-91f39e0ff8f0",
   "metadata": {},
   "outputs": [],
   "source": [
    "#### YOUR CODE HERE\n",
    "top_restaurants <- fast_food %>%\n",
    "    filter(state %in% c(\"CA\", \"WA\", \"OR\")) %>% \n",
    "    group_by(...) %>%\n",
    "    summarise(n = n()) %>%\n",
    "    top_n(...) %>% \n",
    "    arrange(...)\n",
    "top_restaurants"
   ]
  },
  {
   "cell_type": "markdown",
   "id": "97f6c07d-9d17-4800-8d54-b159cc9e9af6",
   "metadata": {},
   "source": [
    "**Question 2.4**\n",
    "\n",
    "Now we can answer the first question we are interested in just by looking at the table! \n",
    "\n",
    "**Submit your answer on the Lab 4 assignment on Canvas**\n",
    "\n",
    "\n",
    "**Question 2.5** \n",
    "\n",
    "Even though we can use the table to answer the question, remember you are going to present your results to the businesspeople who hired you. A table is not always the clearest way of showing information (although sometimes it might be, as we will see later in the activity). In our case a bar plot could be more helpful, so let's create one!\n",
    "\n",
    "Plot the counts for the top 9 fast food restaurants on the west coast as a bar chart using `geom_bar`. The number of restaurants should be on the y-axis and the restaurant names should be on the x-axis. Because we are not counting up the number of rows in our data frame, but instead are plotting the actual values in the `n` column, we need to use the `stat = \"identity\"` argument inside `geom_bar`.\n",
    "\n",
    "To do this fill in the `...` in the cell below. Make sure to label your axes. *Assign your answer to an object called `count_bar_chart`.*"
   ]
  },
  {
   "cell_type": "code",
   "execution_count": null,
   "id": "d72bfa55-80ad-4607-b4ea-e03141e5f999",
   "metadata": {},
   "outputs": [],
   "source": [
    "#### YOUR CODE HERE\n",
    "count_bar_chart <- ... %>% \n",
    "  ggplot(aes(x = ..., y = ...)) + \n",
    "  geom_bar(...) +\n",
    "  labs(x = ...,\n",
    "       y = ...)\n",
    "count_bar_chart"
   ]
  },
  {
   "cell_type": "markdown",
   "id": "b42b7583-0864-4d92-b87c-b591e0e9f28d",
   "metadata": {},
   "source": [
    "**Question 2.6**\n",
    "\n",
    "The x-axis labels will probably overlap if we make the plot smaller (as we would for a consulting report), \n",
    "and we want to avoid that.\n",
    "What can we do? There are two good solutions to this problem.\n",
    "\n",
    "**Part A:** We can add a `theme` layer and rotate the labels. Choose an angle that you think is appropriate. Choose something between 20 degrees and 90  degrees for the `angle` argument. Use the `hjust = 1` argument to ensure your labels don't sit on top of the bars as you rotate them (try removing that argument and see what happens!).\n",
    "\n",
    "\n",
    "*Name the resulting plot count_bar_chart_A.*\n",
    "\n",
    "**Part B:** We can also simply use horizontal bars. Use the `coord_flip` function to achieve this effect.\n",
    "\n",
    "*Name the resulting plot count_bar_chart_B.*"
   ]
  },
  {
   "cell_type": "code",
   "execution_count": null,
   "id": "9deed23b-2c7f-4c09-9ada-7ec8dd669a4e",
   "metadata": {},
   "outputs": [],
   "source": [
    "#### YOUR CODE HERE\n",
    "# PART A\n",
    "count_bar_chart_A <- ... + \n",
    "    theme(axis.text.x = element_text(angle = ..., hjust = 1))\n",
    "count_bar_chart_A"
   ]
  },
  {
   "cell_type": "code",
   "execution_count": null,
   "id": "5645abcb-ce45-4582-9244-c5a95b029625",
   "metadata": {},
   "outputs": [],
   "source": [
    "#### YOUR CODE HERE\n",
    "# PART B\n",
    "count_bar_chart_B <- ... + \n",
    "    coord_flip()\n",
    "count_bar_chart_B"
   ]
  },
  {
   "cell_type": "markdown",
   "id": "34271d1b-dc84-4fac-bc3b-5e43e478f6be",
   "metadata": {},
   "source": [
    "**Part C:** Plot B seems to work better, but it would be great to have the bars ordered by size (that is, by restaurant count). This can be easily done in `ggplot2` by reordering the `name` variable by `n`, like so:\n",
    "\n",
    "`ggplot(aes(x = reorder(name, n), y = n))`\n",
    "\n",
    "Now copy your code from question 2.5 and reorder the `name` variable as above. Don't forget to add `coord_flip` at the end as well. \n",
    "\n",
    "*Name the resulting plot count_bar_chart_C.*"
   ]
  },
  {
   "cell_type": "code",
   "execution_count": null,
   "id": "4eb0c926-4b71-4707-8a65-bdd4f1551201",
   "metadata": {},
   "outputs": [],
   "source": [
    "#### YOUR CODE HERE\n",
    "# PART C \n",
    "count_bar_chart_C <- top_restaurants %>% \n",
    "  ggplot(aes(x = reorder(..., ...), y = ...)) +\n",
    "  geom_bar(...) +\n",
    "  labs(x = ...,\n",
    "       y = ...) +\n",
    "  coord_flip()\n",
    "count_bar_chart_C"
   ]
  },
  {
   "cell_type": "markdown",
   "id": "f6767c66-33d5-459f-b0e6-24ae12b77640",
   "metadata": {},
   "source": [
    "### Answering question 2: Is the most popular franchise consistent across the west coast?\n",
    "\n",
    "**Question 2.7**\n",
    "\n",
    "\n",
    "To answer the second question we need a data frame that has three columns: `name` (restaurant), `state`, and `n` (restaurant count). You will need to use `semi_join` to get the intersection of two data frames. In this case, you will use `semi_join` to use the names in `top_restaurants` to get the counts of each restaurant in each of the 3 states from the `fast_food` data frame. You will also need to `group_by` both `name` and `state`, and then `summarise` the counts with `n=n()`.\n",
    "Name this new data frame `top_n_state`.\n",
    " \n",
    " *If you are interested in learning more about joining data frames in R, see [this cheatsheet](https://stat545.com/bit001_dplyr-cheatsheet.html).*"
   ]
  },
  {
   "cell_type": "code",
   "execution_count": null,
   "id": "c4c69ce9-9fe6-4537-aa3a-ecdf0bf05581",
   "metadata": {},
   "outputs": [],
   "source": [
    "#### YOUR CODE HERE\n",
    "top_n_state <- fast_food %>%\n",
    "    semi_join(top_restaurants) %>% # semi_join gives the intersection of two data frames\n",
    "    filter(state %in% c(\"CA\", \"WA\", \"OR\")) %>% \n",
    "    group_by(..., ...) %>%\n",
    "    summarise(...) \n",
    "top_n_state"
   ]
  },
  {
   "cell_type": "markdown",
   "id": "43f72f89-1d90-48b2-8053-04411a19fe98",
   "metadata": {},
   "source": [
    "As you can see, the resulting data frame has only 27 rows. We could try to obtain the answer to the question just by looking at the table (just as in question 2.4). However, even though the number of rows is not large, studying the table turns out to be a painstaking task. In fact, that's what the previous consultant told the business owners to do... before being fired for it! Let's make a display that summarises all the information in a single plot.\n",
    "\n",
    "\n",
    "**Question 2.8** \n",
    "\n",
    "Plot the counts (y-axis) for the top 9 fast food restaurants (x-axis) on the west coast, **per US State** (group), as a bar chart using `geom_bar`. Use `fill = name` inside `aes` to colour the restaurants by name. Use `position = \"dodge\"` inside `geom_bar` to group the bars by state. To rename the legend, use a `labs` layer. This time within `labs` use the `fill` argument instead of colour (this is because you need to modify the aesthetic that the legend was made from, here it was fill, not colour as earlier in the worksheet).\n",
    "\n",
    "To do this fill in the `...` in the cell below. Make sure to label your axes.\n",
    "\n",
    "*Assign your answer to an object called `top_n_state_plot`.*"
   ]
  },
  {
   "cell_type": "code",
   "execution_count": null,
   "id": "1fb3a123-9dbd-4320-8580-540e31756012",
   "metadata": {},
   "outputs": [],
   "source": [
    "#### YOUR CODE HERE\n",
    "top_n_state_plot <- ... %>%\n",
    "  ggplot(aes(x = state, y = n, fill = ...)) + \n",
    "  ...(stat = ..., position = \"...\") +\n",
    "  labs(x = ...,\n",
    "       y = ...) +\n",
    "  labs(fill = \"Restaurant\") \n",
    "top_n_state_plot"
   ]
  },
  {
   "cell_type": "markdown",
   "id": "9895d31b-a080-40e7-bfd4-db263c6aeaa1",
   "metadata": {},
   "source": [
    "How easy is that for comparing the restaurants and states to answer our question: Is the most dominant/top franchise consistent across the west coast? If we carefully look at this plot we can  answer this question, but it takes us a while to process this. If we instead visualize this as a stacked bar chart using proportions instead of counts we *might* be able to do this more easily (making it a more effective visualization).\n",
    "\n",
    "\n",
    "**Question 2.9** \n",
    "\n",
    "Copy your code from Question 2.9.2 and modify `position = \"dodge\"` to `position = \"fill\"` to change from doing a grouped bar chart to a stacked bar chart with the data represented as proportions instead of counts."
   ]
  },
  {
   "cell_type": "code",
   "execution_count": null,
   "id": "679cd467-7dcc-47c6-93ee-6f7a27810322",
   "metadata": {},
   "outputs": [],
   "source": [
    "#### YOUR CODE HERE\n",
    "top_n_state_plot <- ...\n",
    "\n",
    "\n",
    "\n",
    "\n",
    "\n",
    "top_n_state_plot"
   ]
  },
  {
   "cell_type": "markdown",
   "id": "0105dc3a-6812-4084-8fdc-d62945960423",
   "metadata": {},
   "source": [
    "**Question 2.10**\n",
    "\n",
    "With this, we are ready to answer the second question.\n",
    "**Provide your answer in the Lab 4 assignment on Canvas**.\n",
    "\n",
    "Even though we were able to answer the question, the stacked bar chart still seems to be noisy.\n",
    "One way to improve it would be to change the color palette, for example.\n",
    "We will not do that here but it's important that you keep it in mind."
   ]
  },
  {
   "cell_type": "markdown",
   "id": "d5102846-f8ad-479a-81d7-a6bc27665090",
   "metadata": {},
   "source": [
    "### Answering question 3: Which state on the west coast has the smallest number of fast food restaurants?\n",
    "\n",
    "\n",
    "**Question 2.11**\n",
    "\n",
    "Finally, let's find which state on the west coast has the smallest number of fast food restaurants. We will need to use the `semi_join` strategy, as we did above, to use the names in `top_restaurants` to get the counts of each restaurant in each of the 3 states from the `fast_food` data frame. Name this data frame `state_counts`. Fill in the `...` in the cell below."
   ]
  },
  {
   "cell_type": "code",
   "execution_count": null,
   "id": "c40c6b14-baf6-4e84-a896-1ac481fd9039",
   "metadata": {},
   "outputs": [],
   "source": [
    "#### YOUR CODE HERE\n",
    "... <- fast_food %>%\n",
    "    semi_join(top_restaurants) %>% # semi_join gives the intersection of two data frames\n",
    "    filter(state %in% c(\"CA\", \"WA\", \"OR\")) %>% \n",
    "    group_by(...) %>%\n",
    "    ...(n = n()) \n",
    "state_counts"
   ]
  },
  {
   "cell_type": "markdown",
   "id": "ca6356f6-e842-4cab-8c4d-4ae33f53d061",
   "metadata": {},
   "source": [
    "**Question 2.12**\n",
    "\n",
    "Now, create a bar plot that has restaurant count on the y-axis and US state on the x-axis. Name the plot `state_counts_plot`. "
   ]
  },
  {
   "cell_type": "code",
   "execution_count": null,
   "id": "c1674fcb-4236-42f1-b203-6cd7909a6882",
   "metadata": {},
   "outputs": [],
   "source": [
    "#### YOUR CODE HERE\n",
    "state_counts_plot <- ...\n",
    "\n",
    "\n",
    "\n",
    "\n",
    "state_counts_plot"
   ]
  },
  {
   "cell_type": "markdown",
   "id": "c49a738a-e691-4b2c-b920-b37e0f0cbf5b",
   "metadata": {},
   "source": [
    "**Question 2.13.1**\n",
    "\n",
    "Great! Now we can answer the last question we are interested in.\n",
    "**Provide your answer in the Lab 4 assignment on Canvas**."
   ]
  },
  {
   "cell_type": "markdown",
   "id": "8642ca6f-de62-4a71-9561-a4da9248ecb6",
   "metadata": {},
   "source": [
    "Observe that we could again have answered the question only by viewing the table, which only has three rows. Do you believe that in this case the plot we generated helps to summarise the information in the table? Is the table too large, as in question 2.7, or is it small enough that it can be presented to the final audience---the businesspeople---to answer the question? \n",
    "\n",
    "**Question 2.13.2**\n",
    "\n",
    "You can also approach the third question from a different perspective. Consider the populations of California (39.431 million), Oregon (4.272 million) and Washington (7.958 million) as of July 1, 2024.\n",
    "Is the raw restaurant count for each state the best measure of competition? \n",
    "\n",
    "(Source: [2024 United States Census Bureau](https://www.census.gov/data/tables/time-series/demo/popest/2020s-state-total.html), visited on January 2025)\n",
    "\n",
    "Calculate the restaurant per capita for the states on the west coast by filling in the `...` in the code below."
   ]
  },
  {
   "cell_type": "code",
   "execution_count": null,
   "id": "49395f6b-4022-4d06-aabc-64f47dfcb133",
   "metadata": {},
   "outputs": [],
   "source": [
    "#### YOUR CODE HERE\n",
    "state_counts$population <- c(39.431, 4.272, 7.958)\n",
    "state_counts %>%\n",
    "  mutate(n_per_capita = ... / ...)"
   ]
  },
  {
   "cell_type": "markdown",
   "id": "3d630a22-50be-4e1f-a706-bc807d2b8ddd",
   "metadata": {},
   "source": [
    "You are encouraged to also make a plot like the one in question 2.12 to visualize this information.\n",
    "\n",
    "\n",
    "**Question 2.13.3**:\n",
    "Which state (CA, OR, WA) has the least number of fast food restaurants *per capita*?\n",
    "**Provide your answer in the Lab 4 assignment on Canvas**.\n"
   ]
  },
  {
   "cell_type": "markdown",
   "id": "cc8a1cb5-185b-4567-9e72-9cb685865fd4",
   "metadata": {},
   "source": [
    "### Final recommendation to client\n",
    "\n",
    "Now that we answered the research questions, it is good practice to think about what our final recommendation to the businesspeople will be. Recall that they wish to set up a restaurant from a consistently popular franchise in the least competitive west coast state (measured by number of restaurants).\n",
    "\n",
    "**Question 2.14**\n",
    "Which franchise would you recommend the client to set up?\n",
    "Based on questions 2.13.1 and 2.13.3, which states could you recommend the client to set up their restaurant on?\n",
    "**Provide your answer in the Lab 4 assignment on Canvas**.\n",
    "\n",
    "Finally, reflect on which of the visualizations we produced would better support your recommendation. How many plots would you include? Which ones? Why? Are some tables better than the corresponding plots at presenting the information?"
   ]
  },
  {
   "cell_type": "markdown",
   "id": "e6dbfd31-434f-4a72-b359-3fc6b11b3b71",
   "metadata": {},
   "source": [
    "## About\n",
    "\n",
    "This worksheet was adapted from the\n",
    "[Effective Data Visualization with R](https://statspace.elearning.ubc.ca/handle/123456789/332) resource."
   ]
  }
 ],
 "metadata": {
  "kernelspec": {
   "display_name": "R",
   "language": "R",
   "name": "ir"
  },
  "language_info": {
   "codemirror_mode": "r",
   "file_extension": ".r",
   "mimetype": "text/x-r-source",
   "name": "R",
   "pygments_lexer": "r",
   "version": "4.4.1"
  }
 },
 "nbformat": 4,
 "nbformat_minor": 5
}
