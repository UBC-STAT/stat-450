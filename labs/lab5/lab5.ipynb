{
 "cells": [
  {
   "cell_type": "markdown",
   "id": "joint-muscle",
   "metadata": {},
   "source": [
    "# Lab 5 - logistic regression\n",
    "\n",
    "STAT 450\\\n",
    "TA: Gian Carlo Diluvi\\\n",
    "February 7, 2025"
   ]
  },
  {
   "cell_type": "code",
   "execution_count": null,
   "id": "opening-error",
   "metadata": {},
   "outputs": [],
   "source": [
    "# preamble\n",
    "library(tidyverse)\n",
    "ggplot2::theme_set(theme_classic())\n",
    "options(repr.plot.width=15, repr.plot.height=7.5)"
   ]
  },
  {
   "cell_type": "markdown",
   "id": "realistic-attraction",
   "metadata": {},
   "source": [
    "## Data loading\n",
    "\n",
    "Let's load the data and plot it."
   ]
  },
  {
   "cell_type": "code",
   "execution_count": null,
   "id": "mature-nelson",
   "metadata": {},
   "outputs": [],
   "source": [
    "challenger <- readr::read_delim('o-ring-erosion-or-blowby.data', col_types = 'id') %>% \n",
    "    dplyr::mutate(distress = pmin(1L,num_distress),       # convert to binary\n",
    "                 launch_temp = (launch_temp-32)*5/9) %>%  # convert to celsius\n",
    "    dplyr::select(distress, launch_temp)\n",
    "challenger"
   ]
  },
  {
   "cell_type": "code",
   "execution_count": null,
   "id": "demanding-ecology",
   "metadata": {},
   "outputs": [],
   "source": [
    "challenger %>% \n",
    "    ggplot(aes(x = launch_temp, y = distress)) +\n",
    "    geom_point(size=4) +\n",
    "    theme(text = element_text(size=25)) +\n",
    "    scale_y_continuous(breaks=0:1) +\n",
    "    labs(x=\"Launch temperature (°C)\",\n",
    "        y = \"O-ring failure status\")"
   ]
  },
  {
   "cell_type": "markdown",
   "id": "centered-implementation",
   "metadata": {},
   "source": [
    "## Fitting a logistic regression to the Challenger data\n",
    "\n",
    "We use the `glm` function in R."
   ]
  },
  {
   "cell_type": "code",
   "execution_count": null,
   "id": "stuffed-extra",
   "metadata": {},
   "outputs": [],
   "source": [
    "logit_mod <- glm(distress ~ launch_temp, family = \"binomial\", data = challenger)\n",
    "summary(logit_mod)"
   ]
  },
  {
   "cell_type": "markdown",
   "id": "presidential-richards",
   "metadata": {},
   "source": [
    "The summary gives us the estimates,\n",
    "and it also prints out information about the optimization algorithm used to find the MLE.\n",
    "\n",
    "Now let's plot the estimated probability of failure as a function of temperature, i.e.,\n",
    "\n",
    "$$\n",
    "    \\hat{p_n} = \\frac{1}{1+\\exp(-(\\hat{\\beta}_0 + \\hat{\\beta}_1 x_n))}.\n",
    "$$"
   ]
  },
  {
   "cell_type": "code",
   "execution_count": null,
   "id": "natural-scratch",
   "metadata": {},
   "outputs": [],
   "source": [
    "challenger %>% \n",
    "    ggplot(aes(x = launch_temp, y = distress)) +\n",
    "    geom_point(size=4) +\n",
    "    theme(text = element_text(size=25)) +\n",
    "    scale_y_continuous(breaks=0:1) +\n",
    "    labs(x=\"Launch temperature (°C)\",\n",
    "        y = \"O-ring failure status\") +\n",
    "    geom_smooth(method = \"glm\", formula = y~x, method.args = list(family = \"binomial\"), se = FALSE)"
   ]
  },
  {
   "cell_type": "markdown",
   "id": "previous-lindsay",
   "metadata": {},
   "source": [
    "We can also predict the probability of a failure ocurring at -0.6°C\n",
    "just like we would in a linear regression."
   ]
  },
  {
   "cell_type": "code",
   "execution_count": null,
   "id": "involved-pittsburgh",
   "metadata": {},
   "outputs": [],
   "source": [
    "estimated_failure_prb <- function(x) predict.glm(logit_mod, newdata = data.frame(launch_temp = x), type=\"response\")\n",
    "print(paste0(\"Estimated probability of failure at -0.6°C: \", estimated_failure_prb(-0.6)))"
   ]
  },
  {
   "cell_type": "markdown",
   "id": "9592690b-ac9e-489e-b3b1-b8b8915554b1",
   "metadata": {},
   "source": [
    "### Now your turn!\n",
    "\n",
    "We want to find the temperature $x$ at which the launch would be safe.\n",
    "\n",
    "For illustration, suppose we want to guarantee that the predicted probability\n",
    "of rocket failure $\\hat{p}(x)$ is at most 50%.\n",
    "\n",
    "We can use the `uniroot` function from the `stats` package\n",
    "to find the value of $x$ such that $\\hat{p}(x) = 0.5$.\n",
    "Since `uniroot` looks for values of $x$ where the function is 0, rather than 0.5,\n",
    "we have to first modify our failure probability function from above:"
   ]
  },
  {
   "cell_type": "code",
   "execution_count": null,
   "id": "d6cfbad2-fb84-47d4-a199-f498100bd88c",
   "metadata": {},
   "outputs": [],
   "source": [
    "myfn <- function(x) estimated_failure_prb(x)-0.5"
   ]
  },
  {
   "cell_type": "markdown",
   "id": "dc58123f-e997-4611-853e-44fa0a81d568",
   "metadata": {},
   "source": [
    "That way, if `myfn(x) = 0` then $\\hat{p}(x) = 0.5$.\n",
    "\n",
    "Now we find the root of `myfn`:"
   ]
  },
  {
   "cell_type": "code",
   "execution_count": null,
   "id": "608a7bb5-2bf3-4bc0-b1bd-36352abe96a8",
   "metadata": {},
   "outputs": [],
   "source": [
    "uniroot(myfn, interval = c(10., 30.))"
   ]
  },
  {
   "cell_type": "markdown",
   "id": "717339bc-8869-43cc-8825-5ca83599173e",
   "metadata": {},
   "source": [
    "The value of `$root` is what we are looking for: $x = 18.219$.\n",
    "\n",
    "Since the predicted probability function is monotone decreasing,\n",
    "any temperature greater than 18.22°C will have a probability of failure\n",
    "at most 50%&mdash;what we wanted!\n",
    "\n",
    "Check it out by yourself:"
   ]
  },
  {
   "cell_type": "code",
   "execution_count": null,
   "id": "5ca65935-5fae-492c-bc1e-76e644c10f30",
   "metadata": {},
   "outputs": [],
   "source": [
    "estimated_failure_prb(18.22)"
   ]
  },
  {
   "cell_type": "markdown",
   "id": "b4f7d449-c4d8-42ea-b4b2-2f2bc7a5fa9b",
   "metadata": {},
   "source": [
    "### Question 1\n",
    "\n",
    "Suppose that we want the (predicted) probability of O-ring failure to be at most 5%.\n",
    "**What is the minimum temperature $x$ that guarantees this?**\n",
    "\n",
    "Provide your answer on Canvas!\n",
    "\n",
    "Fill in the `...` below to find the answer."
   ]
  },
  {
   "cell_type": "code",
   "execution_count": null,
   "id": "9b5b63ae-380d-41bd-a695-8b6f88686682",
   "metadata": {},
   "outputs": [],
   "source": [
    "#### YOUR CODE HERE\n",
    "myfn <- function(x) estimated_failure_prb(x)-...\n",
    "uniroot(..., interval = c(10., 30.))"
   ]
  },
  {
   "cell_type": "markdown",
   "id": "69686c63-9cee-4176-9b76-cf653c5e9413",
   "metadata": {},
   "source": [
    "Check that you are correct by inputing the `$root` value that you found above in the cell below:"
   ]
  },
  {
   "cell_type": "code",
   "execution_count": null,
   "id": "a99e47af-1f1f-4bea-9043-3452e2bbe8f9",
   "metadata": {},
   "outputs": [],
   "source": [
    "#### YOUR CODE HERE\n",
    "estimated_failure_prb(...)"
   ]
  },
  {
   "cell_type": "markdown",
   "id": "b1ae88ac-dcbf-41c6-b78c-7c40c0154dbf",
   "metadata": {},
   "source": [
    "## Nested models\n",
    "\n",
    "Test your understanding of the likelihood ratio test for nested models.\n",
    "\n",
    "Below, we generate a new covariate $z_n\\sim\\mathcal{N}(0,1)$.\n",
    "Your task is to determine whether it's worth including\n",
    "this additional data in the model.\n",
    "\n",
    "Specifically, you wish to compare\n",
    "$$\n",
    "    \\log\\frac{p_n}{1-p_n} = \\beta_0 + \\beta_1 x_n\n",
    "    \\qquad\\text{vs}\\qquad\n",
    "    \\log\\frac{p_n}{1-p_n} = \\beta_0 + \\beta_1 x_n + \\beta_2 z_n,\n",
    "$$\n",
    "where $x_n$ is the temperature from the Challenger data."
   ]
  },
  {
   "cell_type": "code",
   "execution_count": null,
   "id": "960d94f6-5bea-4c25-8ec8-8b8526f95423",
   "metadata": {},
   "outputs": [],
   "source": [
    "set.seed(450)\n",
    "challenger <- challenger %>%\n",
    "    dplyr::mutate(z = rnorm(n = 23)) %>%\n",
    "    dplyr::select(distress, launch_temp, z)"
   ]
  },
  {
   "cell_type": "markdown",
   "id": "45ea3927-d949-4b0a-a5f8-de4e924e986f",
   "metadata": {},
   "source": [
    "Below, we fit the small model, which only includes temperature:"
   ]
  },
  {
   "cell_type": "code",
   "execution_count": null,
   "id": "55cb241c-5993-4c6b-baa9-313b62c64a8e",
   "metadata": {},
   "outputs": [],
   "source": [
    "mod_small <- glm(distress ~ launch_temp, family = \"binomial\", data = challenger)"
   ]
  },
  {
   "cell_type": "markdown",
   "id": "499fbd81-1ee4-485d-ab59-fcee017d8c34",
   "metadata": {},
   "source": [
    "Now your turn!\n",
    "\n",
    "Fill in the `...` below to fit the large model to the data."
   ]
  },
  {
   "cell_type": "code",
   "execution_count": null,
   "id": "9cf91665-13bb-461c-8ddc-e96be8096822",
   "metadata": {},
   "outputs": [],
   "source": [
    "#### YOUR CODE HERE\n",
    "mod_large <- glm(distress ~ launch_temp + ..., family = ..., data = challenger)"
   ]
  },
  {
   "cell_type": "markdown",
   "id": "2477008e-bdef-4365-a255-5a7667835d56",
   "metadata": {},
   "source": [
    "### Question 2\n",
    "\n",
    "Print out the summary of each model by filling in the `...` below."
   ]
  },
  {
   "cell_type": "code",
   "execution_count": null,
   "id": "6e29bd95-8a00-4912-85ac-d22b46e3b07c",
   "metadata": {},
   "outputs": [],
   "source": [
    "#### YOUR CODE HERE\n",
    "summary(..._small)"
   ]
  },
  {
   "cell_type": "code",
   "execution_count": null,
   "id": "7b9ff48f-5224-4e48-8b14-903655ff1e47",
   "metadata": {},
   "outputs": [],
   "source": [
    "#### YOUR CODE HERE\n",
    "summary(..._large)"
   ]
  },
  {
   "cell_type": "markdown",
   "id": "ba096380-834c-47c8-941d-3db33c223717",
   "metadata": {},
   "source": [
    "**What is the deviance of the small model? And the deviance of the large model?**\n",
    "\n",
    "Provide your answer on Canvas."
   ]
  },
  {
   "cell_type": "markdown",
   "id": "d7e87857-2418-4b02-b18b-97af8e5e3e8c",
   "metadata": {},
   "source": [
    "### Question 3\n",
    "\n",
    "Fill in the `...` below to find the observed test statistic and critical value.\n",
    "Use a confidence level of $\\alpha = 0.05$.\n",
    "\n",
    "*Hint: recall that $d$,\n",
    "the degrees of freedom of the asymptotic $\\chi_d^2$ distribution of the test statistics,\n",
    "is the number of parameters of the large model minus the number of parameters of the small model.*"
   ]
  },
  {
   "cell_type": "code",
   "execution_count": null,
   "id": "a1642f3e-90bc-477b-b6ed-a41fbbb6a8ca",
   "metadata": {},
   "outputs": [],
   "source": [
    "alpha = ...\n",
    "d = ...\n",
    "\n",
    "R_obs <- mod_...$deviance - mod_...$deviance\n",
    "critical_value <- qchisq(p = 1.-alpha, df = d)\n",
    "\n",
    "print(paste0(\"The observed test statistic is R = \", R_obs))\n",
    "print(paste0(\"The critical value is X_{d,1-alpha}^2 = \", critical_value))"
   ]
  },
  {
   "cell_type": "markdown",
   "id": "fcd0661d-cd94-4239-931f-09b47bb6e8a6",
   "metadata": {},
   "source": [
    "**What are the observed test statistic and the critical value?**\n",
    "\n",
    "Provide your answer on Canvas."
   ]
  },
  {
   "cell_type": "markdown",
   "id": "2a8c89b0-68d6-4a3b-a1e1-8853edb85aaf",
   "metadata": {},
   "source": [
    "### Question 4\n",
    "\n",
    "**Do you have enough evidence to reject the null hypothesis?**\n",
    "\n",
    "Provide your answer on Canvas. \n",
    "You have to state it as a full answer to the hypothesis test we set up.\n"
   ]
  },
  {
   "cell_type": "markdown",
   "id": "aaaf4c39-64ac-40f5-b1ce-4ff179c38274",
   "metadata": {},
   "source": [
    "**You're done!** \n",
    "Go enjoy your Friday, \n",
    "but if you have time and want to check out the code for diagnostic plots,\n",
    "see below.\n",
    "\n",
    "I also have some info on other generalized linear models, \n",
    "in case you want to read more."
   ]
  },
  {
   "cell_type": "markdown",
   "id": "5ce70899-3cfc-4080-855c-8db9836853e3",
   "metadata": {},
   "source": [
    "## Other useful things we learned about\n",
    "\n",
    "In case you want the code to generate the plots I showed in the slides."
   ]
  },
  {
   "cell_type": "code",
   "execution_count": null,
   "id": "ef9bf928-265b-4b21-b9dc-f9b76de85d14",
   "metadata": {},
   "outputs": [],
   "source": [
    "challenger <- challenger %>% \n",
    "    dplyr::mutate(phat = predict.glm(mod_small, type=\"response\")) %>% \n",
    "    dplyr::select(launch_temp, distress, phat)"
   ]
  },
  {
   "cell_type": "markdown",
   "id": "timely-distance",
   "metadata": {},
   "source": [
    "**Value-prediction plot.**\n",
    "\n",
    "Useful to make sure predictions are not way off.\n",
    "\n",
    "On the x-axis you plot your predicted probability and \n",
    "on the y-axis you plot the true value of the response variable."
   ]
  },
  {
   "cell_type": "code",
   "execution_count": null,
   "id": "sophisticated-antenna",
   "metadata": {},
   "outputs": [],
   "source": [
    "challenger %>% \n",
    "    ggplot(aes(x = phat, y = distress)) +\n",
    "    geom_point(size=4) +\n",
    "    theme(text = element_text(size=25)) +\n",
    "    scale_y_continuous(breaks=0:1) +\n",
    "    labs(x = expression(hat(p)),\n",
    "        y = \"O-ring failure status\")"
   ]
  },
  {
   "cell_type": "markdown",
   "id": "experimental-entrance",
   "metadata": {},
   "source": [
    "In general,\n",
    "you want to have many points in the lower-left and upper-right corners,\n",
    "and few points in the other two corners."
   ]
  },
  {
   "cell_type": "markdown",
   "id": "freelance-arlington",
   "metadata": {},
   "source": [
    "**Generating data from predicted values.**\n",
    "\n",
    "For each $x_n$ we can estimate $\\hat{p}_n$ as before.\n",
    "We can then generate $\\tilde{Y}_n \\sim \\mathrm{Bernoulli}(\\hat{p}_n)$\n",
    "and plot the generated data against the true data."
   ]
  },
  {
   "cell_type": "code",
   "execution_count": null,
   "id": "surprising-savage",
   "metadata": {},
   "outputs": [],
   "source": [
    "challenger %>% \n",
    "    ggplot(aes(x=launch_temp)) +\n",
    "    geom_point(aes(y=distress), size=5) +\n",
    "    geom_point(aes(y=rbinom(23,1,phat)+rnorm(1,0,0.04)), color = \"blue\", alpha=0.5, size=3) +\n",
    "    theme(text = element_text(size=25)) +\n",
    "    scale_y_continuous(breaks=0:1) +\n",
    "    labs(x=\"Launch temperature (°C)\",\n",
    "        y = \"O-ring failure status\")"
   ]
  },
  {
   "cell_type": "markdown",
   "id": "printable-swift",
   "metadata": {},
   "source": [
    "Now do it multiple times!"
   ]
  },
  {
   "cell_type": "code",
   "execution_count": null,
   "id": "certain-parliament",
   "metadata": {},
   "outputs": [],
   "source": [
    "plot <- challenger %>% \n",
    "    ggplot(aes(x=launch_temp)) +\n",
    "    geom_point(aes(y=distress), size=5)\n",
    "for(i in 1:100){\n",
    "    plot <- plot +\n",
    "    geom_point(aes(y=rbinom(23,1,phat)+rnorm(1,0,0.03)), color = \"blue\", alpha=0.1, size=3)\n",
    "}\n",
    "plot +\n",
    "    geom_point(aes(y=distress), size=5) +\n",
    "    theme(text = element_text(size=25)) +\n",
    "    scale_y_continuous(breaks=0:1) +\n",
    "    labs(x=\"Launch temperature (°C)\",\n",
    "        y = \"O-ring failure status\")"
   ]
  },
  {
   "cell_type": "markdown",
   "id": "beautiful-excitement",
   "metadata": {},
   "source": [
    "## Further reading: Generalized linear models\n",
    "\n",
    "These are a generalization of linear models (duh) due to [Nelder and Wedderburn (1972)](https://www.jstor.org/stable/2344614?origin=crossref&seq=1#metadata_info_tab_contents)\n",
    "(but also see\n",
    "[McCullagh and Nelder (1989)](http://www.utstat.toronto.edu/~brunner/oldclass/2201s11/readings/glmbook.pdf)).\n",
    "Logistic regression is a GLM, as are many other models.\n",
    "The definition builds on the random and systemic components we discussed before.\n",
    "\n",
    "\n",
    "**Random component.**\n",
    "\n",
    "As before, we assume that the observations $y_1,\\dots,y_N$ are realizations of a random variable.\n",
    "The only condition here is that the distribution of the response variable $Y_i$\n",
    "has to be in the [exponential family of distributions](https://en.wikipedia.org/wiki/Exponential_family).\n",
    "\n",
    "Without getting into details,\n",
    "it turns out that many popular distributions are in the exponential family:\n",
    "- Bernoulli,\n",
    "- Binomial,\n",
    "- Gaussian,\n",
    "- Poisson,\n",
    "- Exponential,\n",
    "- Gamma,\n",
    "- Beta,\n",
    "- many others!\n",
    "\n",
    "\n",
    "**Systematic component.**\n",
    "\n",
    "Here we also have the same basic principle.\n",
    "If $\\mu_n$ is the expectation of $Y_n$ (given the data!) then we try to estimate it\n",
    "using a linear combination of covariates, $\\beta_0+\\beta_1 x_n$.\n",
    "\n",
    "To ensure that we can equate $\\mu_n$ with $\\beta_0+\\beta_1 x_n$,\n",
    "we need a *link function* $g$ such that\n",
    "\n",
    "$$\n",
    "    g(\\mu_n) = \\beta_0+\\beta_1 x_n, \\qquad n=1,\\dots,N.\n",
    "$$\n",
    "\n",
    "The link function is not unique,\n",
    "and indeed different choices lead to different models.\n",
    "\n",
    "\n",
    "**GLMs.**\n",
    "\n",
    "A GLM can thus be specified as:\n",
    "\n",
    "$$\n",
    "    Y_n \\sim f, \\qquad f \\text{ in exponential family with mean } \\mu_n, \\qquad\n",
    "    g(\\mu_n) = \\beta_0 + \\beta_1 x_n.\n",
    "$$\n",
    "\n",
    "Here are some popular combinations of random components and link functions:\n",
    "\n",
    "\n",
    "| distribution of $Y_n$       | mean $\\mu_n$ | link $g(\\mu)$            | name                  |\n",
    "|-----------------------------|--------------|--------------------------|-----------------------|\n",
    "| $\\mathcal{N}(\\mu,\\sigma^2)$ | $mu$         | $\\mu$                    | linear regression     |\n",
    "| Bernoulli$(p)$              | $p$          | $\\log \\frac{\\mu}{1-\\mu}$ | logistic regression   |\n",
    "| Poisson$(\\lambda)$          | $\\lambda$    | $\\log(\\mu)$              | Poisson regression    |\n",
    "| Gamma$(a,b)$                | $a/b$        | $-1/\\mu$                 | Gamma regression      |\n",
    "\n",
    "**Fitting GLMs.**\n",
    "\n",
    "Other than for Gaussian data,\n",
    "there are no closed-form solutions for the MLEs.\n",
    "But, off-the-shelf optimization algorithms can be used to find MLEs for each case.\n",
    "These are already implemented in R (and Python and Julia and...)."
   ]
  }
 ],
 "metadata": {
  "kernelspec": {
   "display_name": "R",
   "language": "R",
   "name": "ir"
  },
  "language_info": {
   "codemirror_mode": "r",
   "file_extension": ".r",
   "mimetype": "text/x-r-source",
   "name": "R",
   "pygments_lexer": "r",
   "version": "4.4.1"
  }
 },
 "nbformat": 4,
 "nbformat_minor": 5
}
